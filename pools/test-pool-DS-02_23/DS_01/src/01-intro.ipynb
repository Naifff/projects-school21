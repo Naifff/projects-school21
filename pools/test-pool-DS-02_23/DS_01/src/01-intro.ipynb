{
 "cells": [
  {
   "cell_type": "markdown",
   "metadata": {
    "jupyter": {
     "outputs_hidden": true
    }
   },
   "source": [
    "# Введение в Python"
   ]
  },
  {
   "cell_type": "markdown",
   "metadata": {},
   "source": [
    "## Немного о Jupyter"
   ]
  },
  {
   "cell_type": "markdown",
   "metadata": {},
   "source": [
    "Добро пожаловать в [Jupyter](https://jupyter.org/)\n",
    "\n",
    "Jupyter - это интерактивная веб-среда разработки для блокнотов, кода и данных. Ее гибкий интерфейс позволяет пользователям настраивать и организовывать рабочие процессы в области науки о данных, научных вычислений, вычислительной журналистики и машинного обучения. Модульный дизайн позволяет использовать расширения для расширения и обогащения функциональности."
   ]
  },
  {
   "cell_type": "markdown",
   "metadata": {},
   "source": [
    "В нем можно как писать Python код и его исполнять.\n",
    "Для этого нужно написать сам код в ячейке и нажать исполнить ячейку (горячая клавиша Shift+Enter) "
   ]
  },
  {
   "cell_type": "code",
   "execution_count": 1,
   "metadata": {},
   "outputs": [
    {
     "name": "stdout",
     "output_type": "stream",
     "text": [
      "Hello World!\n"
     ]
    }
   ],
   "source": [
    "print(\"Hello World!\")"
   ]
  },
  {
   "cell_type": "markdown",
   "metadata": {},
   "source": [
    "__Внимание__: Код с JupyterNotebooks выполняется по порядку исполнения ячейки, а не по порядку нахождения ячеек. \n",
    "Из-за этого очень легко словить ошибку. Следите за порядком исполенения ячеек."
   ]
  },
  {
   "cell_type": "markdown",
   "metadata": {},
   "source": [
    "Также Jupyter позволяет писать текст в Markdown разметке или Latex.\n",
    "И даже вставлять изображения.\n",
    "Все это делает Jupyter очень удобной для проведения исследований.\n",
    "Подробнее прочитать можно [тут](https://towardsdatascience.com/write-markdown-latex-in-the-jupyter-notebook-10985edb91fd)\n",
    "\n",
    "Вернемся к Python"
   ]
  },
  {
   "cell_type": "markdown",
   "metadata": {},
   "source": [
    "<center><img src=\"../misc/images/python.jpg\" width=\"440\" height=\"440\"/> <center/>"
   ]
  },
  {
   "cell_type": "markdown",
   "metadata": {},
   "source": [
    "## Zen of Python"
   ]
  },
  {
   "cell_type": "markdown",
   "metadata": {},
   "source": [
    "Язык Python отличается лаконичным синтаксисом, поэтому на нем и читать чужой код, и писать свой\n",
    "очень просто. Разработчики языка придерживаются философии, называемой «The Zen of Python». C ней можно познакомиться введя ```import this```"
   ]
  },
  {
   "cell_type": "code",
   "execution_count": 2,
   "metadata": {},
   "outputs": [
    {
     "name": "stdout",
     "output_type": "stream",
     "text": [
      "The Zen of Python, by Tim Peters\n",
      "\n",
      "Beautiful is better than ugly.\n",
      "Explicit is better than implicit.\n",
      "Simple is better than complex.\n",
      "Complex is better than complicated.\n",
      "Flat is better than nested.\n",
      "Sparse is better than dense.\n",
      "Readability counts.\n",
      "Special cases aren't special enough to break the rules.\n",
      "Although practicality beats purity.\n",
      "Errors should never pass silently.\n",
      "Unless explicitly silenced.\n",
      "In the face of ambiguity, refuse the temptation to guess.\n",
      "There should be one-- and preferably only one --obvious way to do it.\n",
      "Although that way may not be obvious at first unless you're Dutch.\n",
      "Now is better than never.\n",
      "Although never is often better than *right* now.\n",
      "If the implementation is hard to explain, it's a bad idea.\n",
      "If the implementation is easy to explain, it may be a good idea.\n",
      "Namespaces are one honking great idea -- let's do more of those!\n"
     ]
    }
   ],
   "source": [
    "import this "
   ]
  },
  {
   "cell_type": "markdown",
   "metadata": {},
   "source": [
    "__Перевод принципов:__\n",
    "\n",
    "Красивое лучше, чем уродливое.\\\n",
    "Явное лучше, чем неявное.\\\n",
    "Простое лучше, чем сложное.\\\n",
    "Сложное лучше, чем запутанное.\\\n",
    "Плоское лучше, чем вложенное.\\\n",
    "Разреженное лучше, чем плотное.\\\n",
    "Читаемость имеет значение.\\\n",
    "Особые случаи не настолько особые, чтобы нарушать правила.\\\n",
    "При этом практичность важнее безупречности.\\\n",
    "Ошибки никогда не должны замалчиваться.\\\n",
    "Если они не замалчиваются явно.\\\n",
    "Встретив двусмысленность, отбрось искушение угадать.\\\n",
    "Должен существовать один и, желательно, только один очевидный способ сделать это.\\\n",
    "Хотя он поначалу может быть и не очевиден, если вы не голландец.\\\n",
    "Сейчас лучше, чем никогда.Хотя никогда зачастую лучше, чем прямо сейчас.\\\n",
    "Если реализацию сложно объяснить — идея плоха.Если реализацию легко объяснить — идея, возможно, хороша.\\\n",
    "Пространства имён — отличная штука! Будем делать их больше!"
   ]
  },
  {
   "cell_type": "markdown",
   "metadata": {},
   "source": [
    "**P.S** Большенство информации, статей, документаций на английском языке. Привыкайте или вооружайтесь переводчиками:)"
   ]
  },
  {
   "cell_type": "markdown",
   "metadata": {},
   "source": [
    "## PEP8 - стиль кода в языке Python\n",
    "Код гораздо чаще читают, чем пишут. Поэтоу один из важных постулатов Python - **Readability counts**.\\\n",
    "Поэтому было разработано соглашению по стилю написания кода **PEP8**\n",
    "\n",
    "Этот документ описывает соглашение о том, как писать код для языка Python, включая стандартную библиотеку, входящую в состав Python. \n",
    "\n",
    "Просмотрите [соглашение](https://peps.python.org/pep-0008/). К нему мы еще вернемся.\n"
   ]
  },
  {
   "cell_type": "markdown",
   "metadata": {},
   "source": [
    "# Основы синтаксиса"
   ]
  },
  {
   "cell_type": "markdown",
   "metadata": {},
   "source": [
    "## Переменные"
   ]
  },
  {
   "cell_type": "markdown",
   "metadata": {},
   "source": [
    "Имя, которое используется для обозначения какого либо значения, называется переменной. В Python переменные объявляются значения следующим образом:"
   ]
  },
  {
   "cell_type": "code",
   "execution_count": 3,
   "metadata": {},
   "outputs": [],
   "source": [
    "x = 21 # операция присваивания переменной x значения 21\n",
    "y = 'Cбер' # операция присваивания переменной y строки 'Сбер'"
   ]
  },
  {
   "cell_type": "markdown",
   "metadata": {},
   "source": [
    "В Python конец строки является концом инструкции. Никаких символов на конце не требуется. \\\n",
    "Теперь наши значения хранятся в переменных **x** и **y**. Можем в этом убериться, выведя эти переменные.\n",
    "Воспользуемся функцией ```print()``` для вывода."
   ]
  },
  {
   "cell_type": "code",
   "execution_count": 4,
   "metadata": {},
   "outputs": [
    {
     "name": "stdout",
     "output_type": "stream",
     "text": [
      "21\n",
      "Cбер\n"
     ]
    }
   ],
   "source": [
    "print(x)\n",
    "print(y)"
   ]
  },
  {
   "cell_type": "markdown",
   "metadata": {},
   "source": [
    "Для ввод данных из консоли можем воспользоваться функцией ```input()```"
   ]
  },
  {
   "cell_type": "code",
   "execution_count": 6,
   "metadata": {},
   "outputs": [
    {
     "name": "stdout",
     "output_type": "stream",
     "text": [
      " 21\n"
     ]
    }
   ],
   "source": [
    "a = input()"
   ]
  },
  {
   "cell_type": "code",
   "execution_count": 7,
   "metadata": {},
   "outputs": [
    {
     "name": "stdout",
     "output_type": "stream",
     "text": [
      "21\n"
     ]
    }
   ],
   "source": [
    "print(a)"
   ]
  },
  {
   "cell_type": "markdown",
   "metadata": {},
   "source": [
    "Правила для названия переменной:\n",
    "* Допустимые символы в названиях переменной: буквы, цифры, _ (подчеркивание)\n",
    "* Начинаться только с буквы или _"
   ]
  },
  {
   "cell_type": "code",
   "execution_count": 8,
   "metadata": {},
   "outputs": [],
   "source": [
    "name = 1\n",
    "_name = 2\n",
    "name_21 = 21"
   ]
  },
  {
   "cell_type": "markdown",
   "metadata": {},
   "source": [
    "Попробуем начать название с цифры"
   ]
  },
  {
   "cell_type": "code",
   "execution_count": 9,
   "metadata": {},
   "outputs": [
    {
     "ename": "SyntaxError",
     "evalue": "invalid decimal literal (336754755.py, line 1)",
     "output_type": "error",
     "traceback": [
      "\u001b[0;36m  Cell \u001b[0;32mIn[9], line 1\u001b[0;36m\u001b[0m\n\u001b[0;31m    1_num = 1 # Получаем SyntaxError - ошибку синтаксиса\u001b[0m\n\u001b[0m     ^\u001b[0m\n\u001b[0;31mSyntaxError\u001b[0m\u001b[0;31m:\u001b[0m invalid decimal literal\n"
     ]
    }
   ],
   "source": [
    "1_num = 1 # Получаем SyntaxError - ошибку синтаксиса"
   ]
  },
  {
   "cell_type": "markdown",
   "metadata": {},
   "source": [
    "Также можно менять значений переменных местами"
   ]
  },
  {
   "cell_type": "code",
   "execution_count": 10,
   "metadata": {},
   "outputs": [],
   "source": [
    "a = 1\n",
    "b = 2"
   ]
  },
  {
   "cell_type": "code",
   "execution_count": 11,
   "metadata": {},
   "outputs": [],
   "source": [
    "a, b = b, a"
   ]
  },
  {
   "cell_type": "code",
   "execution_count": 12,
   "metadata": {},
   "outputs": [
    {
     "data": {
      "text/plain": [
       "2"
      ]
     },
     "execution_count": 12,
     "metadata": {},
     "output_type": "execute_result"
    }
   ],
   "source": [
    "a"
   ]
  },
  {
   "cell_type": "code",
   "execution_count": 13,
   "metadata": {},
   "outputs": [
    {
     "data": {
      "text/plain": [
       "1"
      ]
     },
     "execution_count": 13,
     "metadata": {},
     "output_type": "execute_result"
    }
   ],
   "source": [
    "b"
   ]
  },
  {
   "cell_type": "markdown",
   "metadata": {},
   "source": [
    "## Базовые типы"
   ]
  },
  {
   "cell_type": "markdown",
   "metadata": {},
   "source": [
    "### Числа\n",
    "Рассмотрим базовые численные типы"
   ]
  },
  {
   "cell_type": "code",
   "execution_count": 14,
   "metadata": {},
   "outputs": [],
   "source": [
    "a = 21 # int (целые числа)\n",
    "b = 3.141592 # float (числа с плавающей запятой)"
   ]
  },
  {
   "cell_type": "markdown",
   "metadata": {},
   "source": [
    "С помощью функции ```type()``` можно узнать тип объекта:"
   ]
  },
  {
   "cell_type": "code",
   "execution_count": 15,
   "metadata": {},
   "outputs": [
    {
     "data": {
      "text/plain": [
       "int"
      ]
     },
     "execution_count": 15,
     "metadata": {},
     "output_type": "execute_result"
    }
   ],
   "source": [
    "type(a)"
   ]
  },
  {
   "cell_type": "code",
   "execution_count": 16,
   "metadata": {},
   "outputs": [
    {
     "data": {
      "text/plain": [
       "float"
      ]
     },
     "execution_count": 16,
     "metadata": {},
     "output_type": "execute_result"
    }
   ],
   "source": [
    "type(b)"
   ]
  },
  {
   "cell_type": "markdown",
   "metadata": {},
   "source": [
    "Давайте попробуем ввести число 21 в консоль"
   ]
  },
  {
   "cell_type": "code",
   "execution_count": 17,
   "metadata": {},
   "outputs": [
    {
     "name": "stdout",
     "output_type": "stream",
     "text": [
      " 21\n"
     ]
    }
   ],
   "source": [
    "a = input()"
   ]
  },
  {
   "cell_type": "code",
   "execution_count": 18,
   "metadata": {},
   "outputs": [
    {
     "data": {
      "text/plain": [
       "str"
      ]
     },
     "execution_count": 18,
     "metadata": {},
     "output_type": "execute_result"
    }
   ],
   "source": [
    "type(a) # Тип строка"
   ]
  },
  {
   "cell_type": "markdown",
   "metadata": {},
   "source": [
    "Наше считанное значение является строкой, а не int, как мы ожидали. Функция ```input()``` после считывания из консоли возращает тип str. Давайте приведем переменную к типу int."
   ]
  },
  {
   "cell_type": "code",
   "execution_count": 19,
   "metadata": {},
   "outputs": [
    {
     "data": {
      "text/plain": [
       "int"
      ]
     },
     "execution_count": 19,
     "metadata": {},
     "output_type": "execute_result"
    }
   ],
   "source": [
    "a = int(a)\n",
    "type(a) # Теперь наша переменная стала типа int"
   ]
  },
  {
   "cell_type": "markdown",
   "metadata": {},
   "source": [
    "Подробнее про числовые типы вы можете прочитать [тут](https://docs.python.org/3/library/stdtypes.html#numeric-types-int-float-complex)"
   ]
  },
  {
   "cell_type": "markdown",
   "metadata": {},
   "source": [
    "### Булевый тип"
   ]
  },
  {
   "cell_type": "code",
   "execution_count": 20,
   "metadata": {},
   "outputs": [],
   "source": [
    "is_true = True # или False"
   ]
  },
  {
   "cell_type": "markdown",
   "metadata": {
    "tags": []
   },
   "source": [
    "### None"
   ]
  },
  {
   "cell_type": "markdown",
   "metadata": {},
   "source": [
    "None используется для определения отсутствия значения"
   ]
  },
  {
   "cell_type": "code",
   "execution_count": 21,
   "metadata": {},
   "outputs": [],
   "source": [
    "x = None  # Это значит переменной x не присвоено никакое значение"
   ]
  },
  {
   "cell_type": "markdown",
   "metadata": {},
   "source": [
    "### Cтроки"
   ]
  },
  {
   "cell_type": "markdown",
   "metadata": {},
   "source": [
    "Строки в Python - это неизменяемые тип данных, в которых содержатся текстовые символы. Для создание строки мы должны записать символы в \"\" или '' ковычки или же поместить число в функцию ```str()```"
   ]
  },
  {
   "cell_type": "code",
   "execution_count": 22,
   "metadata": {},
   "outputs": [],
   "source": [
    "s_1 = \"Sber\"  # str\n",
    "s_2 = str(21) # int -> str"
   ]
  },
  {
   "cell_type": "code",
   "execution_count": 23,
   "metadata": {},
   "outputs": [
    {
     "name": "stdout",
     "output_type": "stream",
     "text": [
      "Sber 21\n",
      "Hello Hello Hello \n"
     ]
    }
   ],
   "source": [
    "print(s_1 + ' ' + s_2) # Строки можно складывать складывать\n",
    "print(\"Hello \" * 3) # Умножать на число (дублировать)"
   ]
  },
  {
   "cell_type": "code",
   "execution_count": 24,
   "metadata": {
    "tags": []
   },
   "outputs": [
    {
     "data": {
      "text/plain": [
       "7"
      ]
     },
     "execution_count": 24,
     "metadata": {},
     "output_type": "execute_result"
    }
   ],
   "source": [
    "len(\"Sber 21\") # Функция len() Возвращает длину строки"
   ]
  },
  {
   "cell_type": "markdown",
   "metadata": {},
   "source": [
    "У строк огромное кол-во методов, например метод ```.replace()```, который позволяет заменять символы в строке:"
   ]
  },
  {
   "cell_type": "code",
   "execution_count": 25,
   "metadata": {},
   "outputs": [],
   "source": [
    "string = 'малако'"
   ]
  },
  {
   "cell_type": "code",
   "execution_count": 26,
   "metadata": {},
   "outputs": [
    {
     "data": {
      "text/plain": [
       "'молоко'"
      ]
     },
     "execution_count": 26,
     "metadata": {},
     "output_type": "execute_result"
    }
   ],
   "source": [
    "string.replace('а', 'о')"
   ]
  },
  {
   "cell_type": "markdown",
   "metadata": {},
   "source": [
    "Подробнее про строки и его методы вы можете почитать [тут](https://docs.python.org/3/library/stdtypes.html#string-methods)"
   ]
  },
  {
   "cell_type": "markdown",
   "metadata": {},
   "source": [
    "## Базовые операторы"
   ]
  },
  {
   "cell_type": "markdown",
   "metadata": {},
   "source": [
    "### Основные математические операторы"
   ]
  },
  {
   "cell_type": "markdown",
   "metadata": {},
   "source": [
    "| Обозначение | Оператор |\n",
    "|----|---|\n",
    "| +  | Сложение |\n",
    "| -  | Вычитание |\n",
    "| /  | Деление |\n",
    "| //  | Целочисленное деление |\n",
    "| %  | Взятие остатка от деления |\n",
    "| *  | Умножение |\n",
    "| **  | Возведение в степень |"
   ]
  },
  {
   "cell_type": "markdown",
   "metadata": {},
   "source": [
    "Рассмотрим несколько примеров:"
   ]
  },
  {
   "cell_type": "code",
   "execution_count": 27,
   "metadata": {},
   "outputs": [],
   "source": [
    "a = 12\n",
    "b = 4"
   ]
  },
  {
   "cell_type": "code",
   "execution_count": 28,
   "metadata": {},
   "outputs": [
    {
     "data": {
      "text/plain": [
       "16"
      ]
     },
     "execution_count": 28,
     "metadata": {},
     "output_type": "execute_result"
    }
   ],
   "source": [
    "a + b"
   ]
  },
  {
   "cell_type": "code",
   "execution_count": 29,
   "metadata": {},
   "outputs": [
    {
     "data": {
      "text/plain": [
       "3.0"
      ]
     },
     "execution_count": 29,
     "metadata": {},
     "output_type": "execute_result"
    }
   ],
   "source": [
    "a / b  # Обратите внимание, что приделение двух целых чисел, результат всегда имеет тип float"
   ]
  },
  {
   "cell_type": "markdown",
   "metadata": {},
   "source": [
    "Математические операции могут быть комбинированы с операциями присвоения:"
   ]
  },
  {
   "cell_type": "code",
   "execution_count": 30,
   "metadata": {},
   "outputs": [
    {
     "data": {
      "text/plain": [
       "2"
      ]
     },
     "execution_count": 30,
     "metadata": {},
     "output_type": "execute_result"
    }
   ],
   "source": [
    "a = 2\n",
    "a"
   ]
  },
  {
   "cell_type": "code",
   "execution_count": 31,
   "metadata": {},
   "outputs": [
    {
     "data": {
      "text/plain": [
       "1024"
      ]
     },
     "execution_count": 31,
     "metadata": {},
     "output_type": "execute_result"
    }
   ],
   "source": [
    "a **= 10\n",
    "a"
   ]
  },
  {
   "cell_type": "markdown",
   "metadata": {},
   "source": [
    "Также будьте аккуратны использовать различных операции к типу float. Посмотрим на примере:"
   ]
  },
  {
   "cell_type": "code",
   "execution_count": 32,
   "metadata": {},
   "outputs": [
    {
     "data": {
      "text/plain": [
       "0.30000000000000004"
      ]
     },
     "execution_count": 32,
     "metadata": {},
     "output_type": "execute_result"
    }
   ],
   "source": [
    "0.1 + 0.2"
   ]
  },
  {
   "cell_type": "markdown",
   "metadata": {},
   "source": [
    "Немножко не то, что ожидалось. Почему так происходит и как обращаться с типом float можно почитать [тут](https://docs.python.org/3/tutorial/floatingpoint.html)"
   ]
  },
  {
   "cell_type": "markdown",
   "metadata": {},
   "source": [
    "### Логические операторы"
   ]
  },
  {
   "cell_type": "markdown",
   "metadata": {},
   "source": [
    "| Обозначение | Оператор |\n",
    "|----| :--- |\n",
    "| and | Логическое И |\n",
    "| or  | Логическое ИЛИ |\n",
    "| not | Отрицание |"
   ]
  },
  {
   "cell_type": "markdown",
   "metadata": {},
   "source": [
    "Примеры логических операторов:"
   ]
  },
  {
   "cell_type": "code",
   "execution_count": 33,
   "metadata": {},
   "outputs": [
    {
     "name": "stdout",
     "output_type": "stream",
     "text": [
      "False\n",
      "True\n",
      "True\n"
     ]
    }
   ],
   "source": [
    "print(True and False)\n",
    "print(True or False)\n",
    "print(not False)"
   ]
  },
  {
   "cell_type": "markdown",
   "metadata": {},
   "source": [
    "### Операторы сравнения"
   ]
  },
  {
   "cell_type": "markdown",
   "metadata": {},
   "source": [
    "| Обозначение | Оператор |\n",
    "|----| :--- |\n",
    "| == | True, если равно |\n",
    "| !=  | True, если не равно |\n",
    "| < | меньше чем |\n",
    "| > | больше чем |\n",
    "| <=  | меньше чем или равно |\n",
    "| >=  | больше чем или равно |"
   ]
  },
  {
   "cell_type": "code",
   "execution_count": 34,
   "metadata": {},
   "outputs": [],
   "source": [
    "comp_1 = 4**2 == 16\n",
    "comp_2 = 5 > 7"
   ]
  },
  {
   "cell_type": "code",
   "execution_count": 35,
   "metadata": {},
   "outputs": [
    {
     "name": "stdout",
     "output_type": "stream",
     "text": [
      "True\n",
      "False\n"
     ]
    }
   ],
   "source": [
    "print(comp_1)\n",
    "print(comp_2)"
   ]
  },
  {
   "cell_type": "markdown",
   "metadata": {},
   "source": [
    "## Коллекции"
   ]
  },
  {
   "cell_type": "markdown",
   "metadata": {},
   "source": [
    "До сих пор мы рассматривали только числа и строки и то, как писать простые выражения с их участием. В целом, написание программ - это управление более сложными коллекциями таких элементов, а это значит, что нужно думать о структурах данных для хранения данных и алгоритмах для манипулирования ими. "
   ]
  },
  {
   "cell_type": "markdown",
   "metadata": {},
   "source": [
    "### Списки"
   ]
  },
  {
   "cell_type": "markdown",
   "metadata": {},
   "source": [
    "Списки (List) - это наиболее часто используемая структура данных. Считайте, что это последовательность данных, заключенных в квадратные скобки, которые разделяются запятой. Каждый элемент списка может быть доступен по позиции элемента в списке."
   ]
  },
  {
   "cell_type": "code",
   "execution_count": 36,
   "metadata": {},
   "outputs": [],
   "source": [
    "lst = ['Hello', 2, True]"
   ]
  },
  {
   "cell_type": "code",
   "execution_count": 37,
   "metadata": {},
   "outputs": [
    {
     "data": {
      "text/plain": [
       "list"
      ]
     },
     "execution_count": 37,
     "metadata": {},
     "output_type": "execute_result"
    }
   ],
   "source": [
    "type(lst)"
   ]
  },
  {
   "cell_type": "markdown",
   "metadata": {},
   "source": [
    "К элементу списка можно обратиться по его индексу. В Python индексация начинается с 0, как уже было замечено для строк."
   ]
  },
  {
   "cell_type": "code",
   "execution_count": 38,
   "metadata": {},
   "outputs": [
    {
     "data": {
      "text/plain": [
       "('Hello', 2)"
      ]
     },
     "execution_count": 38,
     "metadata": {},
     "output_type": "execute_result"
    }
   ],
   "source": [
    "lst[0], lst[1]"
   ]
  },
  {
   "cell_type": "markdown",
   "metadata": {},
   "source": [
    "Индексирование также может быть выполнено в обратном порядке. То есть последний элемент может быть доступен первым. Здесь индексация начинается с -1."
   ]
  },
  {
   "cell_type": "code",
   "execution_count": 39,
   "metadata": {},
   "outputs": [
    {
     "data": {
      "text/plain": [
       "True"
      ]
     },
     "execution_count": 39,
     "metadata": {},
     "output_type": "execute_result"
    }
   ],
   "source": [
    "lst[-1]"
   ]
  },
  {
   "cell_type": "markdown",
   "metadata": {},
   "source": [
    "С помощью механизма срезов (slicing) можно обращаться к целым последовательностям в списках. Также можно обращаться к элементах с заданным шагом."
   ]
  },
  {
   "cell_type": "code",
   "execution_count": 40,
   "metadata": {},
   "outputs": [
    {
     "name": "stdout",
     "output_type": "stream",
     "text": [
      "[1, 2]\n",
      "[6, 7, 8, 9]\n",
      "[1, 3, 5, 7]\n",
      "[9, 8, 7, 6, 5, 4, 3, 2, 1, 0]\n"
     ]
    }
   ],
   "source": [
    "numbers = [0, 1, 2, 3, 4, 5, 6, 7, 8, 9]\n",
    "print(numbers[1:3])    # С 1ого элемента до 3ого\n",
    "print(numbers[6:])     # С 6ого элемента до конца\n",
    "print(numbers[1:8:2])  # С 1ого элемента до 8ого с шагом 2\n",
    "print(numbers[::-1])   # С 0ого элемента до конца в обратном порядке"
   ]
  },
  {
   "cell_type": "markdown",
   "metadata": {},
   "source": [
    "С помощью оператора ```in``` можно проверять есть ли элемент в коллекции"
   ]
  },
  {
   "cell_type": "code",
   "execution_count": 41,
   "metadata": {},
   "outputs": [
    {
     "data": {
      "text/plain": [
       "True"
      ]
     },
     "execution_count": 41,
     "metadata": {},
     "output_type": "execute_result"
    }
   ],
   "source": [
    "8 in numbers"
   ]
  },
  {
   "cell_type": "code",
   "execution_count": 42,
   "metadata": {},
   "outputs": [
    {
     "data": {
      "text/plain": [
       "False"
      ]
     },
     "execution_count": 42,
     "metadata": {},
     "output_type": "execute_result"
    }
   ],
   "source": [
    "10 in numbers"
   ]
  },
  {
   "cell_type": "markdown",
   "metadata": {},
   "source": [
    "Для вставки элемента в уже существующий список можно воспользоваться методом ```.append()```"
   ]
  },
  {
   "cell_type": "code",
   "execution_count": 43,
   "metadata": {},
   "outputs": [],
   "source": [
    "numbers.append(10)"
   ]
  },
  {
   "cell_type": "code",
   "execution_count": 44,
   "metadata": {},
   "outputs": [
    {
     "data": {
      "text/plain": [
       "[0, 1, 2, 3, 4, 5, 6, 7, 8, 9, 10]"
      ]
     },
     "execution_count": 44,
     "metadata": {},
     "output_type": "execute_result"
    }
   ],
   "source": [
    "numbers"
   ]
  },
  {
   "cell_type": "markdown",
   "metadata": {},
   "source": [
    "Если ты хочешь расширить список другим списком - воспользуйтесь методом ```.extend()```"
   ]
  },
  {
   "cell_type": "code",
   "execution_count": 45,
   "metadata": {},
   "outputs": [],
   "source": [
    "numbers.extend([11, 12, 13])"
   ]
  },
  {
   "cell_type": "code",
   "execution_count": 46,
   "metadata": {},
   "outputs": [
    {
     "data": {
      "text/plain": [
       "[0, 1, 2, 3, 4, 5, 6, 7, 8, 9, 10, 11, 12, 13]"
      ]
     },
     "execution_count": 46,
     "metadata": {},
     "output_type": "execute_result"
    }
   ],
   "source": [
    "numbers"
   ]
  },
  {
   "cell_type": "markdown",
   "metadata": {},
   "source": [
    "Элементы в списке можно изменять"
   ]
  },
  {
   "cell_type": "code",
   "execution_count": 47,
   "metadata": {},
   "outputs": [],
   "source": [
    "numbers[5] = 'change value'"
   ]
  },
  {
   "cell_type": "code",
   "execution_count": 48,
   "metadata": {},
   "outputs": [
    {
     "data": {
      "text/plain": [
       "[0, 1, 2, 3, 4, 'change value', 6, 7, 8, 9, 10, 11, 12, 13]"
      ]
     },
     "execution_count": 48,
     "metadata": {},
     "output_type": "execute_result"
    }
   ],
   "source": [
    "numbers"
   ]
  },
  {
   "cell_type": "markdown",
   "metadata": {},
   "source": [
    "### Множества"
   ]
  },
  {
   "cell_type": "markdown",
   "metadata": {},
   "source": [
    "Множества (Set) в основном используются для исключения повторяющихся чисел в списке. Они также используются для выполнения некоторых стандартных операций с множествами. Наборы объявляются как ```set()```, который инициализирует пустой набор. Обратите внимание, что в отличие от списков, элементы множества не находятся в последовательности и к ним нельзя получить доступ по индексу."
   ]
  },
  {
   "cell_type": "code",
   "execution_count": 49,
   "metadata": {},
   "outputs": [
    {
     "data": {
      "text/plain": [
       "set"
      ]
     },
     "execution_count": 49,
     "metadata": {},
     "output_type": "execute_result"
    }
   ],
   "source": [
    "set1 = set()\n",
    "type(set1)"
   ]
  },
  {
   "cell_type": "code",
   "execution_count": 50,
   "metadata": {},
   "outputs": [],
   "source": [
    "set1 = set([1, 2, 2, 3, 3, 4, 4, 4, 4, 4])"
   ]
  },
  {
   "cell_type": "code",
   "execution_count": 51,
   "metadata": {},
   "outputs": [
    {
     "data": {
      "text/plain": [
       "{1, 2, 3, 4}"
      ]
     },
     "execution_count": 51,
     "metadata": {},
     "output_type": "execute_result"
    }
   ],
   "source": [
    "set1"
   ]
  },
  {
   "cell_type": "markdown",
   "metadata": {},
   "source": [
    "Метод ```.add()``` добавляет определенный элемент в множество. Обратите внимание, что индекс вновь добавленного элемента произволен и может быть помещен куда угодно, не обязательно в конец."
   ]
  },
  {
   "cell_type": "code",
   "execution_count": 52,
   "metadata": {},
   "outputs": [],
   "source": [
    "set1.add(5)"
   ]
  },
  {
   "cell_type": "code",
   "execution_count": 53,
   "metadata": {},
   "outputs": [
    {
     "data": {
      "text/plain": [
       "{1, 2, 3, 4, 5}"
      ]
     },
     "execution_count": 53,
     "metadata": {},
     "output_type": "execute_result"
    }
   ],
   "source": [
    "set1"
   ]
  },
  {
   "cell_type": "markdown",
   "metadata": {},
   "source": [
    "Часто используеются операции с множествами"
   ]
  },
  {
   "cell_type": "code",
   "execution_count": 54,
   "metadata": {},
   "outputs": [],
   "source": [
    "set2 = set([5, 6, 7, 7, 7, 8])"
   ]
  },
  {
   "cell_type": "code",
   "execution_count": 55,
   "metadata": {},
   "outputs": [
    {
     "name": "stdout",
     "output_type": "stream",
     "text": [
      "Объединение множеств: {1, 2, 3, 4, 5, 6, 7, 8}\n",
      "Пересечение множеств: {5}\n",
      "Разница множества set1 oт set2: {1, 2, 3, 4}\n",
      "Разница множества set2 oт set1: {8, 6, 7}\n"
     ]
    }
   ],
   "source": [
    "print(f'Объединение множеств: {set1.union(set2)}')\n",
    "print(f'Пересечение множеств: {set1.intersection(set2)}')\n",
    "print(f'Разница множества set1 oт set2: {set1.difference(set2)}')\n",
    "print(f'Разница множества set2 oт set1: {set2.difference(set1)}')"
   ]
  },
  {
   "cell_type": "markdown",
   "metadata": {},
   "source": [
    "### Словари"
   ]
  },
  {
   "cell_type": "markdown",
   "metadata": {},
   "source": [
    "Словари (Dict) - это отображения между ключами и элементами, хранящимися в словарях. В качестве альтернативы можно рассматривать словари как множества, в которых что-то хранится против каждого элемента множества. Они могут быть определены следующим образом:"
   ]
  },
  {
   "cell_type": "code",
   "execution_count": 56,
   "metadata": {},
   "outputs": [],
   "source": [
    "d = {}\n",
    "d['key'] = 'value'"
   ]
  },
  {
   "cell_type": "code",
   "execution_count": 57,
   "metadata": {},
   "outputs": [
    {
     "data": {
      "text/plain": [
       "{'key': 'value'}"
      ]
     },
     "execution_count": 57,
     "metadata": {},
     "output_type": "execute_result"
    }
   ],
   "source": [
    "d"
   ]
  },
  {
   "cell_type": "code",
   "execution_count": 58,
   "metadata": {},
   "outputs": [],
   "source": [
    "d = {1: 'Один', 2: 'Два', 3: 'Три'}"
   ]
  },
  {
   "cell_type": "code",
   "execution_count": 59,
   "metadata": {},
   "outputs": [
    {
     "data": {
      "text/plain": [
       "{1: 'Один', 2: 'Два', 3: 'Три'}"
      ]
     },
     "execution_count": 59,
     "metadata": {},
     "output_type": "execute_result"
    }
   ],
   "source": [
    "d"
   ]
  },
  {
   "cell_type": "code",
   "execution_count": 60,
   "metadata": {},
   "outputs": [
    {
     "data": {
      "text/plain": [
       "'Три'"
      ]
     },
     "execution_count": 60,
     "metadata": {},
     "output_type": "execute_result"
    }
   ],
   "source": [
    "d[3] # Можно получить значение по ключу"
   ]
  },
  {
   "cell_type": "markdown",
   "metadata": {},
   "source": [
    "**Более подробно** про базовые типа, базовые операторы и коллекции вы можете прочитать в [документации](https://docs.python.org/3/library/stdtypes.html#)"
   ]
  },
  {
   "cell_type": "markdown",
   "metadata": {},
   "source": [
    "## Управляющие конструкции"
   ]
  },
  {
   "cell_type": "markdown",
   "metadata": {},
   "source": [
    "### Условный оператор"
   ]
  },
  {
   "cell_type": "markdown",
   "metadata": {},
   "source": [
    "Для выполенения блока кода по условию используются условные операторы."
   ]
  },
  {
   "cell_type": "code",
   "execution_count": 61,
   "metadata": {},
   "outputs": [
    {
     "name": "stdout",
     "output_type": "stream",
     "text": [
      "Впишите значение а 2\n",
      "Впишите значение b 1\n"
     ]
    }
   ],
   "source": [
    "a = int(input('Впишите значение а'))\n",
    "b = int(input('Впишите значение b'))"
   ]
  },
  {
   "cell_type": "code",
   "execution_count": 62,
   "metadata": {},
   "outputs": [
    {
     "name": "stdout",
     "output_type": "stream",
     "text": [
      "Выполнено основное условие\n"
     ]
    }
   ],
   "source": [
    "if (a + b) == 3: # Это основное условие\n",
    "    print('Выполнено основное условие')\n",
    "elif (a + b) == 2: # Добавочное условие, которое проверяется в том случае, если условие под if не выполняется\n",
    "    print('Выполнено добавочное условие условие')\n",
    "else: # Этот блок кода, который исполняется, если ни одно из условий выше не выполнено\n",
    "    print('Ни одно условие не выполнено')"
   ]
  },
  {
   "cell_type": "markdown",
   "metadata": {},
   "source": [
    "### Цикл for"
   ]
  },
  {
   "cell_type": "markdown",
   "metadata": {},
   "source": [
    "Цикл ```for``` - обход по всем элементам какой-либо коллекции (списки, множества, словари). Переменной по очереди присваивается каждый элемент из коллекции, и алгоритм выполняется один раз с этим значением."
   ]
  },
  {
   "cell_type": "code",
   "execution_count": 63,
   "metadata": {},
   "outputs": [
    {
     "name": "stdout",
     "output_type": "stream",
     "text": [
      "Hello, Anton\n",
      "Hello, Natasha\n",
      "Hello, Vova\n"
     ]
    }
   ],
   "source": [
    "for name in [\"Anton\", \"Natasha\", \"Vova\"]:\n",
    "    print(f\"Hello, %s\" % name)"
   ]
  },
  {
   "cell_type": "markdown",
   "metadata": {},
   "source": [
    "При циклическом переборе целых чисел полезна функция ```range()```, которая генерирует диапазон целых чисел:"
   ]
  },
  {
   "cell_type": "code",
   "execution_count": 64,
   "metadata": {},
   "outputs": [
    {
     "name": "stdout",
     "output_type": "stream",
     "text": [
      "[0, 1, 2, 3, 4, 5, 6, 7, 8, 9]\n",
      "[2, 3, 4, 5, 6, 7, 8]\n",
      "[6, 5, 4, 3, 2]\n"
     ]
    }
   ],
   "source": [
    "print(list(range(0, 10))) # Генерируем числа от 0 до 10\n",
    "print(list(range(2, 9)))  # Генерируем числа от 2 до 9\n",
    "print(list(range(6, 1, -1)))  # Генерируем числа от 6 до 1 в обратном порядке"
   ]
  },
  {
   "cell_type": "code",
   "execution_count": 65,
   "metadata": {},
   "outputs": [
    {
     "data": {
      "text/plain": [
       "45"
      ]
     },
     "execution_count": 65,
     "metadata": {},
     "output_type": "execute_result"
    }
   ],
   "source": [
    "result = 0\n",
    "# В цикле складываем все числа от 1 до 10\n",
    "for number in range(1, 10): \n",
    "    result += number\n",
    "result"
   ]
  },
  {
   "cell_type": "markdown",
   "metadata": {},
   "source": [
    "Мы можем комбинировать условные операторы и циклы \\\n",
    "Например, напишем код, который выведет только четные числа из последовательности от 0 до 10:"
   ]
  },
  {
   "cell_type": "code",
   "execution_count": 66,
   "metadata": {},
   "outputs": [],
   "source": [
    "even_numbers = []\n",
    "for number in range(0, 10): # В цикле идем по последовательности от 0 до 10\n",
    "    if number % 2 == 0: # Проверка на четность\n",
    "        even_numbers.append(number) # Добавление числа"
   ]
  },
  {
   "cell_type": "code",
   "execution_count": 67,
   "metadata": {},
   "outputs": [
    {
     "data": {
      "text/plain": [
       "[0, 2, 4, 6, 8]"
      ]
     },
     "execution_count": 67,
     "metadata": {},
     "output_type": "execute_result"
    }
   ],
   "source": [
    "even_numbers"
   ]
  },
  {
   "cell_type": "markdown",
   "metadata": {},
   "source": [
    "Также есть операторы, который могут управлять циклом ```for```. \\\n",
    "Оператор ```break``` прерывает исполнение цикла и выходит из него"
   ]
  },
  {
   "cell_type": "code",
   "execution_count": 68,
   "metadata": {},
   "outputs": [
    {
     "name": "stdout",
     "output_type": "stream",
     "text": [
      "0\n",
      "1\n",
      "2\n"
     ]
    }
   ],
   "source": [
    "for number in range(5):\n",
    "    if number == 3:\n",
    "        break # Выходим из цикла\n",
    "    print(number)"
   ]
  },
  {
   "cell_type": "markdown",
   "metadata": {},
   "source": [
    "Оператор ```continue``` переводит код сразу на следующий элемент последовательности"
   ]
  },
  {
   "cell_type": "code",
   "execution_count": 69,
   "metadata": {},
   "outputs": [
    {
     "name": "stdout",
     "output_type": "stream",
     "text": [
      "0\n",
      "1\n",
      "2\n",
      "4\n"
     ]
    }
   ],
   "source": [
    "for number in range(5):\n",
    "    if number == 3:\n",
    "        continue # Переходим к следующему элементу\n",
    "    print(number)"
   ]
  },
  {
   "cell_type": "markdown",
   "metadata": {},
   "source": [
    "## Функции"
   ]
  },
  {
   "cell_type": "markdown",
   "metadata": {},
   "source": [
    "Функции - это механизм, позволяющий повторно использовать код, чтобы сложные программы можно было строить из более простых частей. Важно: Начинать писать программу на python с написания нескольких строк кода и тестирования по ходу дела - это здорово, но распространенная ошибка новичков - продолжать в том же духе. Вы не хотите иметь программу, состоящую из 20 000 строк в одном длинном файле/блокноте. Думайте о функциях, как об абзацах в английском языке. Каждый раз, когда вы начинаете новую идею, начинайте новую функцию. Это сделает ваш код гораздо более читабельным, более легким для отладки и, в конечном итоге, для повторного использования частей кода таким образом, который, возможно, не предполагался при первоначальном написании кода."
   ]
  },
  {
   "cell_type": "code",
   "execution_count": 70,
   "metadata": {},
   "outputs": [
    {
     "name": "stdout",
     "output_type": "stream",
     "text": [
      "Привет, Андрей!\n",
      "Как твои дела?\n"
     ]
    }
   ],
   "source": [
    "print(\"Привет, Андрей!\")\n",
    "print(\"Как твои дела?\")"
   ]
  },
  {
   "cell_type": "markdown",
   "metadata": {},
   "source": [
    "Вместо того чтобы каждый раз писать весь повторяющийся код, можно заменить определением функции, которая выполнит эту работу всего за одну строку."
   ]
  },
  {
   "cell_type": "code",
   "execution_count": 71,
   "metadata": {},
   "outputs": [],
   "source": [
    "def hello(): \n",
    "    # После вызова этой функции исполниться код, написанный ниже\n",
    "    print(\"Привет, Андрей!\")\n",
    "    print(\"Как твои дела?\")"
   ]
  },
  {
   "cell_type": "code",
   "execution_count": 72,
   "metadata": {},
   "outputs": [
    {
     "name": "stdout",
     "output_type": "stream",
     "text": [
      "Привет, Андрей!\n",
      "Как твои дела?\n"
     ]
    }
   ],
   "source": [
    "hello()"
   ]
  },
  {
   "cell_type": "markdown",
   "metadata": {},
   "source": [
    "Наша функция ```hello()``` всегда будет представляться приветствовать Андрея. Мы можем сделать нашу функцию ```hello()``` принимающей аргументы, которые будут хранить имя с кем нужно поздороваться. Для этого добавьте аргумент в функцию."
   ]
  },
  {
   "cell_type": "code",
   "execution_count": 73,
   "metadata": {},
   "outputs": [],
   "source": [
    "def hello(name): \n",
    "    # После вызова этой функции исполниться код, написанный ниже\n",
    "    print(\"Привет, %s!\" % name)\n",
    "    print(\"Как твои дела?\")"
   ]
  },
  {
   "cell_type": "code",
   "execution_count": 74,
   "metadata": {},
   "outputs": [
    {
     "name": "stdout",
     "output_type": "stream",
     "text": [
      "Привет, Ваше имя!\n",
      "Как твои дела?\n"
     ]
    }
   ],
   "source": [
    "hello(\"Ваше имя\")"
   ]
  },
  {
   "cell_type": "markdown",
   "metadata": {},
   "source": [
    "Когда в результате выполнения функции получается некоторое значение, и это значение должно быть сохранено в переменной или должно быть отправлено или возвращено для дальнейшей работы в основной алгоритм, используется оператор ```return```."
   ]
  },
  {
   "cell_type": "code",
   "execution_count": 75,
   "metadata": {},
   "outputs": [],
   "source": [
    "def multiple(x, y):\n",
    "    z = x * y\n",
    "    return z\n",
    "    z = 0 # Эта часть ничего не исполниться"
   ]
  },
  {
   "cell_type": "code",
   "execution_count": 76,
   "metadata": {},
   "outputs": [
    {
     "data": {
      "text/plain": [
       "6"
      ]
     },
     "execution_count": 76,
     "metadata": {},
     "output_type": "execute_result"
    }
   ],
   "source": [
    "multiple(2, 3)"
   ]
  }
 ],
 "metadata": {
  "kernelspec": {
   "display_name": "Python 3",
   "language": "python",
   "name": "python3"
  },
  "language_info": {
   "codemirror_mode": {
    "name": "ipython",
    "version": 3
   },
   "file_extension": ".py",
   "mimetype": "text/x-python",
   "name": "python",
   "nbconvert_exporter": "python",
   "pygments_lexer": "ipython3",
   "version": "3.11.1"
  },
  "toc-autonumbering": false,
  "vscode": {
   "interpreter": {
    "hash": "251c5f4b778030d6c609d99aa17b4421361b674e64a57718eedff6c08a612b60"
   }
  }
 },
 "nbformat": 4,
 "nbformat_minor": 4
}
