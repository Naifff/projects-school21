{
 "cells": [
  {
   "cell_type": "markdown",
   "id": "fffcbb2c-4423-4f1c-bc90-e1ac7fbaa456",
   "metadata": {},
   "source": [
    "# Задания "
   ]
  },
  {
   "cell_type": "markdown",
   "id": "c2d747fe-7b74-43e0-95b3-16525e9846ac",
   "metadata": {},
   "source": [
    "## Task 1"
   ]
  },
  {
   "cell_type": "markdown",
   "id": "685b3747-2ce6-434d-8969-a91baddbf85a",
   "metadata": {},
   "source": [
    "Напиши код, который будет решать квадратное уравнение вида\n",
    "$ax^2 + bx + c = 0$. \\\n",
    "Для этого понадобится найти дискриминант. Его формула - $ D = b^2 − 4ac $"
   ]
  },
  {
   "attachments": {},
   "cell_type": "markdown",
   "id": "20bf557b-21f9-46fa-b8db-76b7a96526f4",
   "metadata": {},
   "source": [
    "Для начала напиши формулу нахождения корней квадратного уравнения на языке LaTeX\n",
    "\n",
    "$ x = \\frac{-b\\pm\\sqrt{D}}{2a} $"
   ]
  },
  {
   "cell_type": "markdown",
   "id": "c78b058d-777d-4369-b86d-0c0fc013eba9",
   "metadata": {},
   "source": [
    "Теперь, когда ты вспомнил как находить корни, приступай к написанию функции:\n",
    "- Функция принимает на вход коэффициент a, b, c.\n",
    "- Функция должна возвращать кортеж корней уравнения. \n",
    "- Если корней у уравнения нет, то функция должна вернуть None"
   ]
  },
  {
   "cell_type": "code",
   "execution_count": 1,
   "id": "03b8b371-870b-42cc-8f53-1e8596406894",
   "metadata": {},
   "outputs": [
    {
     "name": "stdout",
     "output_type": "stream",
     "text": [
      "2x^2 + 8x + 2 = 0 \n",
      " Корни уровнения: (-0.2679491924311228, -3.732050807568877)\n",
      "2x^2 + 4x + 2 = 0 \n",
      " Корни уровнения: -1.0\n",
      "4x^2 + 4x + 2 = 0 \n",
      " Корни уровнения: None\n",
      "4x^2 = 0 \n",
      " Корни уровнения: 0\n",
      "4x^2 + 4x = 0 \n",
      " Корни уровнения: (0, -1.0)\n",
      "4x^2 - 2 = 0 \n",
      " Корни уровнения: (0.7071067811865476, -0.7071067811865476)\n",
      "4x^2 + 2 = 0 \n",
      " Корни уровнения: None\n",
      "4x + 2 = 0 \n",
      " Корни уровнения: -0.5\n",
      "4x = 0 \n",
      " Корни уровнения: 0\n",
      "0 = 0 \n",
      " Корни уровнения: None\n",
      "3.5\n"
     ]
    }
   ],
   "source": [
    "from math import sqrt\n",
    "\n",
    "def quadratic_equation(a, b, c):\n",
    "    D = b ** 2 - 4 * a * c\n",
    "    if a != 0 and b != 0 and c != 0:\n",
    "        if D < 0: return None\n",
    "        elif D == 0: return (-b/(2*a))\n",
    "        else: return ((-b + sqrt(D))/(2*a), (-b - sqrt(D))/(2*a))\n",
    "    elif a != 0 and b == 0 and c == 0:\n",
    "        return (0)\n",
    "    elif a != 0 and b != 0 and c == 0:\n",
    "        return (0, -b/a)\n",
    "    elif a != 0 and b == 0 and c != 0:\n",
    "        if -c/a > 0:\n",
    "            return (sqrt(-c/a), -sqrt(-c/a))\n",
    "        else: return None\n",
    "    elif a == 0 and b != 0 and c != 0:\n",
    "        return (-c/b)\n",
    "    elif a == 0 and b != 0 and c == 0:\n",
    "        return (0)\n",
    "    else: return None\n",
    "\n",
    "#Проверка\n",
    "print(\"2x^2 + 8x + 2 = 0 \\n Корни уровнения:\", quadratic_equation(2,8,2))\n",
    "print(\"2x^2 + 4x + 2 = 0 \\n Корни уровнения:\", quadratic_equation(2,4,2))\n",
    "print(\"4x^2 + 4x + 2 = 0 \\n Корни уровнения:\", quadratic_equation(4,4,2))\n",
    "print(\"4x^2 = 0 \\n Корни уровнения:\", quadratic_equation(4,0,0))\n",
    "print(\"4x^2 + 4x = 0 \\n Корни уровнения:\", quadratic_equation(4,4,0))\n",
    "print(\"4x^2 - 2 = 0 \\n Корни уровнения:\", quadratic_equation(4,0,-2))\n",
    "print(\"4x^2 + 2 = 0 \\n Корни уровнения:\", quadratic_equation(4,0,2))\n",
    "print(\"4x + 2 = 0 \\n Корни уровнения:\", quadratic_equation(0,4,2))\n",
    "print(\"4x = 0 \\n Корни уровнения:\", quadratic_equation(0,4,0))\n",
    "print(\"0 = 0 \\n Корни уровнения:\", quadratic_equation(0,0,0))"
   ]
  },
  {
   "cell_type": "markdown",
   "id": "a8541146-f127-4482-b067-279d50975dac",
   "metadata": {},
   "source": [
    "## Task 2"
   ]
  },
  {
   "cell_type": "markdown",
   "id": "816c48be-0963-4bd6-bd86-c8172eb8968e",
   "metadata": {},
   "source": [
    "Функция, которая на вход принимает cписок случайных чисел, а возвращает уже отсортированный методом Пузырька по возрастанию."
   ]
  },
  {
   "cell_type": "code",
   "execution_count": 45,
   "id": "3fbaf6b3-876f-4ecf-9be6-d26181ee3a48",
   "metadata": {},
   "outputs": [
    {
     "name": "stdout",
     "output_type": "stream",
     "text": [
      "[69, 44, 85, 69, 23, 61, 24, 55, 13, 13]\n",
      "[13, 13, 23, 24, 44, 55, 61, 69, 69, 85]\n"
     ]
    }
   ],
   "source": [
    "from random import randint\n",
    "\n",
    "def bubble_sort(lst):\n",
    "    lst_sort = lst\n",
    "    for i in range(len(lst_sort)-1):\n",
    "        for j in range(len(lst_sort)-i-1):\n",
    "            if lst_sort[j] > lst_sort[j+1]:\n",
    "                lst_sort[j], lst_sort[j+1] = lst_sort[j+1], lst_sort[j]\n",
    "    return lst_sort\n",
    "\n",
    "N = 10\n",
    "lst = []\n",
    "for i in range(N):\n",
    "    lst.append(randint(1, 99))\n",
    "print(lst)\n",
    "print(bubble_sort(lst))"
   ]
  },
  {
   "cell_type": "markdown",
   "id": "0026496c-03a8-4fcc-907b-dfb8f3fc0efb",
   "metadata": {},
   "source": [
    "## Task 3"
   ]
  },
  {
   "cell_type": "markdown",
   "id": "688251be-39a3-49ed-9993-a5f9b39f430d",
   "metadata": {},
   "source": [
    "Самое часто встречающееся слово в романе \"Война и Мир\" без учета:\n",
    "   * Пунктуации\n",
    "   * Слов **короче четырех** символов \n",
    "   * 'Стоп-слов', которые приведены в файле в stop_words_russian.txt"
   ]
  },
  {
   "cell_type": "code",
   "execution_count": 1,
   "id": "94501d71-ee88-4f78-808d-20e79a5f3707",
   "metadata": {},
   "outputs": [
    {
     "name": "stdout",
     "output_type": "stream",
     "text": [
      "князь 949\n"
     ]
    }
   ],
   "source": [
    "import re\n",
    "\n",
    "with open('../datasets/stop_words_russian.txt', encoding = 'utf-8', mode = 'r') as fin: # В скобочках мы указывает путь к файлу\n",
    "    stop_words = fin.read()\n",
    "stop_words = stop_words.splitlines()\n",
    "with open('../datasets/war_and_peace.txt', encoding = 'utf-8', mode = 'r') as fin: # В скобочках мы указывает путь к файлу\n",
    "    war_and_peace = fin.read()\n",
    "war_and_peace = re.findall('[a-zа-яё]+', war_and_peace, flags=re.IGNORECASE)\n",
    "words_popular = {}\n",
    "\n",
    "for word in war_and_peace:\n",
    "    if len(word) > 4:\n",
    "        if word not in stop_words:\n",
    "            words_popular[word] = words_popular.get(word, 0) + 1\n",
    "\n",
    "words_popular_sort = dict(sorted(words_popular.items(), key=lambda item: item[1], reverse = True))\n",
    "print(list(words_popular_sort.keys())[0], list(words_popular_sort.values())[0])"
   ]
  },
  {
   "cell_type": "markdown",
   "id": "d4b6f922-7a22-4b38-8529-c92994edd38c",
   "metadata": {},
   "source": [
    "## Task 4"
   ]
  },
  {
   "cell_type": "markdown",
   "id": "c2cef602-ab87-47f8-ab2c-e323442b62f7",
   "metadata": {},
   "source": [
    "Функция для расчета числа Фибоначчи с использованием рекурсивной функции."
   ]
  },
  {
   "cell_type": "code",
   "execution_count": 2,
   "id": "ec1c1860-774d-4583-a44b-bdc30492eead",
   "metadata": {},
   "outputs": [
    {
     "name": "stdout",
     "output_type": "stream",
     "text": [
      "196418\n"
     ]
    }
   ],
   "source": [
    "def fib(n):\n",
    "    return n if n <= 1 else fib(n-1) + fib(n-2)\n",
    "\n",
    "print(fib(27))"
   ]
  },
  {
   "cell_type": "markdown",
   "id": "1acc3069-4b1a-4a5c-98e4-055731203d2d",
   "metadata": {},
   "source": [
    "## Task 5"
   ]
  },
  {
   "cell_type": "markdown",
   "id": "944e804e-fb40-4ea2-b931-38b595d3c262",
   "metadata": {},
   "source": [
    "Функция перевода валюты в рубли."
   ]
  },
  {
   "cell_type": "code",
   "execution_count": 1,
   "id": "570cfb71-5cf0-41fc-aae7-cf2b2812eaca",
   "metadata": {},
   "outputs": [
    {
     "name": "stdout",
     "output_type": "stream",
     "text": [
      "67015.38441099999\n",
      "39333.286095999996\n",
      "9727.511658\n"
     ]
    }
   ],
   "source": [
    "import requests\n",
    "import json\n",
    "\n",
    "def convert2RU(currency, value):\n",
    "    page = requests.get('https://www.cbr-xml-daily.ru/daily_json.js')\n",
    "    json_param = json.loads(page.text)\n",
    "    if currency in list(json_param['Valute'].keys()):\n",
    "        return value * json_param['Valute'][currency]['Value']\n",
    "    else: None\n",
    "\n",
    "print(convert2RU('USD', 952.13))\n",
    "print(convert2RU('EUR', 512.59))\n",
    "print(convert2RU('GBP', 112.38))"
   ]
  },
  {
   "cell_type": "markdown",
   "id": "fe1396fa-7109-48ad-a255-4d4f622c18a4",
   "metadata": {},
   "source": [
    "## *Task 6. Дополнительное задание"
   ]
  },
  {
   "cell_type": "markdown",
   "id": "71315701-39bd-4759-afd9-7bf20486b4f7",
   "metadata": {},
   "source": [
    "Написание проверки на пaлиндром."
   ]
  },
  {
   "cell_type": "markdown",
   "id": "715fd45b-eb76-4eb5-bbd8-a257035fe892",
   "metadata": {},
   "source": [
    "1. На вход функции _isPalindrome_ подается **число** (int). \\\n",
    "Функция возвращает **True**, если число является палидромом и **False** в противном случае. "
   ]
  },
  {
   "cell_type": "code",
   "execution_count": 40,
   "id": "9f48d9c7-c413-47fb-b692-ce5ad8ed9ec1",
   "metadata": {},
   "outputs": [
    {
     "name": "stdout",
     "output_type": "stream",
     "text": [
      "True\n",
      "False\n"
     ]
    }
   ],
   "source": [
    "def isPalindrome(x: int) -> bool:\n",
    "    s = str(x)\n",
    "    rev = ''.join(reversed(s)) \n",
    "    if (s == rev): \n",
    "        return True\n",
    "    return False\n",
    "print(isPalindrome(1001))\n",
    "print(isPalindrome(1002)) "
   ]
  },
  {
   "cell_type": "markdown",
   "id": "e86f6f7c-c3b0-4b92-bb3d-651dcc7d4706",
   "metadata": {},
   "source": [
    "2. Реализация функции без использования перевода числа в строку."
   ]
  },
  {
   "cell_type": "code",
   "execution_count": 44,
   "id": "35cf92fa-04c6-489b-9523-99d78dce4ba1",
   "metadata": {},
   "outputs": [
    {
     "name": "stdout",
     "output_type": "stream",
     "text": [
      "True\n",
      "False\n"
     ]
    }
   ],
   "source": [
    "def isPalindrome_v2(x: int) -> bool:\n",
    "    temp = x\n",
    "    rev = 0\n",
    "    while(x > 0):\n",
    "        dig = x % 10\n",
    "        rev = rev * 10 + dig\n",
    "        x = x // 10\n",
    "    if(temp == rev):\n",
    "        return True\n",
    "    else:\n",
    "        return False\n",
    "    \n",
    "\n",
    "print(isPalindrome_v2(1001))\n",
    "print(isPalindrome_v2(1002))"
   ]
  }
 ],
 "metadata": {
  "kernelspec": {
   "display_name": "Python 3",
   "language": "python",
   "name": "python3"
  },
  "language_info": {
   "codemirror_mode": {
    "name": "ipython",
    "version": 3
   },
   "file_extension": ".py",
   "mimetype": "text/x-python",
   "name": "python",
   "nbconvert_exporter": "python",
   "pygments_lexer": "ipython3",
   "version": "3.11.1"
  },
  "vscode": {
   "interpreter": {
    "hash": "251c5f4b778030d6c609d99aa17b4421361b674e64a57718eedff6c08a612b60"
   }
  }
 },
 "nbformat": 4,
 "nbformat_minor": 5
}
