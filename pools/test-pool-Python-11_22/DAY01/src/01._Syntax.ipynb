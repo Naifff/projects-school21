{
 "cells": [
  {
   "cell_type": "markdown",
   "metadata": {},
   "source": [
    "# Jupyter Notebook\n",
    "\n",
    "Перед нами открыто окно браузера, в котором мы видим \"тетрадку\" Jupyter Notebook. Jupyter Notebook - это формат файлов, позволяющий сохранять удобные конспекты, в которых содержится текст, изображения и код, который можно исполнять. Интерпретатор питона запущен локально на вашем компьютере в режиме сервера, и код из ячеек исполняется в этом интерпретаторе. Чтобы запустить ячейку с кодом, нужно нажать `Ctrl + Enter` либо `Shift + Enter`."
   ]
  },
  {
   "cell_type": "markdown",
   "metadata": {
    "colab_type": "text",
    "id": "xPs0mB7YKZCs"
   },
   "source": [
    "# Python\n",
    "\n",
    "## Дзен Питона\n",
    "\n",
    "Разработчики Python придерживаются определённой философии программирования, называемой «The Zen of Python» («Дзен Питона»). \n",
    "\n",
    "**Текст философии:**\n",
    "- Красивое лучше, чем уродливое.\n",
    "- Явное лучше, чем неявное.\n",
    "- Простое лучше, чем сложное.\n",
    "- Сложное лучше, чем запутанное.\n",
    "- Плоское лучше, чем вложенное.\n",
    "- Разреженное лучше, чем плотное.\n",
    "- Читаемость имеет значение.\n",
    "- Особые случаи не настолько особые, чтобы нарушать правила.\n",
    "- При этом практичность важнее безупречности.\n",
    "- Ошибки никогда не должны замалчиваться.\n",
    "- Если они не замалчиваются явно.\n",
    "- Встретив двусмысленность, отбрось искушение угадать.\n",
    "- Должен существовать один и, желательно, только один очевидный способ сделать это.\n",
    "- Хотя он поначалу может быть и не очевиден, если вы не голландец.\n",
    "- Сейчас лучше, чем никогда.\n",
    "- Хотя никогда зачастую лучше, чем прямо сейчас.\n",
    "- Если реализацию сложно объяснить — идея плоха.\n",
    "- Если реализацию легко объяснить — идея, возможно, хороша.\n",
    "- Пространства имён — отличная штука! Будем делать их больше!\n",
    "\n",
    "Исполните следующую ячейку, поставив курсор внутрь нее и нажав `Cmd + Enter или Ctrl + Enter`."
   ]
  },
  {
   "cell_type": "code",
   "execution_count": 1,
   "metadata": {},
   "outputs": [
    {
     "name": "stdout",
     "output_type": "stream",
     "text": [
      "The Zen of Python, by Tim Peters\n",
      "\n",
      "Beautiful is better than ugly.\n",
      "Explicit is better than implicit.\n",
      "Simple is better than complex.\n",
      "Complex is better than complicated.\n",
      "Flat is better than nested.\n",
      "Sparse is better than dense.\n",
      "Readability counts.\n",
      "Special cases aren't special enough to break the rules.\n",
      "Although practicality beats purity.\n",
      "Errors should never pass silently.\n",
      "Unless explicitly silenced.\n",
      "In the face of ambiguity, refuse the temptation to guess.\n",
      "There should be one-- and preferably only one --obvious way to do it.\n",
      "Although that way may not be obvious at first unless you're Dutch.\n",
      "Now is better than never.\n",
      "Although never is often better than *right* now.\n",
      "If the implementation is hard to explain, it's a bad idea.\n",
      "If the implementation is easy to explain, it may be a good idea.\n",
      "Namespaces are one honking great idea -- let's do more of those!\n"
     ]
    }
   ],
   "source": [
    "import this"
   ]
  },
  {
   "cell_type": "markdown",
   "metadata": {
    "colab_type": "text",
    "id": "Med_oxE480gn"
   },
   "source": [
    "# Примеры некоторых функций на Python\n",
    "\n",
    "Философия питона базируется на том, что код должен быть интуитивно понятным. Попробуйте объяснить, что делает приведенный ниже код. Если понятно не всё - не расстраивайтесь, по ходу курса мы будем подробно разбирать каждый элемент синтаксиса питона."
   ]
  },
  {
   "cell_type": "code",
   "execution_count": 2,
   "metadata": {
    "colab": {
     "base_uri": "https://localhost:8080/",
     "height": 34
    },
    "colab_type": "code",
    "executionInfo": {
     "elapsed": 837,
     "status": "ok",
     "timestamp": 1575361206713,
     "user": {
      "displayName": "Надежда Демиденко",
      "photoUrl": "https://lh3.googleusercontent.com/a-/AAuE7mA6D7k5OgtG9hzPe8Abs8DfOKAXQoTXaPfn7EY=s64",
      "userId": "05224310221243935536"
     },
     "user_tz": -180
    },
    "id": "c3yWyEFt89r8",
    "outputId": "da6760de-7588-46da-e90b-6eda70e25a8f"
   },
   "outputs": [
    {
     "name": "stdout",
     "output_type": "stream",
     "text": [
      "45\n"
     ]
    }
   ],
   "source": [
    "def foo(n):\n",
    "    result = 0\n",
    "    for i in range(n):\n",
    "        result = result + i\n",
    "    return result\n",
    "\n",
    "print(foo(10))"
   ]
  },
  {
   "cell_type": "markdown",
   "metadata": {},
   "source": [
    "Выше была приведена функция, которая суммирует все числа от `0` до `n-1` для выбранного `n`. Теперь давайте рассмотрим следующий пример. Снова попытайтесь догадаться, что делает код, приведенный ниже."
   ]
  },
  {
   "cell_type": "code",
   "execution_count": 4,
   "metadata": {
    "colab": {
     "base_uri": "https://localhost:8080/",
     "height": 85
    },
    "colab_type": "code",
    "executionInfo": {
     "elapsed": 2748,
     "status": "ok",
     "timestamp": 1575230315598,
     "user": {
      "displayName": "Надежда Демиденко",
      "photoUrl": "https://lh3.googleusercontent.com/a-/AAuE7mA6D7k5OgtG9hzPe8Abs8DfOKAXQoTXaPfn7EY=s64",
      "userId": "05224310221243935536"
     },
     "user_tz": -180
    },
    "id": "7MmOlMVGBegu",
    "outputId": "542d71d0-3d0d-4c75-e69c-33da16ea368c"
   },
   "outputs": [
    {
     "name": "stdout",
     "output_type": "stream",
     "text": [
      "Hello My name "
     ]
    }
   ],
   "source": [
    "s = input(\"Write down or insert some text:\\n\")\n",
    "\n",
    "punctuation = ['.', ',', ':', ';', '!', '?', '(', ')']\n",
    "\n",
    "word_list = s.split()\n",
    "\n",
    "for i, word in enumerate(word_list):\n",
    "    if word[-1] in punctuation:\n",
    "        word_list[i] = word[:-1]\n",
    "        word = word_list[i]\n",
    "    if word[0] in punctuation:\n",
    "        word_list[i] = word[1:]\n",
    "for word in word_list:\n",
    "    print(word, end=\" \")"
   ]
  },
  {
   "cell_type": "markdown",
   "metadata": {},
   "source": [
    "В первой строке происходит ввод данных от пользователя с клавиатуры. Дальше мы задаем список символов, которые являются знаками препинания. В третьей строке происходит разбиение введенной пользователем строки на список строк-слов, при котором разделителем служит пробел. Затем в цикле из каждой новой строки удаляются знаки препинания, если они расположены в самом начале строки либо в самом конце. И наконец, в новом цикле выводятся все слова уже без начальных и конечных знаков препинания.\n",
    "\n",
    "Как видите, питон вполне понятен для любого человека, который хоть немного сталкивался с программированием и знает английский язык. Интуитивность и понятность кода заложены в идею создания этого языка."
   ]
  },
  {
   "cell_type": "markdown",
   "metadata": {
    "colab_type": "text",
    "id": "MA_3h-aHXW7s"
   },
   "source": [
    "## PEP8 - стиль кода в языке Python\n",
    "\n",
    "PEP (python enhanced proposal) - этот документ описывает соглашение о том, как писать код для языка python, включая стандартную библиотеку, входящую в состав python, и какого стиля следует придерживаться при написании кода.\n",
    "\n",
    "Далее мы коснемся некоторых рекомендаций из PEP8, но документ целиком можно найти по ссылке:\n",
    "https://pep8.ru/doc/pep8/"
   ]
  },
  {
   "cell_type": "markdown",
   "metadata": {
    "colab_type": "text",
    "id": "6Q-MLCjWKUoM"
   },
   "source": [
    "## Синтаксис Python"
   ]
  },
  {
   "cell_type": "markdown",
   "metadata": {
    "colab_type": "text",
    "id": "5tPPdB0DKUoR"
   },
   "source": [
    "В Python конец строки является концом инструкции. Никаких символов на конце не требуется.\\\n",
    "Если необходимо записать несколько инструкций в одну строку, их нужно разделить символом `;`.\\\n",
    "Однако это не рекомендуется делать из-за ухудшения читаемости кода."
   ]
  },
  {
   "cell_type": "code",
   "execution_count": 5,
   "metadata": {
    "colab": {},
    "colab_type": "code",
    "id": "a8oL-HvaKUoU"
   },
   "outputs": [],
   "source": [
    "a = 5 + 8\n",
    "b = 2; c = 7; d = 12"
   ]
  },
  {
   "cell_type": "markdown",
   "metadata": {
    "colab_type": "text",
    "id": "Wk0Na4uBKUoc"
   },
   "source": [
    "Ввод данных и вывод в консоль можно выполнить при помощи функций `input()` и `print()`.\\\n",
    "Результат `input()` - строка. Чтобы считанное значение стало числом, необходимо преобразование к нужному типу.\n",
    "\n",
    "Кавычки при этом можно использовать как одинарные, так и двойные."
   ]
  },
  {
   "cell_type": "code",
   "execution_count": 6,
   "metadata": {
    "colab": {},
    "colab_type": "code",
    "id": "GvxgjCrOKUod",
    "outputId": "8fd28af5-d2a5-48a9-da5d-3e9ce4c0a362"
   },
   "outputs": [
    {
     "name": "stdout",
     "output_type": "stream",
     "text": [
      "Hello world!\n",
      "Hello\n",
      "b = Hello\n"
     ]
    }
   ],
   "source": [
    "print('Hello world!')\n",
    "a = input()\n",
    "b = input('b = ')\n",
    "print (a)\n",
    "print(\"b =\", b)"
   ]
  },
  {
   "cell_type": "markdown",
   "metadata": {
    "colab_type": "text",
    "id": "B2vbo1weKUon"
   },
   "source": [
    "Python, как и С, и Java, регистрозависим. То есть переменные, которые называются одинаково, но в разных регистрах - это разные переменные."
   ]
  },
  {
   "cell_type": "code",
   "execution_count": 7,
   "metadata": {
    "colab": {},
    "colab_type": "code",
    "id": "vLOP46fXKUoo",
    "outputId": "cbd6dd40-4cca-44da-e5a6-fd44dd8e6930"
   },
   "outputs": [
    {
     "name": "stdout",
     "output_type": "stream",
     "text": [
      "10\n",
      "15\n"
     ]
    }
   ],
   "source": [
    "a = 10\n",
    "A = 15\n",
    "print(a)\n",
    "print(A)"
   ]
  },
  {
   "cell_type": "markdown",
   "metadata": {
    "colab_type": "text",
    "id": "23lRZSxfKUov"
   },
   "source": [
    "Комментарии начинаются с `#`. Это строки, которые позволяют оставить какое-то описание кода для себя или коллег, но игнорируются интерпретатором. Если комментарий длинный и не влезает в одну строку, принято каждую строку комментария начинать с `#`."
   ]
  },
  {
   "cell_type": "code",
   "execution_count": 8,
   "metadata": {
    "colab": {
     "base_uri": "https://localhost:8080/",
     "height": 34
    },
    "colab_type": "code",
    "executionInfo": {
     "elapsed": 763,
     "status": "ok",
     "timestamp": 1575217674396,
     "user": {
      "displayName": "Надежда Демиденко",
      "photoUrl": "https://lh3.googleusercontent.com/a-/AAuE7mA6D7k5OgtG9hzPe8Abs8DfOKAXQoTXaPfn7EY=s64",
      "userId": "05224310221243935536"
     },
     "user_tz": -180
    },
    "id": "T9B1DvS4KUow",
    "outputId": "2ae813c2-caf9-4920-8b55-ad4ea016e9f2"
   },
   "outputs": [
    {
     "name": "stdout",
     "output_type": "stream",
     "text": [
      "Hello\n"
     ]
    }
   ],
   "source": [
    "# Это однострочный комментарий.\n",
    "# Это еще одна строка комментария.\n",
    "\n",
    "print('Hello')"
   ]
  },
  {
   "cell_type": "markdown",
   "metadata": {},
   "source": [
    "В Jupyter Notebook есть сочетание клавиш, которое быстро превращает строку в комментарий и обратно: `Ctrl + /`. Потренируйтесь в его использовании в предыдущей ячейке =)."
   ]
  },
  {
   "cell_type": "code",
   "execution_count": null,
   "metadata": {},
   "outputs": [],
   "source": [
    "# Привет мир\n",
    "# Так и знала! ХЕХЕХЕХ"
   ]
  },
  {
   "cell_type": "markdown",
   "metadata": {},
   "source": [
    "## Соглашения об именовании сущностей:\n",
    "\n",
    "Ограничения на именование переменных в питоне те же, что и во многих других языках: название должно начинаться с буквы или \\_, и в нём не должно быть специальных символов. Любой объект можно назвать как угодно, исходя из этого правила, но есть ряд соглашений, принятых для большей читаемости кода:\n",
    "\n",
    "* <code>variable</code>\n",
    "* <code>variable_with_long_name</code>\n",
    "* <code>ClassName</code>\n",
    "* <code>function</code>\n",
    "* <code>function_with_long_name</code>\n",
    "* <code>someFunctionForCompabilityWithOtherLanguageOrLegacyCode</code>"
   ]
  },
  {
   "cell_type": "markdown",
   "metadata": {
    "colab_type": "text",
    "id": "DKVN-CcVKUo3"
   },
   "source": [
    "## Операторы\n",
    "\n",
    "### Арифметические операторы:"
   ]
  },
  {
   "cell_type": "code",
   "execution_count": 9,
   "metadata": {
    "colab": {
     "base_uri": "https://localhost:8080/",
     "height": 136
    },
    "colab_type": "code",
    "executionInfo": {
     "elapsed": 660,
     "status": "ok",
     "timestamp": 1575227866362,
     "user": {
      "displayName": "Надежда Демиденко",
      "photoUrl": "https://lh3.googleusercontent.com/a-/AAuE7mA6D7k5OgtG9hzPe8Abs8DfOKAXQoTXaPfn7EY=s64",
      "userId": "05224310221243935536"
     },
     "user_tz": -180
    },
    "id": "mUQdFIUkKUo5",
    "outputId": "25188913-596f-464a-d099-aaccfa19866a"
   },
   "outputs": [
    {
     "name": "stdout",
     "output_type": "stream",
     "text": [
      "Сложение:  5+2 = 7\n",
      "Вычитание: 5-2 = 3\n",
      "Умножение: 5*2 = 10\n",
      "Степень:   5^2 = 25\n",
      "Деление:   5/2 = 2.5\n",
      "      Целое:     2\n",
      "      Остаток:   1\n"
     ]
    }
   ],
   "source": [
    "a = 5 + 2;  \n",
    "print('Сложение:  5+2 =', a)\n",
    "a = 5 - 2;  \n",
    "print('Вычитание: 5-2 =', a)\n",
    "a = 5 * 2;  \n",
    "print('Умножение: 5*2 =', a)\n",
    "a = 5 ** 2; \n",
    "print('Степень:   5^2 =', a)\n",
    "a = 5 / 2;  \n",
    "print('Деление:   5/2 =', a)\n",
    "a = 5 // 2; \n",
    "print('      Целое:    ', a)\n",
    "a = 5 % 2;  \n",
    "print('      Остаток:  ', a)"
   ]
  },
  {
   "cell_type": "markdown",
   "metadata": {
    "colab_type": "text",
    "id": "SgJln--NKUo_"
   },
   "source": [
    "Также с каждым из арифметических операторов возможен вариант записи:\n",
    "`a += b`, который равнозначен `a = a + b`\n",
    "\n",
    "`a **= b`, равнозначен `a = a ** b`\n",
    "и т.д."
   ]
  },
  {
   "cell_type": "code",
   "execution_count": 10,
   "metadata": {},
   "outputs": [
    {
     "name": "stdout",
     "output_type": "stream",
     "text": [
      "8\n"
     ]
    }
   ],
   "source": [
    "a = 5\n",
    "a += 3\n",
    "print(a)"
   ]
  },
  {
   "cell_type": "markdown",
   "metadata": {
    "colab_type": "text",
    "id": "aA-NxeJ0KUpC"
   },
   "source": [
    "### Побитовые операторы"
   ]
  },
  {
   "cell_type": "markdown",
   "metadata": {
    "colab_type": "text",
    "id": "ZY2AUga1KUpD"
   },
   "source": [
    "Побитовые операторы предназначены для работы с данными в битовом (двоичном) формате.\n",
    "\n",
    "`&` - побитовый \"И\"\n",
    "\n",
    "`|` - побитовый \"ИЛИ\"\n",
    "\n",
    "`^` - побитовый \"Исключающее ИЛИ\"\n",
    "\n",
    "`~` - побитовое отрицание (дополнение) - унарная операция\n",
    "\n",
    "`<<` - побитовый сдвиг влево\n",
    "\n",
    "`>>` - побитовый сдвиг право"
   ]
  },
  {
   "cell_type": "code",
   "execution_count": 11,
   "metadata": {
    "colab": {
     "base_uri": "https://localhost:8080/",
     "height": 119
    },
    "colab_type": "code",
    "executionInfo": {
     "elapsed": 621,
     "status": "ok",
     "timestamp": 1575218593856,
     "user": {
      "displayName": "Надежда Демиденко",
      "photoUrl": "https://lh3.googleusercontent.com/a-/AAuE7mA6D7k5OgtG9hzPe8Abs8DfOKAXQoTXaPfn7EY=s64",
      "userId": "05224310221243935536"
     },
     "user_tz": -180
    },
    "id": "3N4FskfqKUpF",
    "outputId": "d97fe9b6-974e-4b99-8bbf-563a0c0900c9"
   },
   "outputs": [
    {
     "name": "stdout",
     "output_type": "stream",
     "text": [
      "101 & 011 =  1 ( 0b1 )\n",
      "101 | 011 =  7 ( 0b111 )\n",
      "101 ^ 011 =  6 ( 0b110 )\n",
      "~101 =  -6 ( -0b110 )\n",
      "101 << 2 =  10 ( 0b1010 )\n",
      "101 >> 2 =  2 ( 0b10 )\n"
     ]
    }
   ],
   "source": [
    "print(\"101 & 011 = \", 5 & 3, \"(\", bin(5 & 3), \")\")\n",
    "print(\"101 | 011 = \", 5 | 3, \"(\", bin(5 | 3), \")\")\n",
    "print(\"101 ^ 011 = \", 5 ^ 3, \"(\", bin(5 ^ 3), \")\")\n",
    "print(\"~101 = \", ~5, \"(\", bin(~5), \")\")\n",
    "print(\"101 << 2 = \",5 << 1, \"(\", bin(5 << 1), \")\")\n",
    "print(\"101 >> 2 = \",5 >> 1, \"(\", bin(5 >> 1), \")\")\n",
    "\n",
    "# bin() - представление числа в двоичной системе счисления"
   ]
  },
  {
   "cell_type": "markdown",
   "metadata": {
    "colab_type": "text",
    "id": "OaZ86Ff5KUpL"
   },
   "source": [
    "### Логические операторы и операторы сравнения:"
   ]
  },
  {
   "cell_type": "markdown",
   "metadata": {
    "colab_type": "text",
    "id": "2QTuZEnkKUpN"
   },
   "source": [
    "`and` - логический \"И\"\n",
    "\n",
    "`or` - логический \"ИЛИ\"\n",
    "\n",
    "`not` - логический \"НЕ\"\n",
    "\n",
    "`==` - равно\n",
    "\n",
    "`!=` - не равно\n",
    "\n",
    "`<`, `>` - меньше, больше\n",
    "\n",
    "`<=`, `>=` - меньше или равно, больше или равно"
   ]
  },
  {
   "cell_type": "code",
   "execution_count": 12,
   "metadata": {
    "colab": {
     "base_uri": "https://localhost:8080/",
     "height": 34
    },
    "colab_type": "code",
    "executionInfo": {
     "elapsed": 603,
     "status": "ok",
     "timestamp": 1575218701943,
     "user": {
      "displayName": "Надежда Демиденко",
      "photoUrl": "https://lh3.googleusercontent.com/a-/AAuE7mA6D7k5OgtG9hzPe8Abs8DfOKAXQoTXaPfn7EY=s64",
      "userId": "05224310221243935536"
     },
     "user_tz": -180
    },
    "id": "FW75_Tx6KUpP",
    "outputId": "c0411e84-0eb2-4b09-9dea-65c04e8be678"
   },
   "outputs": [
    {
     "name": "stdout",
     "output_type": "stream",
     "text": [
      "a == 50: True\n",
      "a == 51: False\n",
      "a != 50: False\n",
      "a != 51: True\n",
      "a > b: False\n",
      "a <= b: True\n",
      "a == 50 and b == 100: True\n",
      "a == 50 or b == 50: True\n",
      "not (a == 50): False\n"
     ]
    }
   ],
   "source": [
    "a = 50\n",
    "b = 100\n",
    "\n",
    "print(\"a == 50:\", a == 50)\n",
    "print(\"a == 51:\", a == 51)\n",
    "print(\"a != 50:\", a != 50)\n",
    "print(\"a != 51:\", a != 51)\n",
    "print(\"a > b:\", a > b)\n",
    "print(\"a <= b:\", a <= b)\n",
    "\n",
    "print(\"a == 50 and b == 100:\", a == 50 and b == 100)\n",
    "print(\"a == 50 or b == 50:\", a == 50 or b == 50)\n",
    "print(\"not (a == 50):\", not (a == 50))"
   ]
  },
  {
   "cell_type": "markdown",
   "metadata": {
    "colab_type": "text",
    "id": "mD9vcLOkKUpX"
   },
   "source": [
    "## Вложенные инструкции (условия, циклы, и т.п.)\n",
    "\n",
    "Вряд ли можно написать хоть какую-то более-менее сложную программу в виде прямолинейного списка команд. Чтобы описывать хоть какую-то разнообразную логику, в программировании есть ряд приемов - это условия и циклы.\n",
    "\n",
    "**Условный оператор** - это специальный оператор, внутри которого описывается условие. Если оно верно, выполняется одна часть кода, в противном случае - другая. Условием может быть, например, сравнение значений двух переменных.\n",
    "\n",
    "**Цикл** - это оператор, в котором так же описано условие, но от этого зависит, сколько раз будет выполняться нижеописанный код. Кроме того, в питоне предусмотрен обход значений в списке или любой другой коллекции, так что в этом языке необязательно в заголовке цикла описывать логическую конструкцию.\n",
    "\n",
    "Во вложенных инструкциях основная инструкция завершается символом `:`, а вложенные выделяются отступами. Обычно для читаемости кода - четырьмя пробелами. Будем называть такую конструкцию блоком.\n",
    "\n",
    "*Примечание*: выделять вложенные инструкции можно также и символом табуляции, но лучше так не делать, поскольку в разных текстовых редакторах символ табуляции может автоматически конвертироваться в разное количество пробелов, и будет возникать т.н. ошибка индентации: в питоне каждый блок должен быть выделен одинаковым количеством пробелов, и посреди блока это количество менять нельзя."
   ]
  },
  {
   "cell_type": "markdown",
   "metadata": {
    "colab_type": "text",
    "id": "hTyVhMYA6V-z"
   },
   "source": [
    "### Условный оператор\n",
    "\n",
    "Используются три оператора: if, elif, else. If - это основное условие, elif - добавочное условие, которое проверяется в том случае, если условие под if не выполняется, else - это блок кода, который исполняется, если ни одно из условий выше не выполнено. При описании условного оператора надо помнить, что:\n",
    "- if - это обязательный оператор\n",
    "- elif - необязательный, и их в одной конструкции может быть сколько угодно\n",
    "- else - необязательный, может быть только один"
   ]
  },
  {
   "cell_type": "code",
   "execution_count": 15,
   "metadata": {
    "colab": {
     "base_uri": "https://localhost:8080/",
     "height": 34
    },
    "colab_type": "code",
    "executionInfo": {
     "elapsed": 614,
     "status": "ok",
     "timestamp": 1575218716875,
     "user": {
      "displayName": "Надежда Демиденко",
      "photoUrl": "https://lh3.googleusercontent.com/a-/AAuE7mA6D7k5OgtG9hzPe8Abs8DfOKAXQoTXaPfn7EY=s64",
      "userId": "05224310221243935536"
     },
     "user_tz": -180
    },
    "id": "flJp7oMqKUpY",
    "outputId": "b83ccef6-2ea6-4219-ca1f-b8bce1d3c256"
   },
   "outputs": [
    {
     "name": "stdout",
     "output_type": "stream",
     "text": [
      "No\n"
     ]
    }
   ],
   "source": [
    "a = 2\n",
    "b = 3\n",
    "\n",
    "if a > b:\n",
    "    a += 1\n",
    "    print('Yes.')\n",
    "elif a < b:\n",
    "    a -= 1\n",
    "    print('No')\n",
    "else:\n",
    "    print('Equal.')"
   ]
  },
  {
   "cell_type": "markdown",
   "metadata": {},
   "source": [
    "## Задание\n",
    "\n",
    "Напишите скрипт, который считывает строку с клавиатуры. Выведите на экран \"привет\", если введенная строка совпадает со строкой \"привет\" или \"здравствуйте\". Правильность решения можно проверить в контесте в задаче Синтаксис. Ввод и вывод данных."
   ]
  },
  {
   "cell_type": "code",
   "execution_count": 17,
   "metadata": {},
   "outputs": [
    {
     "name": "stdout",
     "output_type": "stream",
     "text": [
      "привет\n"
     ]
    }
   ],
   "source": [
    "word = input()\n",
    "if word == \"привет\" or word == \"здравствуйте\": print(\"привет\")"
   ]
  },
  {
   "cell_type": "markdown",
   "metadata": {
    "colab_type": "text",
    "id": "oKLCXKbU65-l"
   },
   "source": [
    "### Циклы\n",
    "\n",
    "Важное отличие питона от многих других языков, таких как C и Java, это синтаксис оператора for. Итерироваться стоит не по индексу, а по элементам коллекции (аналогичный синтаксис появился в C++14: `for (auto el: collection) {}`)."
   ]
  },
  {
   "cell_type": "code",
   "execution_count": 18,
   "metadata": {
    "colab": {
     "base_uri": "https://localhost:8080/",
     "height": 153
    },
    "colab_type": "code",
    "executionInfo": {
     "elapsed": 938,
     "status": "ok",
     "timestamp": 1575228285924,
     "user": {
      "displayName": "Надежда Демиденко",
      "photoUrl": "https://lh3.googleusercontent.com/a-/AAuE7mA6D7k5OgtG9hzPe8Abs8DfOKAXQoTXaPfn7EY=s64",
      "userId": "05224310221243935536"
     },
     "user_tz": -180
    },
    "id": "ugBftAvn68-l",
    "outputId": "96382a92-1953-44ba-fb6d-0ec6eebbc968"
   },
   "outputs": [
    {
     "name": "stdout",
     "output_type": "stream",
     "text": [
      "0\n",
      "1\n",
      "2\n",
      "3\n",
      "4\n",
      "5\n",
      "6\n",
      "7\n"
     ]
    }
   ],
   "source": [
    "# Цикл от 0 до n-1:\n",
    "\n",
    "for i in range(8):\n",
    "    print(i) "
   ]
  },
  {
   "cell_type": "markdown",
   "metadata": {},
   "source": [
    "В вышеприведенном примере функция range возвращает генератор, который при каждом обращении к нему возвращает следующее число из списка от 0 до n-1, где n - это аргумент функции range."
   ]
  },
  {
   "cell_type": "code",
   "execution_count": 19,
   "metadata": {
    "colab": {
     "base_uri": "https://localhost:8080/",
     "height": 34
    },
    "colab_type": "code",
    "executionInfo": {
     "elapsed": 648,
     "status": "ok",
     "timestamp": 1575228294293,
     "user": {
      "displayName": "Надежда Демиденко",
      "photoUrl": "https://lh3.googleusercontent.com/a-/AAuE7mA6D7k5OgtG9hzPe8Abs8DfOKAXQoTXaPfn7EY=s64",
      "userId": "05224310221243935536"
     },
     "user_tz": -180
    },
    "id": "4l6Cr5aU7CrZ",
    "outputId": "ccdb55e5-8464-4671-dd07-621fe2db356c"
   },
   "outputs": [
    {
     "name": "stdout",
     "output_type": "stream",
     "text": [
      "40320\n"
     ]
    }
   ],
   "source": [
    "# Цикл от m до n-1. \n",
    "# Посчитаем факториал числа 8\n",
    "\n",
    "f = 1\n",
    "for i in range(2, 9):  # также в функции range можно задать начальное значение последовательности\n",
    "    f = f * i\n",
    "    \n",
    "print(f)"
   ]
  },
  {
   "cell_type": "code",
   "execution_count": 20,
   "metadata": {
    "colab": {
     "base_uri": "https://localhost:8080/",
     "height": 187
    },
    "colab_type": "code",
    "executionInfo": {
     "elapsed": 679,
     "status": "ok",
     "timestamp": 1575228310428,
     "user": {
      "displayName": "Надежда Демиденко",
      "photoUrl": "https://lh3.googleusercontent.com/a-/AAuE7mA6D7k5OgtG9hzPe8Abs8DfOKAXQoTXaPfn7EY=s64",
      "userId": "05224310221243935536"
     },
     "user_tz": -180
    },
    "id": "L-knLbiJ7E0N",
    "outputId": "b8a32ef5-6088-4a7b-e80d-87e8d45745e4"
   },
   "outputs": [
    {
     "name": "stdout",
     "output_type": "stream",
     "text": [
      "Следующий символ: a\n",
      "Следующий символ: b\n",
      "Следующий символ: c\n",
      "Следующий символ: d\n",
      "Следующий символ: e\n",
      "Следующий символ: f\n",
      "Следующий символ: g\n"
     ]
    }
   ],
   "source": [
    "# Цикл по итерируемому объекту\n",
    "\n",
    "string = \"abcdefg\"\n",
    "for character in string:\n",
    "    print(\"Следующий символ:\", character)"
   ]
  },
  {
   "cell_type": "markdown",
   "metadata": {},
   "source": [
    "Если нужно всё-таки использовать и индекс объекта в перебираемой коллекции, можно использовать `enumerate`:"
   ]
  },
  {
   "cell_type": "code",
   "execution_count": 21,
   "metadata": {},
   "outputs": [
    {
     "name": "stdout",
     "output_type": "stream",
     "text": [
      "Символ с индексом 0 : a\n",
      "Символ с индексом 1 : b\n",
      "Символ с индексом 2 : c\n",
      "Символ с индексом 3 : d\n",
      "Символ с индексом 4 : e\n",
      "Символ с индексом 5 : f\n",
      "Символ с индексом 6 : g\n"
     ]
    }
   ],
   "source": [
    "string = \"abcdefg\"\n",
    "for i, character in enumerate(string):\n",
    "    print(\"Символ с индексом\", i, \":\", character)"
   ]
  },
  {
   "cell_type": "markdown",
   "metadata": {},
   "source": [
    "Как вы поняли, цикл for в питоне в основном используется для последовательного обращения к элементам колекции. Но также есть оператор while, который исполняет код внутри себя в цикле до тех пор, пока выполняется условие, описанное в первой строке while."
   ]
  },
  {
   "cell_type": "code",
   "execution_count": 22,
   "metadata": {
    "colab": {
     "base_uri": "https://localhost:8080/",
     "height": 34
    },
    "colab_type": "code",
    "executionInfo": {
     "elapsed": 831,
     "status": "ok",
     "timestamp": 1575229317741,
     "user": {
      "displayName": "Надежда Демиденко",
      "photoUrl": "https://lh3.googleusercontent.com/a-/AAuE7mA6D7k5OgtG9hzPe8Abs8DfOKAXQoTXaPfn7EY=s64",
      "userId": "05224310221243935536"
     },
     "user_tz": -180
    },
    "id": "B640wgJl9a2T",
    "outputId": "b117614e-60d2-499c-cbaa-28180adfd9c1"
   },
   "outputs": [
    {
     "name": "stdout",
     "output_type": "stream",
     "text": [
      "90\n"
     ]
    }
   ],
   "source": [
    "# Цикл while\n",
    "# Сумма четных чисел от 2 до n\n",
    "\n",
    "n = 20\n",
    "i = 2\n",
    "s = 0\n",
    "\n",
    "while i < n:  # пока значение i меньше значения n будем исполнять следующие две строки, изменяя значение i\n",
    "    s += i\n",
    "    i += 2\n",
    "print(s)"
   ]
  },
  {
   "cell_type": "markdown",
   "metadata": {
    "colab_type": "text",
    "id": "17OwBYin7d9D"
   },
   "source": [
    "### Описание функций\n",
    "\n",
    "**Функции** - это блоки кода, которые можно вызывать для разных данных из разных частей кода. Допустим, нам часто нужно считать сумму каких-то значений. Если везде писать всё это с нуля, у нас получится очень много одинакового кода. Чтобы не копипастить код, можно один раз его записать в функцию и использовать в разных местах скрипта для совершения одних и тех же действий над различными данными. Кроме того, если понадобится изменить логику обработки данных, не придется править ее во всех местах кода, если эта логика вынесена в отдельную функцию.\n",
    "\n",
    "Описание функций начинается с ключевого слова `def`. Дальше следует название функции, аргументы, а затем - сам код. Функции в питоне всегда возвращают значение. Указать, какое конкретно значение нужно вернуть, можно ключевым словом `return`. Если не указано, возвращается None."
   ]
  },
  {
   "cell_type": "code",
   "execution_count": 25,
   "metadata": {
    "colab": {},
    "colab_type": "code",
    "id": "mcf7uZFT7hJZ"
   },
   "outputs": [],
   "source": [
    "def plus(a, b):\n",
    "    c = a + b\n",
    "    return c"
   ]
  },
  {
   "cell_type": "markdown",
   "metadata": {},
   "source": [
    "А теперь можем использовать эту функцию для разных данных:"
   ]
  },
  {
   "cell_type": "code",
   "execution_count": 26,
   "metadata": {},
   "outputs": [
    {
     "data": {
      "text/plain": [
       "16"
      ]
     },
     "execution_count": 26,
     "metadata": {},
     "output_type": "execute_result"
    }
   ],
   "source": [
    "plus(6, 10)"
   ]
  },
  {
   "cell_type": "markdown",
   "metadata": {},
   "source": [
    "Мы передали в функцию plus два аргумента: 6 и 10. Первый встал внутри функции на место переменной a, а второй - на место переменной b. Функция вернула нам результат, описанный в операторе `return`. Т.е. такой результат можно записать в переменную:"
   ]
  },
  {
   "cell_type": "code",
   "execution_count": 27,
   "metadata": {},
   "outputs": [
    {
     "name": "stdout",
     "output_type": "stream",
     "text": [
      "10\n"
     ]
    }
   ],
   "source": [
    "function_result = plus(5, 5)\n",
    "print(function_result)"
   ]
  },
  {
   "cell_type": "markdown",
   "metadata": {},
   "source": [
    "Если возвращаемое значение не описано, всегда возвращается специальное значение None, которое по сути обозначает \"ничего\":"
   ]
  },
  {
   "cell_type": "code",
   "execution_count": 28,
   "metadata": {},
   "outputs": [
    {
     "name": "stdout",
     "output_type": "stream",
     "text": [
      "None\n"
     ]
    }
   ],
   "source": [
    "def func_none():\n",
    "    5 + 5\n",
    "    \n",
    "none_result = func_none()\n",
    "print(none_result)"
   ]
  },
  {
   "cell_type": "markdown",
   "metadata": {},
   "source": [
    "Если мы ничего не хотим делать внутри функции, можем использовать специальный оператор `pass`:"
   ]
  },
  {
   "cell_type": "code",
   "execution_count": 29,
   "metadata": {},
   "outputs": [],
   "source": [
    "def nothing():\n",
    "    pass\n",
    "\n",
    "nothing()"
   ]
  },
  {
   "cell_type": "markdown",
   "metadata": {
    "colab_type": "text",
    "id": "UeDt_EItKUpe"
   },
   "source": [
    "### Прочие рекомендации по оформлению вложенных конструкций\n",
    "\n",
    "Если вложенная инструкция одна, ее можно записать в одну строку с основной инструкцией. Хотя для читаемости кода так не рекомендуется делать."
   ]
  },
  {
   "cell_type": "code",
   "execution_count": 30,
   "metadata": {
    "colab": {
     "base_uri": "https://localhost:8080/",
     "height": 34
    },
    "colab_type": "code",
    "executionInfo": {
     "elapsed": 1265,
     "status": "ok",
     "timestamp": 1575218727954,
     "user": {
      "displayName": "Надежда Демиденко",
      "photoUrl": "https://lh3.googleusercontent.com/a-/AAuE7mA6D7k5OgtG9hzPe8Abs8DfOKAXQoTXaPfn7EY=s64",
      "userId": "05224310221243935536"
     },
     "user_tz": -180
    },
    "id": "03VzGfqtKUpg",
    "outputId": "bb2fc0c9-a411-4159-fbab-7fedeb44f921"
   },
   "outputs": [
    {
     "name": "stdout",
     "output_type": "stream",
     "text": [
      "Yes.\n"
     ]
    }
   ],
   "source": [
    "a = 5\n",
    "b = 3\n",
    "\n",
    "if a > b: print('Yes.')\n",
    "else: print('No.')"
   ]
  },
  {
   "cell_type": "markdown",
   "metadata": {
    "colab_type": "text",
    "id": "H5f0_NIpKUpm"
   },
   "source": [
    "Условие, помещающееся в одной строке, заключать в скобки не нужно.\n",
    "Допустимо разбить длинное условие на несколько строк, но в таком случае его необходимо заключить в круглые скобки:"
   ]
  },
  {
   "cell_type": "code",
   "execution_count": 31,
   "metadata": {
    "colab": {
     "base_uri": "https://localhost:8080/",
     "height": 68
    },
    "colab_type": "code",
    "executionInfo": {
     "elapsed": 777,
     "status": "ok",
     "timestamp": 1575218740537,
     "user": {
      "displayName": "Надежда Демиденко",
      "photoUrl": "https://lh3.googleusercontent.com/a-/AAuE7mA6D7k5OgtG9hzPe8Abs8DfOKAXQoTXaPfn7EY=s64",
      "userId": "05224310221243935536"
     },
     "user_tz": -180
    },
    "id": "ecsNqUHJKUpo",
    "outputId": "7e7325e0-8ea9-4806-acba-4c8207050c96"
   },
   "outputs": [
    {
     "name": "stdout",
     "output_type": "stream",
     "text": [
      "1\n"
     ]
    }
   ],
   "source": [
    "a = 1\n",
    "b = 2\n",
    "c = 3\n",
    "d = 4\n",
    "\n",
    "if (a == 1 and b == 2 and\n",
    "    c == 3 and d == 4):\n",
    "    print('1')"
   ]
  },
  {
   "cell_type": "markdown",
   "metadata": {
    "colab_type": "text",
    "id": "HWZkCWxXw4rN"
   },
   "source": [
    "Также иногда используется обратный слэш: `\\`."
   ]
  },
  {
   "cell_type": "code",
   "execution_count": 32,
   "metadata": {
    "colab": {},
    "colab_type": "code",
    "id": "eiZ8A8M-zDhX"
   },
   "outputs": [
    {
     "data": {
      "text/plain": [
       "15"
      ]
     },
     "execution_count": 32,
     "metadata": {},
     "output_type": "execute_result"
    }
   ],
   "source": [
    "1 + 2 + 3 \\\n",
    "+ 4 + 5"
   ]
  },
  {
   "cell_type": "markdown",
   "metadata": {},
   "source": [
    "## Строгая динамическая типизация\n",
    "\n",
    "В питоне, в отличие от, например, C или Java, не требуется принудительно указывать тип переменных. В одну и ту же переменную можно по очереди записать значения разных типов. Тем не менее здесь нет приведения типов по умолчанию, т.е. если между двумя типами не определена операция, которую интерпретатор пытается исполнить, то ни один из операндов не будет приведен к типу другого, и мы получим ошибку."
   ]
  },
  {
   "cell_type": "code",
   "execution_count": 33,
   "metadata": {},
   "outputs": [
    {
     "name": "stdout",
     "output_type": "stream",
     "text": [
      "a = 1\n",
      "a = abc\n"
     ]
    },
    {
     "ename": "TypeError",
     "evalue": "can only concatenate str (not \"int\") to str",
     "output_type": "error",
     "traceback": [
      "\u001b[0;31m---------------------------------------------------------------------------\u001b[0m",
      "\u001b[0;31mTypeError\u001b[0m                                 Traceback (most recent call last)",
      "\u001b[0;32m/var/folders/zz/zyxvpxvq6csfxvn_n003wh4w00z417/T/ipykernel_86806/2562786765.py\u001b[0m in \u001b[0;36m<module>\u001b[0;34m\u001b[0m\n\u001b[1;32m      5\u001b[0m \u001b[0;34m\u001b[0m\u001b[0m\n\u001b[1;32m      6\u001b[0m \u001b[0;31m# а следующая строка выдаст ошибку:\u001b[0m\u001b[0;34m\u001b[0m\u001b[0;34m\u001b[0m\u001b[0;34m\u001b[0m\u001b[0m\n\u001b[0;32m----> 7\u001b[0;31m \u001b[0;34m\"abc\"\u001b[0m \u001b[0;34m+\u001b[0m \u001b[0;36m1\u001b[0m\u001b[0;34m\u001b[0m\u001b[0;34m\u001b[0m\u001b[0m\n\u001b[0m",
      "\u001b[0;31mTypeError\u001b[0m: can only concatenate str (not \"int\") to str"
     ]
    }
   ],
   "source": [
    "a = 1\n",
    "print(\"a =\", a)\n",
    "a = \"abc\"\n",
    "print(\"a =\", a)\n",
    "\n",
    "# а следующая строка выдаст ошибку:\n",
    "\"abc\" + 1"
   ]
  },
  {
   "cell_type": "markdown",
   "metadata": {
    "colab_type": "text",
    "id": "eB1m2y63HiC1"
   },
   "source": [
    "## Вызов методов и свойств\n",
    "\n",
    "Объекты питона имеют свойства (значения) и функции, которые можно выполнить над ними самими (такие функции называются методами). Вызов методов и свойств происходит через точку.\n",
    "\n",
    "При вызове метода на конце ставятся скобки, даже если параметров у метода нет."
   ]
  },
  {
   "cell_type": "code",
   "execution_count": 34,
   "metadata": {
    "colab": {
     "base_uri": "https://localhost:8080/",
     "height": 85
    },
    "colab_type": "code",
    "executionInfo": {
     "elapsed": 628,
     "status": "ok",
     "timestamp": 1575232790350,
     "user": {
      "displayName": "Надежда Демиденко",
      "photoUrl": "https://lh3.googleusercontent.com/a-/AAuE7mA6D7k5OgtG9hzPe8Abs8DfOKAXQoTXaPfn7EY=s64",
      "userId": "05224310221243935536"
     },
     "user_tz": -180
    },
    "id": "Zy6lOUxOKGDH",
    "outputId": "03694b83-7a14-47ac-e317-13f52440a4a4"
   },
   "outputs": [
    {
     "name": "stdout",
     "output_type": "stream",
     "text": [
      "['abc', 'de', 'f', 'gh']\n",
      "ABC:DE:F:GH\n",
      "5\n",
      "12\n"
     ]
    }
   ],
   "source": [
    "s = 'abc:de:f:gh'\n",
    "\n",
    "# Вызов метода с параметрами\n",
    "print(s.split(':'))\n",
    "\n",
    "# Вызов метода без параметров\n",
    "print(s.upper())\n",
    "\n",
    "class B:\n",
    "    n = 5\n",
    "    def adder(v):\n",
    "        return v + B.n\n",
    "\n",
    "# Вызов свойства класса\n",
    "print(B.n)\n",
    "# Вызов метода класса\n",
    "print(B.adder(7))"
   ]
  },
  {
   "cell_type": "markdown",
   "metadata": {},
   "source": [
    "# Задание\n",
    "\n",
    "Написать скрипт, который считывает с клавиатуры числа, складывает только четные и выводит результат на экран. Правильность решения можете проверить в контесте в задаче Синтаксис. Сложение четных чисел."
   ]
  },
  {
   "cell_type": "code",
   "execution_count": 52,
   "metadata": {},
   "outputs": [
    {
     "name": "stdout",
     "output_type": "stream",
     "text": [
      "sum:  18\n"
     ]
    }
   ],
   "source": [
    "s = input()\n",
    "sum = 0\n",
    "while s != '':\n",
    "    if int(s) % 2 == 0: sum += int(s)\n",
    "    s = input()\n",
    "print(sum)"
   ]
  }
 ],
 "metadata": {
  "colab": {
   "name": "topic01.ipynb",
   "provenance": []
  },
  "interpreter": {
   "hash": "aee8b7b246df8f9039afb4144a1f6fd8d2ca17a180786b69acc140d282b71a49"
  },
  "kernelspec": {
   "display_name": "Python 3.7.9 64-bit",
   "language": "python",
   "name": "python3"
  },
  "language_info": {
   "codemirror_mode": {
    "name": "ipython",
    "version": 3
   },
   "file_extension": ".py",
   "mimetype": "text/x-python",
   "name": "python",
   "nbconvert_exporter": "python",
   "pygments_lexer": "ipython3",
   "version": "3.7.9"
  }
 },
 "nbformat": 4,
 "nbformat_minor": 1
}
