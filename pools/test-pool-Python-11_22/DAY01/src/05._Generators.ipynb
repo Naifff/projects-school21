{
 "cells": [
  {
   "cell_type": "markdown",
   "metadata": {
    "colab_type": "text",
    "id": "NaZJVtw1iyEU"
   },
   "source": [
    "# Генераторы и ленивые вычисления"
   ]
  },
  {
   "cell_type": "markdown",
   "metadata": {
    "colab_type": "text",
    "id": "URnSv8ibiyEW"
   },
   "source": [
    "В Python просто **генераторы** (*generator*) и **генераторы списков** (*list comprehension*) - разные вещи. Рассмотрим и то, и другое."
   ]
  },
  {
   "cell_type": "markdown",
   "metadata": {
    "colab_type": "text",
    "id": "rgiQ3Or1iyEW"
   },
   "source": [
    "## Генераторы списков\n",
    "\n",
    "В Python генераторы списков позволяют создавать и быстро заполнять списки.\n",
    "\n",
    "Синтаксическая конструкция генератора списка предполагает наличие итерируемого объекта или итератора, на базе которого будет создаваться новый список, а также выражение, которое будет что-то делать с извлеченными из последовательности элементами перед тем как добавить их в формируемый список. "
   ]
  },
  {
   "cell_type": "code",
   "execution_count": 1,
   "metadata": {
    "colab": {},
    "colab_type": "code",
    "id": "CvKmmPBSiyEX",
    "outputId": "2cd4db93-40f2-4608-8cab-157acb5cbc15"
   },
   "outputs": [
    {
     "name": "stdout",
     "output_type": "stream",
     "text": [
      "[1, 2, 3]\n",
      "[11, 12, 13]\n"
     ]
    }
   ],
   "source": [
    "a = [1, 2, 3]\n",
    "b = [i+10 for i in a]\n",
    "\n",
    "print(a)\n",
    "print(b)"
   ]
  },
  {
   "cell_type": "markdown",
   "metadata": {
    "colab_type": "text",
    "id": "shNzUj_6iyEa"
   },
   "source": [
    "Здесь генератором списка является выражение `[i+10 for i in a]`.\n",
    "\n",
    "`a` - итерируемый объект. В данном случае это другой список.\\\n",
    "Из него извлекается каждый элемент в цикле for.\\\n",
    "Перед for описывается действие, которое выполняется над элементом перед его добавлением в новый список.\n",
    "\n",
    "В генератор списка можно добавить условие:"
   ]
  },
  {
   "cell_type": "code",
   "execution_count": 2,
   "metadata": {
    "colab": {},
    "colab_type": "code",
    "id": "NcnulnksiyEa",
    "outputId": "a9986a0d-4aef-46ec-8e66-1f2859e0ee03"
   },
   "outputs": [
    {
     "name": "stdout",
     "output_type": "stream",
     "text": [
      "[12, 16, 18, 20, 15, 12, 17, 19, 14, 18]\n",
      "[12, 16, 18, 20, 12, 14, 18]\n"
     ]
    }
   ],
   "source": [
    "from random import randint\n",
    "\n",
    "nums = [randint(10, 20) for i in range(10)]\n",
    "print(nums)\n",
    "\n",
    "nums = [i for i in nums if i%2 == 0]\n",
    "print(nums)"
   ]
  },
  {
   "cell_type": "markdown",
   "metadata": {
    "colab_type": "text",
    "id": "X1XwV-J7iyEc"
   },
   "source": [
    "Генераторы списков могут содержать вложенные циклы:"
   ]
  },
  {
   "cell_type": "code",
   "execution_count": 3,
   "metadata": {
    "colab": {},
    "colab_type": "code",
    "id": "HzA3ylUwiyEc",
    "outputId": "a4965705-89c2-4d50-f955-99f6ffdf779c"
   },
   "outputs": [
    {
     "name": "stdout",
     "output_type": "stream",
     "text": [
      "['134', '135', '136', '234', '235', '236']\n"
     ]
    }
   ],
   "source": [
    "a = \"12\"\n",
    "b = \"3\"\n",
    "c = \"456\"\n",
    "\n",
    "comb = [i+j+k for i in a for j in b for k in c]\n",
    "print(comb)"
   ]
  },
  {
   "cell_type": "markdown",
   "metadata": {
    "colab_type": "text",
    "id": "3Zr4QTCaiyEe"
   },
   "source": [
    "### Генераторы словарей и множеств\n",
    "\n",
    "Если в выражении генератора списка заменить квадратные скобки на фигурные, то можно получить не список, а словарь.\n",
    "\n",
    "При этом синтаксис выражения до `for` должен быть соответствующий словарю, то есть включать ключ и через двоеточие значение. Если этого нет, будет сгенерировано множество."
   ]
  },
  {
   "cell_type": "code",
   "execution_count": 4,
   "metadata": {
    "colab": {},
    "colab_type": "code",
    "id": "oWBWe1xHiyEf",
    "outputId": "8c81f542-9f5b-44aa-f093-e0d80dcaeea6"
   },
   "outputs": [
    {
     "name": "stdout",
     "output_type": "stream",
     "text": [
      "{11: 121, 12: 144, 13: 169, 14: 196}\n",
      "{11, 12, 13, 14}\n",
      "{1, 2, 3}\n"
     ]
    }
   ],
   "source": [
    "a = {i:i**2 for i in range(11,15)}\n",
    "print(a)\n",
    "\n",
    "a = {i for i in range(11,15)}\n",
    "print(a)\n",
    "b = {1, 2, 3}\n",
    "print(b)"
   ]
  },
  {
   "cell_type": "markdown",
   "metadata": {
    "colab_type": "text",
    "id": "Y2a4aMApozEg"
   },
   "source": [
    "Примечание:\n",
    "\n",
    "В Python3 в словарях при использовании метода `.keys()`, `.values()` и `.items()` для доступа к ключам и значениям создаётся представление соответствующего элемента. По сути это представление является генератором. Копия данных не создаётся.\n",
    "\n",
    "Тип этих данных - dict_keys, dict_values, dict_items."
   ]
  },
  {
   "cell_type": "code",
   "execution_count": 5,
   "metadata": {
    "colab": {},
    "colab_type": "code",
    "id": "rfH857mspGyQ"
   },
   "outputs": [
    {
     "name": "stdout",
     "output_type": "stream",
     "text": [
      "dict_keys(['a', 'b', 'c', 'd', 'e'])\n",
      "dict_values([1, 2, 3, 4, 5])\n",
      "dict_items([('a', 1), ('b', 2), ('c', 3), ('d', 4), ('e', 5)])\n"
     ]
    }
   ],
   "source": [
    "my_dict = {'a': 1, 'b': 2, 'c': 3, 'd': 4, 'e': 5}\n",
    "print(my_dict.keys())\n",
    "print(my_dict.values())\n",
    "print(my_dict.items())"
   ]
  },
  {
   "cell_type": "markdown",
   "metadata": {
    "colab_type": "text",
    "id": "yx5_ThfQiyEg"
   },
   "source": [
    "## Генераторы\n",
    "\n",
    "Ленивые вычисления - стратегия вычисления, согласно которой вычисления следует откладывать до тех пор, пока не понадобится их результат. Для ленивых вычислений нам потребуются генераторы.\n",
    "\n",
    "Выражения, создающие объекты-генераторы, похожи на выражения, генерирующие списки. Чтобы создать генераторный объект, надо использовать круглые скобки."
   ]
  },
  {
   "cell_type": "code",
   "execution_count": 6,
   "metadata": {
    "colab": {
     "base_uri": "https://localhost:8080/",
     "height": 136
    },
    "colab_type": "code",
    "executionInfo": {
     "elapsed": 1438,
     "status": "ok",
     "timestamp": 1574937028745,
     "user": {
      "displayName": "Надежда Демиденко",
      "photoUrl": "https://lh3.googleusercontent.com/a-/AAuE7mA6D7k5OgtG9hzPe8Abs8DfOKAXQoTXaPfn7EY=s64",
      "userId": "05224310221243935536"
     },
     "user_tz": -180
    },
    "id": "fromjY0ajnqX",
    "outputId": "4007a616-d710-4dc1-d3e5-1fecafbe3eb2"
   },
   "outputs": [
    {
     "name": "stdout",
     "output_type": "stream",
     "text": [
      "<generator object <genexpr> at 0x0000021F2E228448>\n",
      "2\n",
      "3\n",
      "4\n",
      "5\n",
      "6\n",
      "7\n"
     ]
    }
   ],
   "source": [
    "a = (i for i in range(2, 8))\n",
    "print(a)\n",
    "\n",
    "for i in a:\n",
    "    print(i)"
   ]
  },
  {
   "cell_type": "code",
   "execution_count": 8,
   "metadata": {},
   "outputs": [],
   "source": [
    "for i in a:\n",
    "    print(i)"
   ]
  },
  {
   "cell_type": "markdown",
   "metadata": {
    "colab_type": "text",
    "id": "XWMxc70Cknuh"
   },
   "source": [
    "Второй раз перебрать генератор в цикле for не получится, так как объект-генератор уже сгенерировал все значения по заложенной в него \"формуле\". Поэтому генераторы обычно используются, когда надо единожды пройтись по итерируемому объекту.\n",
    "\n",
    "Кроме того, генераторы экономят память, так как в ней хранятся не все значения, скажем, большого списка, а только предыдущий элемент, предел и формула, по которой вычисляется следующий элемент. \n",
    "\n",
    "Выражение, создающее генератор, это сокращенная запись следующего:\n",
    "\n"
   ]
  },
  {
   "cell_type": "code",
   "execution_count": 9,
   "metadata": {
    "colab": {
     "base_uri": "https://localhost:8080/",
     "height": 85
    },
    "colab_type": "code",
    "executionInfo": {
     "elapsed": 1136,
     "status": "ok",
     "timestamp": 1574937260584,
     "user": {
      "displayName": "Надежда Демиденко",
      "photoUrl": "https://lh3.googleusercontent.com/a-/AAuE7mA6D7k5OgtG9hzPe8Abs8DfOKAXQoTXaPfn7EY=s64",
      "userId": "05224310221243935536"
     },
     "user_tz": -180
    },
    "id": "49M-KQKckqS0",
    "outputId": "776c2c3a-ddfc-4e8e-b0f7-7f3bebb64784"
   },
   "outputs": [
    {
     "name": "stdout",
     "output_type": "stream",
     "text": [
      "<generator object func at 0x0000021F2E2285C8>\n",
      "0.33\n",
      "0.66\n",
      "0.99\n"
     ]
    }
   ],
   "source": [
    "def func(start, finish):\n",
    "    while start < finish:\n",
    "        yield start * 0.33\n",
    "        start += 1\n",
    "    \n",
    "\n",
    "a = func(1, 4)\n",
    "print(a)\n",
    "\n",
    "for i in a:\n",
    "    print(i)"
   ]
  },
  {
   "cell_type": "code",
   "execution_count": 10,
   "metadata": {},
   "outputs": [],
   "source": [
    "for i in a:\n",
    "    print(i)"
   ]
  },
  {
   "cell_type": "markdown",
   "metadata": {
    "colab_type": "text",
    "id": "XWinvS2JlGnf"
   },
   "source": [
    "Функция, содержащая `yield`, возвращает объект-генератор, а не выполняет свой код сразу. Тело функции исполняется при каждом вызове метода `__next__()`. В цикле for это делается автоматически.\n",
    "\n",
    "При этом после выдачи результата командой yield состояние генератора, все его внутренние переменные сохраняются. При следующей попытке выдернуть элемент из генератора работа начнётся со строчки, следующей за yield."
   ]
  },
  {
   "cell_type": "markdown",
   "metadata": {
    "colab_type": "text",
    "id": "EIQZJ2xxld2T"
   },
   "source": [
    "Пример генератора чисел Фибоначчи:"
   ]
  },
  {
   "cell_type": "code",
   "execution_count": 11,
   "metadata": {
    "colab": {
     "base_uri": "https://localhost:8080/",
     "height": 85
    },
    "colab_type": "code",
    "executionInfo": {
     "elapsed": 1351,
     "status": "ok",
     "timestamp": 1574937601981,
     "user": {
      "displayName": "Надежда Демиденко",
      "photoUrl": "https://lh3.googleusercontent.com/a-/AAuE7mA6D7k5OgtG9hzPe8Abs8DfOKAXQoTXaPfn7EY=s64",
      "userId": "05224310221243935536"
     },
     "user_tz": -180
    },
    "id": "oMYZrqnwlghq",
    "outputId": "e2c7a252-b05d-48be-a517-1af853e8a6ac"
   },
   "outputs": [
    {
     "name": "stdout",
     "output_type": "stream",
     "text": [
      "1 1 2 3 5 8 13 21 34 55 89 144 233 377 610 987 1597 2584 4181 6765 Сумма первых 100 чисел Фибоначчи равна 927372692193078999175\n",
      "[1, 1, 2, 3, 5, 8, 13, 21, 34, 55, 89, 144, 233, 377, 610, 987]\n",
      "[1, 1, 4, 9, 25, 64, 169, 441, 1156, 3025, 7921, 20736, 54289, 142129]\n"
     ]
    }
   ],
   "source": [
    "def fibonacci(n):\n",
    "    fib1, fib2 = 0, 1\n",
    "    for i in range(n):\n",
    "        fib1, fib2 = fib2, fib1 + fib2\n",
    "        yield fib1\n",
    "\n",
    "for fib in fibonacci(20):\n",
    "    print(fib, end=' ')\n",
    "\n",
    "print('Сумма первых 100 чисел Фибоначчи равна', sum(fibonacci(100)))\n",
    "print(list(fibonacci(16)))\n",
    "print([x*x for x in fibonacci(14)])"
   ]
  }
 ],
 "metadata": {
  "colab": {
   "name": "topic05.ipynb",
   "provenance": []
  },
  "kernelspec": {
   "display_name": "Python 3",
   "language": "python",
   "name": "python3"
  },
  "language_info": {
   "codemirror_mode": {
    "name": "ipython",
    "version": 3
   },
   "file_extension": ".py",
   "mimetype": "text/x-python",
   "name": "python",
   "nbconvert_exporter": "python",
   "pygments_lexer": "ipython3",
   "version": "3.7.6"
  }
 },
 "nbformat": 4,
 "nbformat_minor": 1
}
