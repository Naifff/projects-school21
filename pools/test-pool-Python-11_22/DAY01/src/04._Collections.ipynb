{
 "cells": [
  {
   "cell_type": "markdown",
   "metadata": {
    "colab_type": "text",
    "id": "vjOw806ePGYf"
   },
   "source": [
    "# Работа с итерируемыми коллекциями\n",
    "\n",
    "Коллекция в Python — программный объект (переменная-контейнер), хранящая набор значений одного или различных типов, позволяющий обращаться к этим значениям, а также применять специальные функции и методы, зависящие от типа коллекции."
   ]
  },
  {
   "cell_type": "markdown",
   "metadata": {
    "colab_type": "text",
    "id": "6jFHTx2BPGYh"
   },
   "source": [
    "## Классификация коллекций\n",
    "\n",
    "Классифицировать коллекции в питоне можно по нескольким признакам.\n",
    "\n",
    "**Индексированность**. В любой коллекции каким-то образом должен осуществляться доступ до конкретного элемента. Самый простой способ понять, какой элемент из коллекции нужен - это пронумеровать все элементы и получить нужный по номеру. Этот номер называется индексом. Однако в питоне, кроме индексации, есть еще один способ, как определить соответствие между запросом и элементом: доступ по ключу. Ключом может быть любой неизменяемый объект, уникальный для данной коллекции. Между ключом и значением коллекции в этом случае определяется однозначное соответствие. Также может быть случай, когда у коллекции нет ни индексов, ни ключей.\n",
    "\n",
    "**Уникальность**. Часть коллекций допускает, что каждый элемент коллекции может встречаться в ней только один раз, а другая часть никак не ограничивает это. Если такое свойство у коллекции есть, это порождает требование неизменности используемых типов данных для каждого элемента. Например, таким элементом не может быть список.\n",
    "\n",
    "**Изменяемость коллекции** — позволяет добавлять в коллекцию новых членов или удалять их после создания коллекции.\n",
    "\n",
    "В таблице ниже показано, какие коллекции обладают этими свойствами.\n",
    "\n",
    "![Классификация коллекций](04/04-00.png)\n",
    "\n",
    "Варианты задания коллекций приведены ниже. Убедимся с помощью функции type в том, что созданные коллекции действительно соответствуют заявленным типам."
   ]
  },
  {
   "cell_type": "code",
   "execution_count": 3,
   "metadata": {
    "colab": {},
    "colab_type": "code",
    "id": "0FR4kfQ6PGYi",
    "outputId": "2d58c51e-d551-4dc1-c7ab-a32666ffd851"
   },
   "outputs": [
    {
     "name": "stdout",
     "output_type": "stream",
     "text": [
      "<class 'list'>\n",
      "<class 'tuple'>\n",
      "<class 'set'>\n",
      "<class 'frozenset'>\n",
      "<class 'dict'>\n"
     ]
    }
   ],
   "source": [
    "# Список (list) - задается квадратными скобками либо конструктором list()\n",
    "a = [1, 2, 3]\n",
    "print(type(a))\n",
    "\n",
    "# Кортеж (tuple) - задается круглыми скобками либо конструктором tuple()\n",
    "a = (1, 2, 3)\n",
    "print(type(a))\n",
    "\n",
    "# Множество (set) - задается фигурными скобками с перечисленными через запятую значениями либо конструктором set()\n",
    "a = {1, 2, 3}\n",
    "print(type(a))\n",
    "\n",
    "# Неизменное множество (frozenset) - задается конструктором frozenset\n",
    "a = frozenset(1, 2, 3)\n",
    "print(type(a))\n",
    "\n",
    "# Словарь (dict) - коллекция \"ключ-значение\". Задается фигурными скобками, где ключи и значения разделены двоеточием\n",
    "a = {1: 'a', 2: 'b', 3: 'c'}\n",
    "print(type(a))"
   ]
  },
  {
   "cell_type": "markdown",
   "metadata": {
    "colab_type": "text",
    "id": "YbHTzkBcPGYk"
   },
   "source": [
    "В зависимости от стоящих задач, один тип коллекции можно конвертировать в другой тип коллекции. Для этого, как правило достаточно передать одну коллекцию в функцию создания другой.\n",
    "\n",
    "При преобразовании одной коллекции в другую возможна потеря данных:\n",
    "\n",
    "- При преобразовании в множество теряются дублирующие элементы, так как множество содержит только уникальные элементы. Проверка на уникальность элементов во входной коллекции обычно и является причиной использовать множество на практике.\n",
    "- При конвертации индексированной коллекции в неиндексированную теряется информация о порядке элементов."
   ]
  },
  {
   "cell_type": "code",
   "execution_count": 4,
   "metadata": {
    "colab": {},
    "colab_type": "code",
    "id": "T0vPrg3APGYl",
    "outputId": "ad6692b0-3d8b-43de-fc6c-80b4df6e57d4"
   },
   "outputs": [
    {
     "name": "stdout",
     "output_type": "stream",
     "text": [
      "['a', 'b', 'a'] {'a', 'b'} frozenset({'a', 'b'})\n"
     ]
    }
   ],
   "source": [
    "my_tuple = ('a', 'b', 'a')\n",
    "\n",
    "my_list = list(my_tuple)\n",
    "my_set = set(my_tuple)                  # теряем индексы и дубликаты элементов\n",
    "my_frozenset = frozenset(my_tuple)      # теряем индексы и дубликаты элементов\n",
    "\n",
    "print(my_list, my_set, my_frozenset)"
   ]
  },
  {
   "cell_type": "markdown",
   "metadata": {
    "colab_type": "text",
    "id": "mqr3Q4VjPGYn"
   },
   "source": [
    "## Общие действия для всех коллекций\n",
    "\n",
    "Ниже приведем возможности python, реализованные для всех коллекций.\n",
    "\n",
    "- Печать элементов: `print()`"
   ]
  },
  {
   "cell_type": "code",
   "execution_count": 5,
   "metadata": {
    "colab": {
     "base_uri": "https://localhost:8080/",
     "height": 34
    },
    "colab_type": "code",
    "executionInfo": {
     "elapsed": 2503,
     "status": "ok",
     "timestamp": 1575285065201,
     "user": {
      "displayName": "Надежда Демиденко",
      "photoUrl": "https://lh3.googleusercontent.com/a-/AAuE7mA6D7k5OgtG9hzPe8Abs8DfOKAXQoTXaPfn7EY=s64",
      "userId": "05224310221243935536"
     },
     "user_tz": -180
    },
    "id": "RNUpqiFsPGYo",
    "outputId": "2b47c7a6-948e-45e3-8080-f8641053c361"
   },
   "outputs": [
    {
     "name": "stdout",
     "output_type": "stream",
     "text": [
      "['a', 'b', 'c', 'd', 'e', 'f']\n"
     ]
    }
   ],
   "source": [
    "my_list = ['a', 'b', 'c', 'd', 'e', 'f']\n",
    "print(my_list)"
   ]
  },
  {
   "cell_type": "markdown",
   "metadata": {
    "colab_type": "text",
    "id": "RKG4g4vrPGYp"
   },
   "source": [
    "- Подсчет количества элементов: `len()`"
   ]
  },
  {
   "cell_type": "code",
   "execution_count": 6,
   "metadata": {
    "colab": {
     "base_uri": "https://localhost:8080/",
     "height": 34
    },
    "colab_type": "code",
    "executionInfo": {
     "elapsed": 2632,
     "status": "ok",
     "timestamp": 1575285084438,
     "user": {
      "displayName": "Надежда Демиденко",
      "photoUrl": "https://lh3.googleusercontent.com/a-/AAuE7mA6D7k5OgtG9hzPe8Abs8DfOKAXQoTXaPfn7EY=s64",
      "userId": "05224310221243935536"
     },
     "user_tz": -180
    },
    "id": "XC0IkQGvPGYq",
    "outputId": "7e883c99-b523-4ce9-f627-9e96bc92bbaa"
   },
   "outputs": [
    {
     "name": "stdout",
     "output_type": "stream",
     "text": [
      "6\n"
     ]
    }
   ],
   "source": [
    "my_list = ['a', 'b', 'c', 'd', 'e', 'f']\n",
    "print(len(my_list))"
   ]
  },
  {
   "cell_type": "markdown",
   "metadata": {
    "colab_type": "text",
    "id": "L3GPNy6ePGYt"
   },
   "source": [
    "- Проверка принадлежности элемента данной коллекции: операторы `in`, `not in`"
   ]
  },
  {
   "cell_type": "code",
   "execution_count": 7,
   "metadata": {
    "colab": {
     "base_uri": "https://localhost:8080/",
     "height": 85
    },
    "colab_type": "code",
    "executionInfo": {
     "elapsed": 907,
     "status": "ok",
     "timestamp": 1575285122229,
     "user": {
      "displayName": "Надежда Демиденко",
      "photoUrl": "https://lh3.googleusercontent.com/a-/AAuE7mA6D7k5OgtG9hzPe8Abs8DfOKAXQoTXaPfn7EY=s64",
      "userId": "05224310221243935536"
     },
     "user_tz": -180
    },
    "id": "5tisZa3WPGYu",
    "outputId": "de87cf45-424f-4e66-877d-f2627e6f4255"
   },
   "outputs": [
    {
     "name": "stdout",
     "output_type": "stream",
     "text": [
      "True\n",
      "False\n",
      "False\n",
      "True\n"
     ]
    }
   ],
   "source": [
    "my_list = ['a', 'b', 'c', 'd', 'e', 'f']\n",
    "\n",
    "print('a' in my_list)\n",
    "print('q' in my_list)\n",
    "print('a' not in my_list)\n",
    "print('q' not in my_list)"
   ]
  },
  {
   "cell_type": "markdown",
   "metadata": {
    "colab_type": "text",
    "id": "8Y1pQ8kIPGYw"
   },
   "source": [
    "- Обход всех элементов в цикле: `for in`\n",
    "\n",
    "В цикле будут последовательно перебираться элементы коллекции, пока не будут перебраны все из них.\n",
    "\n",
    "Для индексированных коллекций порядок следования элементов определен изначально - по возрастанию индекса. Порядок обработки элементов для не индексированных коллекций регламентирован не во всех версиях питона.\n",
    "\n",
    "**Не меняйте количество элементов коллекции в теле цикла во время итерации по этой же коллекции!** — Это порождает не всегда очевидные на первый взгляд ошибки."
   ]
  },
  {
   "cell_type": "code",
   "execution_count": 1,
   "metadata": {
    "colab": {
     "base_uri": "https://localhost:8080/",
     "height": 119
    },
    "colab_type": "code",
    "executionInfo": {
     "elapsed": 1063,
     "status": "ok",
     "timestamp": 1575285148500,
     "user": {
      "displayName": "Надежда Демиденко",
      "photoUrl": "https://lh3.googleusercontent.com/a-/AAuE7mA6D7k5OgtG9hzPe8Abs8DfOKAXQoTXaPfn7EY=s64",
      "userId": "05224310221243935536"
     },
     "user_tz": -180
    },
    "id": "jBf8pbg5PGYw",
    "outputId": "015c023a-295c-4aaf-c170-db6ecf39904f"
   },
   "outputs": [
    {
     "name": "stdout",
     "output_type": "stream",
     "text": [
      "a\n",
      "b\n",
      "c\n",
      "d\n",
      "e\n",
      "f\n"
     ]
    }
   ],
   "source": [
    "my_list = ['a', 'b', 'c', 'd', 'e', 'f']\n",
    "\n",
    "for elem in my_list:\n",
    "    print(elem)"
   ]
  },
  {
   "cell_type": "markdown",
   "metadata": {
    "colab_type": "text",
    "id": "hZcFKCePWt8f"
   },
   "source": [
    "- Функция `enumerate()`\n",
    "\n",
    "Встроенная функция `enumerate()` создает объект, который генерирует кортежи, состоящие из двух элементов - индекса элемента и самого элемента.\n",
    "\n",
    "Функция `enumerate()` используется для упрощения прохода по коллекциям в цикле, когда кроме самих элементов требуется их индекс."
   ]
  },
  {
   "cell_type": "code",
   "execution_count": 2,
   "metadata": {
    "colab": {
     "base_uri": "https://localhost:8080/",
     "height": 153
    },
    "colab_type": "code",
    "executionInfo": {
     "elapsed": 627,
     "status": "ok",
     "timestamp": 1575622333369,
     "user": {
      "displayName": "Надежда Демиденко",
      "photoUrl": "https://lh3.googleusercontent.com/a-/AAuE7mA6D7k5OgtG9hzPe8Abs8DfOKAXQoTXaPfn7EY=s64",
      "userId": "05224310221243935536"
     },
     "user_tz": -180
    },
    "id": "cjuqtRatV2CA",
    "outputId": "1a7560fc-3bf6-4070-cbf9-df6d0e99fd0c"
   },
   "outputs": [
    {
     "name": "stdout",
     "output_type": "stream",
     "text": [
      "(0, 'a')\n",
      "(1, 'b')\n",
      "(2, 'c')\n",
      "(3, 'd')\n"
     ]
    }
   ],
   "source": [
    "a = ['a', 'b', 'c', 'd']\n",
    "\n",
    "for i in enumerate(a):  # каждый элемент i в цикле - это кортеж из индекса и значения в списке\n",
    "    print(i)"
   ]
  },
  {
   "cell_type": "code",
   "execution_count": 3,
   "metadata": {},
   "outputs": [
    {
     "name": "stdout",
     "output_type": "stream",
     "text": [
      "Индекс: 0 значение: a\n",
      "Индекс: 1 значение: b\n",
      "Индекс: 2 значение: c\n",
      "Индекс: 3 значение: d\n"
     ]
    }
   ],
   "source": [
    "for i, item in enumerate(a):  # сразу же в цикле эти кортежи можно \"распаковать\" на две переменные i, item\n",
    "    print(\"Индекс:\", i, \"значение:\", item)"
   ]
  },
  {
   "cell_type": "markdown",
   "metadata": {
    "colab_type": "text",
    "id": "ZNAe7-bJPGYy"
   },
   "source": [
    "- Функции `min()`, `max()`, `sum()`\n",
    "\n",
    "Функции `min()`, `max()` — поиск минимального и максимального элемента соответственно — работают не только для числовых, но и для строковых значений.\n",
    "\n",
    "`sum()` — суммирование всех элементов списка. Однако эта функция работает только если все элементы списка - числовые, поскольку внутри нее зашита логика `0 + ...`, что при сложении со строкой выдаст ошибку типов."
   ]
  },
  {
   "cell_type": "code",
   "execution_count": 11,
   "metadata": {
    "colab": {
     "base_uri": "https://localhost:8080/",
     "height": 34
    },
    "colab_type": "code",
    "executionInfo": {
     "elapsed": 662,
     "status": "ok",
     "timestamp": 1575285169105,
     "user": {
      "displayName": "Надежда Демиденко",
      "photoUrl": "https://lh3.googleusercontent.com/a-/AAuE7mA6D7k5OgtG9hzPe8Abs8DfOKAXQoTXaPfn7EY=s64",
      "userId": "05224310221243935536"
     },
     "user_tz": -180
    },
    "id": "c9iiD1yvPGYy",
    "outputId": "9edc7f7e-508a-4c5f-854c-6fa9a12d7955"
   },
   "outputs": [
    {
     "name": "stdout",
     "output_type": "stream",
     "text": [
      "a\n"
     ]
    }
   ],
   "source": [
    "my_list = ['a', 'b', 'c', 'd', 'e', 'f']\n",
    "min(my_list)"
   ]
  },
  {
   "cell_type": "code",
   "execution_count": 5,
   "metadata": {},
   "outputs": [
    {
     "data": {
      "text/plain": [
       "2"
      ]
     },
     "execution_count": 5,
     "metadata": {},
     "output_type": "execute_result"
    }
   ],
   "source": [
    "min([3, 6, 2])"
   ]
  },
  {
   "cell_type": "code",
   "execution_count": 4,
   "metadata": {},
   "outputs": [
    {
     "data": {
      "text/plain": [
       "6"
      ]
     },
     "execution_count": 4,
     "metadata": {},
     "output_type": "execute_result"
    }
   ],
   "source": [
    "sum([1, 2, 3])"
   ]
  },
  {
   "cell_type": "code",
   "execution_count": 13,
   "metadata": {},
   "outputs": [
    {
     "ename": "TypeError",
     "evalue": "unsupported operand type(s) for +: 'int' and 'str'",
     "output_type": "error",
     "traceback": [
      "\u001b[1;31m---------------------------------------------------------------------------\u001b[0m",
      "\u001b[1;31mTypeError\u001b[0m                                 Traceback (most recent call last)",
      "\u001b[1;32m<ipython-input-13-8dd9ef8005a6>\u001b[0m in \u001b[0;36m<module>\u001b[1;34m\u001b[0m\n\u001b[1;32m----> 1\u001b[1;33m \u001b[0msum\u001b[0m\u001b[1;33m(\u001b[0m\u001b[1;33m[\u001b[0m\u001b[1;34m'1'\u001b[0m\u001b[1;33m,\u001b[0m \u001b[1;34m'2'\u001b[0m\u001b[1;33m,\u001b[0m \u001b[1;34m'3'\u001b[0m\u001b[1;33m]\u001b[0m\u001b[1;33m)\u001b[0m\u001b[1;33m\u001b[0m\u001b[1;33m\u001b[0m\u001b[0m\n\u001b[0m",
      "\u001b[1;31mTypeError\u001b[0m: unsupported operand type(s) for +: 'int' and 'str'"
     ]
    }
   ],
   "source": [
    "sum(['1', '2', '3'])"
   ]
  },
  {
   "cell_type": "markdown",
   "metadata": {
    "colab_type": "text",
    "id": "0nIZ8IuUPGY0"
   },
   "source": [
    "- Функция `sorted()` возвращает список, в котором все элементы исходного списка отсортированы.\n",
    "\n",
    "Мы может использовать функцию `sorted()` для вывода списка сортированных элементов любой коллекции для последующее обработки или вывода.\n",
    "\n",
    "1. функция не меняет исходную коллекцию, а возвращает новый список из ее элементов;\n",
    "2. независимо от типа исходной коллекции, вернётся список (list) ее элементов;\n",
    "3. поскольку она не меняет исходную коллекцию, ее можно применять к неизменяемым коллекциям;\n",
    "4. поскольку при сортировке возвращаемых элементов нам не важно, был ли у элемента некий индекс в исходной коллекции, можно применять к неиндексированным коллекциям;\n",
    "5. Имеет дополнительные не обязательные аргументы:\n",
    "    - `reverse = True` - сортировка в обратном порядке\n",
    "    - `key = funcname` (начиная с Python 2.4) - сортировка с помощью специальной функции funcname"
   ]
  },
  {
   "cell_type": "code",
   "execution_count": 14,
   "metadata": {
    "colab": {
     "base_uri": "https://localhost:8080/",
     "height": 68
    },
    "colab_type": "code",
    "executionInfo": {
     "elapsed": 1124,
     "status": "ok",
     "timestamp": 1575285198431,
     "user": {
      "displayName": "Надежда Демиденко",
      "photoUrl": "https://lh3.googleusercontent.com/a-/AAuE7mA6D7k5OgtG9hzPe8Abs8DfOKAXQoTXaPfn7EY=s64",
      "userId": "05224310221243935536"
     },
     "user_tz": -180
    },
    "id": "eJhYRR3qPGY0",
    "outputId": "395ad1d4-0113-4356-8e79-676bc198698d"
   },
   "outputs": [
    {
     "name": "stdout",
     "output_type": "stream",
     "text": [
      "[1, 2, 3, 5, 7]\n",
      "[7, 5, 3, 2, 1]\n",
      "['pc.png', 'apple.bmp', 'mydog.gif', 'somecat.jpg']\n"
     ]
    }
   ],
   "source": [
    "my_list = [2, 5, 1, 7, 3]\n",
    "my_list_sorted = sorted(my_list)\n",
    "print(my_list_sorted)\n",
    "\n",
    "my_set = {2, 5, 1, 7, 3}\n",
    "my_set_sorted = sorted(my_set, reverse=True)\n",
    "print(my_set_sorted)\n",
    "\n",
    "# сортировка списка строк по длине len() каждого элемента\n",
    "my_files = ['somecat.jpg', 'pc.png', 'apple.bmp', 'mydog.gif']\n",
    "my_files_sorted = sorted(my_files, key=len)\n",
    "print(my_files_sorted)"
   ]
  },
  {
   "cell_type": "markdown",
   "metadata": {
    "colab_type": "text",
    "id": "NpI9zoGhPGY2"
   },
   "source": [
    "- `.count()` - подсчет определенных элементов для неуникальных коллекций, возвращает сколько раз элемент встречается в коллекции."
   ]
  },
  {
   "cell_type": "code",
   "execution_count": 15,
   "metadata": {
    "colab": {},
    "colab_type": "code",
    "id": "fa7M6O_CPGY3",
    "outputId": "8e615fb5-e7dd-4a28-f231-8e5d9591982b"
   },
   "outputs": [
    {
     "name": "stdout",
     "output_type": "stream",
     "text": [
      "4\n",
      "0\n"
     ]
    }
   ],
   "source": [
    "my_list = [1, 2, 2, 2, 2, 3]\n",
    "\n",
    "print(my_list.count(2))\n",
    "print(my_list.count(5))"
   ]
  },
  {
   "cell_type": "markdown",
   "metadata": {
    "colab_type": "text",
    "id": "ZrntKDurPGY4"
   },
   "source": [
    "- `.index()` - минимальный индекс переданного элемента для индексированных коллекций. Если такого элемента не найдено - ошибка ValueError."
   ]
  },
  {
   "cell_type": "code",
   "execution_count": 16,
   "metadata": {
    "colab": {},
    "colab_type": "code",
    "id": "7qUiE951PGY5",
    "outputId": "898f6972-e34c-496e-9840-90cb94676d59"
   },
   "outputs": [
    {
     "name": "stdout",
     "output_type": "stream",
     "text": [
      "1\n"
     ]
    },
    {
     "ename": "ValueError",
     "evalue": "5 is not in list",
     "output_type": "error",
     "traceback": [
      "\u001b[1;31m---------------------------------------------------------------------------\u001b[0m",
      "\u001b[1;31mValueError\u001b[0m                                Traceback (most recent call last)",
      "\u001b[1;32m<ipython-input-16-57fa76e842cd>\u001b[0m in \u001b[0;36m<module>\u001b[1;34m\u001b[0m\n\u001b[0;32m      2\u001b[0m \u001b[1;33m\u001b[0m\u001b[0m\n\u001b[0;32m      3\u001b[0m \u001b[0mprint\u001b[0m\u001b[1;33m(\u001b[0m\u001b[0mmy_list\u001b[0m\u001b[1;33m.\u001b[0m\u001b[0mindex\u001b[0m\u001b[1;33m(\u001b[0m\u001b[1;36m2\u001b[0m\u001b[1;33m)\u001b[0m\u001b[1;33m)\u001b[0m\u001b[1;33m\u001b[0m\u001b[1;33m\u001b[0m\u001b[0m\n\u001b[1;32m----> 4\u001b[1;33m \u001b[0mprint\u001b[0m\u001b[1;33m(\u001b[0m\u001b[0mmy_list\u001b[0m\u001b[1;33m.\u001b[0m\u001b[0mindex\u001b[0m\u001b[1;33m(\u001b[0m\u001b[1;36m5\u001b[0m\u001b[1;33m)\u001b[0m\u001b[1;33m)\u001b[0m \u001b[1;31m# ValueError: 5 is not in list - такого элемента нет в списке\u001b[0m\u001b[1;33m\u001b[0m\u001b[1;33m\u001b[0m\u001b[0m\n\u001b[0m",
      "\u001b[1;31mValueError\u001b[0m: 5 is not in list"
     ]
    }
   ],
   "source": [
    "my_list = [1, 2, 2, 2, 2, 3]\n",
    "\n",
    "print(my_list.index(2))\n",
    "print(my_list.index(5)) # ValueError: 5 is not in list - такого элемента нет в списке"
   ]
  },
  {
   "cell_type": "markdown",
   "metadata": {
    "colab_type": "text",
    "id": "ds-uw01wPGY6"
   },
   "source": [
    "- `.copy()` — неглубокая (не рекурсивная) копия коллекции"
   ]
  },
  {
   "cell_type": "code",
   "execution_count": 17,
   "metadata": {
    "colab": {},
    "colab_type": "code",
    "id": "92RgKL_nPGY7",
    "outputId": "76241685-e9fd-4e3d-a0bc-80e17e375db2"
   },
   "outputs": [
    {
     "name": "stdout",
     "output_type": "stream",
     "text": [
      "True\n",
      "False\n"
     ]
    }
   ],
   "source": [
    "my_set = {1, 2, 3}\n",
    "my_set_2 = my_set.copy()\n",
    "\n",
    "print(my_set_2 == my_set)  # коллекции равны - содержат одинаковые значения\n",
    "print(my_set_2 is my_set)  # коллекции не идентичны - это разные объекты с разными id"
   ]
  },
  {
   "cell_type": "markdown",
   "metadata": {
    "colab_type": "text",
    "id": "XcOr3QFoPGY9"
   },
   "source": [
    "- `.clear()` — метод изменяемых коллекций, удаляющий из коллекции все элементы и превращающий её в пустую коллекцию."
   ]
  },
  {
   "cell_type": "code",
   "execution_count": 18,
   "metadata": {
    "colab": {},
    "colab_type": "code",
    "id": "4OM3ZF19PGY9",
    "outputId": "f4e01454-7b07-4933-fedd-c3f8e54cb428"
   },
   "outputs": [
    {
     "name": "stdout",
     "output_type": "stream",
     "text": [
      "{1, 2, 3}\n",
      "set()\n"
     ]
    }
   ],
   "source": [
    "my_set = {1, 2, 3}\n",
    "print(my_set)\n",
    "\n",
    "my_set.clear()\n",
    "print(my_set)"
   ]
  },
  {
   "cell_type": "markdown",
   "metadata": {
    "colab_type": "text",
    "id": "jk3nmQVFPGY_"
   },
   "source": [
    "## Списки\n",
    "\n",
    "**Список** - это изменяемая коллекция, элементы в которой доступны по индексам. Со списками, помимо описанных выше, возможны следующие действия:\n",
    "\n",
    "- Обращение к элементу\n",
    "\n",
    "Можно обратиться к элементу по индексу в квадратных скобках (отрицательный индекс означает отсчет с конца)."
   ]
  },
  {
   "cell_type": "code",
   "execution_count": 19,
   "metadata": {
    "colab": {},
    "colab_type": "code",
    "id": "nJNxcIllPGZA",
    "outputId": "e6b864e7-1817-4a98-8c36-12b328daf17b"
   },
   "outputs": [
    {
     "name": "stdout",
     "output_type": "stream",
     "text": [
      "a\n",
      "d\n",
      "f\n"
     ]
    }
   ],
   "source": [
    "my_list = ['a', 'b', 'c', 'd', 'e', 'f']\n",
    "\n",
    "print(my_list[0])\n",
    "print(my_list[3])\n",
    "print(my_list[-1])"
   ]
  },
  {
   "cell_type": "markdown",
   "metadata": {
    "colab_type": "text",
    "id": "aGKx62RPPGZB"
   },
   "source": [
    "Коллекции могут иметь несколько уровней вложенности, к примеру, список списков. Для перехода на уровень глубже ставится вторая пара квадратных скобок."
   ]
  },
  {
   "cell_type": "code",
   "execution_count": 20,
   "metadata": {
    "colab": {},
    "colab_type": "code",
    "id": "A8XAE_s6PGZD",
    "outputId": "86f69974-8531-4c90-acf8-0a7b22fc96bc"
   },
   "outputs": [
    {
     "name": "stdout",
     "output_type": "stream",
     "text": [
      "[1, 2, 3]\n",
      "1\n",
      "c\n"
     ]
    }
   ],
   "source": [
    "my_2lvl_list = [[1, 2, 3], ['a', 'b', 'c']]\n",
    "\n",
    "print(my_2lvl_list[0])\n",
    "print(my_2lvl_list[0][0])\n",
    "print(my_2lvl_list[1][-1])"
   ]
  },
  {
   "cell_type": "markdown",
   "metadata": {
    "colab_type": "text",
    "id": "PbxV3yZaPGZE"
   },
   "source": [
    "Так как **списки** - изменяемые коллекции, в них можно изменять элементы, обращаясь к ним через индекс.\\\n",
    "*Прим.: Для этого элемент уже должен существовать в списке, нельзя таким образом добавить элемент на несуществующий индекс.*"
   ]
  },
  {
   "cell_type": "code",
   "execution_count": 21,
   "metadata": {
    "colab": {},
    "colab_type": "code",
    "id": "GqUxYt8zPGZF",
    "outputId": "9ac37287-81e4-4ff7-fa30-02f582831bf5"
   },
   "outputs": [
    {
     "name": "stdout",
     "output_type": "stream",
     "text": [
      "[10, 2, 3, [40, 5]]\n"
     ]
    }
   ],
   "source": [
    "my_list = [1, 2, 3, [4, 5]]\n",
    "my_list[0] = 10\n",
    "my_list[-1][0] = 40\n",
    "print(my_list)"
   ]
  },
  {
   "cell_type": "markdown",
   "metadata": {
    "colab_type": "text",
    "id": "_P6-GsqKPGY2"
   },
   "source": [
    "- Добавление и удаление элементов "
   ]
  },
  {
   "cell_type": "code",
   "execution_count": 22,
   "metadata": {
    "colab": {
     "base_uri": "https://localhost:8080/",
     "height": 85
    },
    "colab_type": "code",
    "executionInfo": {
     "elapsed": 838,
     "status": "ok",
     "timestamp": 1575287019806,
     "user": {
      "displayName": "Надежда Демиденко",
      "photoUrl": "https://lh3.googleusercontent.com/a-/AAuE7mA6D7k5OgtG9hzPe8Abs8DfOKAXQoTXaPfn7EY=s64",
      "userId": "05224310221243935536"
     },
     "user_tz": -180
    },
    "id": "t3u83DQUXkVO",
    "outputId": "3949112c-943a-43d5-a650-d5f617757fa4"
   },
   "outputs": [
    {
     "name": "stdout",
     "output_type": "stream",
     "text": [
      "[13, 27, 8]\n",
      "[13, 27, 8, 41]\n",
      "[13, 8, 41]\n",
      "[13, 41]\n"
     ]
    }
   ],
   "source": [
    "my_list = [13, 27, 8]\n",
    "print(my_list)\n",
    "my_list.append(41)\n",
    "print(my_list)\n",
    "# Удаление по значению\n",
    "my_list.remove(27)\n",
    "print(my_list)\n",
    "# Удаление по индексу\n",
    "my_list.pop(1)\n",
    "print(my_list)"
   ]
  },
  {
   "cell_type": "markdown",
   "metadata": {},
   "source": [
    "Добавление элементов из другого списка"
   ]
  },
  {
   "cell_type": "code",
   "execution_count": 24,
   "metadata": {},
   "outputs": [
    {
     "name": "stdout",
     "output_type": "stream",
     "text": [
      "[1, 2, 3, 4, 5]\n"
     ]
    }
   ],
   "source": [
    "my_list = [1, 2, 3]\n",
    "another_list = [4, 5]\n",
    "\n",
    "my_list.extend(another_list)\n",
    "print(my_list)"
   ]
  },
  {
   "cell_type": "markdown",
   "metadata": {
    "colab_type": "text",
    "id": "Ni6pns0GPGZP"
   },
   "source": [
    "Для объединения списков (list) возможны три варианта без изменения исходного списка:"
   ]
  },
  {
   "cell_type": "code",
   "execution_count": 25,
   "metadata": {
    "colab": {},
    "colab_type": "code",
    "id": "AiyYEIcBPGZQ",
    "outputId": "5eb631a5-672d-45a7-b75e-0831cafd2e39"
   },
   "outputs": [
    {
     "name": "stdout",
     "output_type": "stream",
     "text": [
      "[1, 2, 3] [4, 5] [1, 2, 3, 4, 5]\n",
      "[1, 2, 3] [4, 5] [1, 2, 3, [4, 5]]\n",
      "[1, 2, 3, 4, 5]\n"
     ]
    }
   ],
   "source": [
    "# Добавляем все элементы второго списка к элементам первого\n",
    "# (аналог метод .extend() но без изменения исходного списка):\n",
    "a = [1, 2, 3]\n",
    "b = [4, 5]\n",
    "c = a + b           \n",
    "print(a, b, c)\n",
    "\n",
    "# Добавляем второй список как один элемент без изменения исходного списка\n",
    "# (аналог метода.append() но без изменения исходного списка):\n",
    "a = [1, 2, 3]\n",
    "b = [4, 5]\n",
    "c = a + [b]\n",
    "print(a, b, c)\n",
    "\n",
    "# работает на версии питона 3.5 и выше:\n",
    "a, b = [1, 2, 3], [4, 5]\n",
    "c = [*a, *b]\n",
    "print(c)"
   ]
  },
  {
   "cell_type": "markdown",
   "metadata": {},
   "source": [
    "Добавление и удаление элементов может использовать в любой изменяемой коллекции, поэтому приведем таблицу, где описано, как это происходит для разных коллекций.\n",
    "\n",
    "![Добавление и удаление элементов](04/04-03.png)"
   ]
  },
  {
   "cell_type": "markdown",
   "metadata": {},
   "source": [
    "## Задание\n",
    "\n",
    "С клавиатуры подается 5 чисел, разделенных концом строки. Нужно вывести их на экран от большего к меньшему, также разделяя их концом строки. Оценить правильность решения вы можете в контесте в задаче Коллекции. Списки"
   ]
  },
  {
   "cell_type": "code",
   "execution_count": 6,
   "metadata": {},
   "outputs": [
    {
     "name": "stdout",
     "output_type": "stream",
     "text": [
      "5\n",
      "4\n",
      "3\n",
      "2\n",
      "1\n"
     ]
    }
   ],
   "source": [
    "A = [0] * 5\n",
    "for i in range(5):\n",
    "    ch = input()\n",
    "    A[i] = int(ch)\n",
    "list = sorted(A, reverse=True)\n",
    "for el in list:\n",
    "    print(el)"
   ]
  },
  {
   "cell_type": "markdown",
   "metadata": {
    "colab_type": "text",
    "id": "S3Oe7r0FZM0A"
   },
   "source": [
    "## Кортежи и строки\n",
    "\n",
    "Кортежи и строки во многом похожи на списки, за одним исключением: они неизменяемые. Соответственно, для них работает всё то же самое, что и для списков, кроме функций, изменяющих коллекцию.\n",
    "\n",
    "Кортежи работают быстрее, чем списки, поэтому если не нужно менять коллекцию, лучше использовать кортеж или строку."
   ]
  },
  {
   "cell_type": "code",
   "execution_count": 26,
   "metadata": {
    "colab": {
     "base_uri": "https://localhost:8080/",
     "height": 204
    },
    "colab_type": "code",
    "executionInfo": {
     "elapsed": 763,
     "status": "ok",
     "timestamp": 1575287246656,
     "user": {
      "displayName": "Надежда Демиденко",
      "photoUrl": "https://lh3.googleusercontent.com/a-/AAuE7mA6D7k5OgtG9hzPe8Abs8DfOKAXQoTXaPfn7EY=s64",
      "userId": "05224310221243935536"
     },
     "user_tz": -180
    },
    "id": "TuVIeCc2Z7Z1",
    "outputId": "e0e0a267-74af-4629-e81f-f8b3c793d070"
   },
   "outputs": [
    {
     "name": "stdout",
     "output_type": "stream",
     "text": [
      "(3, 2, 4, 1, 5)\n",
      "4\n",
      "b\n",
      "[1, 2, 3, 4, 5]\n",
      "['b', 'd', 'k', 'l', 'n', 's']\n",
      "l\n",
      "n\n",
      "d\n",
      "s\n",
      "k\n",
      "b\n"
     ]
    }
   ],
   "source": [
    "my_tuple = (3, 2, 4, 1, 5)\n",
    "my_string = 'lndskb'\n",
    "\n",
    "print(my_tuple)\n",
    "print(my_tuple[2])\n",
    "\n",
    "print(my_string[-1])\n",
    "\n",
    "print(sorted(my_tuple))\n",
    "print(sorted(my_string))\n",
    "\n",
    "for each in my_string:\n",
    "    print(each)"
   ]
  },
  {
   "cell_type": "markdown",
   "metadata": {
    "colab_type": "text",
    "id": "T4lLLzN6PGZN"
   },
   "source": [
    "Объединение строк (string) и кортежей (tuple) возможна с использованием оператора сложения «+». При этом возвращается новый объект, а старые не изменяются."
   ]
  },
  {
   "cell_type": "code",
   "execution_count": 27,
   "metadata": {
    "colab": {},
    "colab_type": "code",
    "id": "2uH-ZNYuPGZN",
    "outputId": "1b28443e-d604-49d1-b1b6-7207ab727232"
   },
   "outputs": [
    {
     "name": "stdout",
     "output_type": "stream",
     "text": [
      "abcde\n",
      "(1, 2, 3, 4, 5)\n"
     ]
    }
   ],
   "source": [
    "str1 = 'abc'\n",
    "str2 = 'de'\n",
    "str3 = str1 + str2\n",
    "print(str3)\n",
    "\n",
    "tuple1 = (1, 2, 3)\n",
    "tuple2 = (4, 5)\n",
    "tuple3 = tuple1 + tuple2\n",
    "print(tuple3)"
   ]
  },
  {
   "cell_type": "markdown",
   "metadata": {
    "colab_type": "text",
    "id": "IYxrrT5zcqR3"
   },
   "source": [
    "## Словари и множества\n",
    "\n",
    "Множество (set) – неупорядоченная коллекция из уникальных (неповторяющихся) элементов. Элементы множества в Python должны быть немутабельны (неизменяемы), хотя само содержимое множества может меняться: можно добавлять и удалять элементы из множества.\n",
    "\n",
    "Словарь (dictionary) — это ассоциативный массив или хеш-таблица. Это неупорядоченное множество пар `ключ: значение` с требованием уникальности ключей. \n",
    "\n",
    "Внутри множества тоже реализованы как хэш-таблицы, в которых есть только ключи без значений и добавлены некоторые оптимизации, которые используют отсутствие значений."
   ]
  },
  {
   "cell_type": "code",
   "execution_count": 28,
   "metadata": {
    "colab": {
     "base_uri": "https://localhost:8080/",
     "height": 214
    },
    "colab_type": "code",
    "executionInfo": {
     "elapsed": 719,
     "status": "error",
     "timestamp": 1575288952985,
     "user": {
      "displayName": "Надежда Демиденко",
      "photoUrl": "https://lh3.googleusercontent.com/a-/AAuE7mA6D7k5OgtG9hzPe8Abs8DfOKAXQoTXaPfn7EY=s64",
      "userId": "05224310221243935536"
     },
     "user_tz": -180
    },
    "id": "OsSXRtkge8FH",
    "outputId": "3fb2815d-9457-4bfa-90dc-75f32735ee65"
   },
   "outputs": [
    {
     "ename": "TypeError",
     "evalue": "unhashable type: 'list'",
     "output_type": "error",
     "traceback": [
      "\u001b[1;31m---------------------------------------------------------------------------\u001b[0m",
      "\u001b[1;31mTypeError\u001b[0m                                 Traceback (most recent call last)",
      "\u001b[1;32m<ipython-input-28-4174d2d959f3>\u001b[0m in \u001b[0;36m<module>\u001b[1;34m\u001b[0m\n\u001b[0;32m      5\u001b[0m \u001b[0mmy_hetero_set\u001b[0m \u001b[1;33m=\u001b[0m \u001b[1;33m{\u001b[0m\u001b[1;34m\"abc\"\u001b[0m\u001b[1;33m,\u001b[0m \u001b[1;36m3.14\u001b[0m\u001b[1;33m,\u001b[0m \u001b[1;33m(\u001b[0m\u001b[1;36m10\u001b[0m\u001b[1;33m,\u001b[0m \u001b[1;36m20\u001b[0m\u001b[1;33m)\u001b[0m\u001b[1;33m}\u001b[0m  \u001b[1;31m# можно с кортежем\u001b[0m\u001b[1;33m\u001b[0m\u001b[1;33m\u001b[0m\u001b[0m\n\u001b[0;32m      6\u001b[0m \u001b[1;33m\u001b[0m\u001b[0m\n\u001b[1;32m----> 7\u001b[1;33m \u001b[0mmy_invalid_set\u001b[0m \u001b[1;33m=\u001b[0m \u001b[1;33m{\u001b[0m\u001b[1;34m\"abc\"\u001b[0m\u001b[1;33m,\u001b[0m \u001b[1;36m3.14\u001b[0m\u001b[1;33m,\u001b[0m \u001b[1;33m[\u001b[0m\u001b[1;36m10\u001b[0m\u001b[1;33m,\u001b[0m \u001b[1;36m20\u001b[0m\u001b[1;33m]\u001b[0m\u001b[1;33m}\u001b[0m  \u001b[1;31m# нельзя со списком, так как он нехешируемый\u001b[0m\u001b[1;33m\u001b[0m\u001b[1;33m\u001b[0m\u001b[0m\n\u001b[0m",
      "\u001b[1;31mTypeError\u001b[0m: unhashable type: 'list'"
     ]
    }
   ],
   "source": [
    "# Создание множества\n",
    "my_set = set() # пустое множество\n",
    "my_set = {1, 2, 3, 4}\n",
    "\n",
    "my_hetero_set = {\"abc\", 3.14, (10, 20)}  # можно с кортежем\n",
    "\n",
    "my_invalid_set = {\"abc\", 3.14, [10, 20]}  # нельзя со списком, так как он нехешируемый"
   ]
  },
  {
   "cell_type": "markdown",
   "metadata": {},
   "source": [
    "Словарь создается так же с использованием фигурных скобок, но важное отличие от множества: в нем прописаны ключи и значения через двоеточие, и уже эти пары разделены запятыми. Пустые фигурные скобки - это всегда пустой словарь."
   ]
  },
  {
   "cell_type": "code",
   "execution_count": 29,
   "metadata": {
    "colab": {
     "base_uri": "https://localhost:8080/",
     "height": 51
    },
    "colab_type": "code",
    "executionInfo": {
     "elapsed": 649,
     "status": "ok",
     "timestamp": 1575288896503,
     "user": {
      "displayName": "Надежда Демиденко",
      "photoUrl": "https://lh3.googleusercontent.com/a-/AAuE7mA6D7k5OgtG9hzPe8Abs8DfOKAXQoTXaPfn7EY=s64",
      "userId": "05224310221243935536"
     },
     "user_tz": -180
    },
    "id": "3vQWag4RhwDQ",
    "outputId": "adc7d5c2-5c36-4fc4-ac5c-3fd5e1b8c5a7"
   },
   "outputs": [
    {
     "name": "stdout",
     "output_type": "stream",
     "text": [
      "{}\n",
      "{'one': 10, 'two': 20, 'three': 30}\n"
     ]
    }
   ],
   "source": [
    "# Создание словаря\n",
    "\n",
    "my_dict1 = {} # Пустой словарь\n",
    "print(my_dict1)\n",
    "my_dict2 = {'one': 10, 'two': 20, 'three': 30}\n",
    "print(my_dict2)"
   ]
  },
  {
   "cell_type": "code",
   "execution_count": 30,
   "metadata": {
    "colab": {
     "base_uri": "https://localhost:8080/",
     "height": 374
    },
    "colab_type": "code",
    "executionInfo": {
     "elapsed": 713,
     "status": "ok",
     "timestamp": 1575289237227,
     "user": {
      "displayName": "Надежда Демиденко",
      "photoUrl": "https://lh3.googleusercontent.com/a-/AAuE7mA6D7k5OgtG9hzPe8Abs8DfOKAXQoTXaPfn7EY=s64",
      "userId": "05224310221243935536"
     },
     "user_tz": -180
    },
    "id": "H71xC2y2i9r4",
    "outputId": "f22495f9-1d9b-4e81-f3e1-94c9b945788c"
   },
   "outputs": [
    {
     "name": "stdout",
     "output_type": "stream",
     "text": [
      "Проход по ключам\n",
      "a\n",
      "b\n",
      "c\n",
      "d\n",
      "e\n",
      "f\n",
      "Проход по значениям\n",
      "1\n",
      "2\n",
      "3\n",
      "4\n",
      "5\n",
      "6\n",
      "Проход по парам - ключ: значение\n",
      "a 1\n",
      "b 2\n",
      "c 3\n",
      "d 4\n",
      "e 5\n",
      "f 6\n"
     ]
    }
   ],
   "source": [
    "# Доступ к значениям или к ключам выполняется при помощи .keys() или .values()\n",
    "# .items() возвращает пару \"ключ: значение\" в кортеже\n",
    "\n",
    "my_dict = {'a': 1, 'b': 2, 'c': 3, 'd': 4, 'e': 5, 'f': 6}\n",
    "\n",
    "print('Проход по ключам')\n",
    "for elem in my_dict:                   # равносильно my_dict.keys()\n",
    "    print(elem) \n",
    "    \n",
    "print('Проход по значениям')\n",
    "for elem in my_dict.values():          # .values() возвращает значения\n",
    "    print(elem)\n",
    "\n",
    "print('Проход по парам - ключ: значение')\n",
    "for key, value in my_dict.items():     # Проход по .items() возвращает кортеж (ключ, значение), \n",
    "    print(key, value)          "
   ]
  },
  {
   "cell_type": "markdown",
   "metadata": {
    "colab_type": "text",
    "id": "Wc1ksuulPGZM"
   },
   "source": [
    "Операции, непосредственно изменяющие множество\n",
    "\n",
    "|Функция|Пояснение \n",
    "|---|:---|\n",
    "|`set.update(other, ...)`; `set \\|= other \\| ...`|объединение|\n",
    "|`set.intersection_update(other, ...)`; `set &= other & ...`|пересечение|\n",
    "|`set.difference_update(other, ...)`; `set -= other \\| ...`|вычитание|\n",
    "|`set.symmetric_difference_update(other)`; `set ^= other`|множество из элементов, встречающихся в одном множестве, но не встречающиеся в обоих|\n",
    "|`set.add(elem)`|добавляет элемент в множество|\n",
    "|`set.remove(elem)`|удаляет элемент из множества. KeyError, если такого элемента не существует|\n",
    "|`set.discard(elem)`|удаляет элемент, если он находится в множестве|\n",
    "|`set.pop()`|удаляет первый элемент из множества. Так как множества не упорядочены, нельзя точно сказать, какой элемент будет первым|\n",
    "|`set.clear()`|очистка множества|"
   ]
  },
  {
   "cell_type": "markdown",
   "metadata": {
    "colab_type": "text",
    "id": "LWBSMlXVgNGN"
   },
   "source": [
    "С множествами можно выполнять множество операций: находить объединение, пересечение и т.п.:\n",
    "\n",
    "|Функция|Пояснение \n",
    "|---|:---|\n",
    "|`len(s)`|число элементов в множестве (размер множества)|\n",
    "|`x in s`|принадлежит ли x множеству s|\n",
    "|`set.isdisjoint(other)`|истина, если set и other не имеют общих элементов|\n",
    "|`set == other`|все элементы set принадлежат other, все элементы other принадлежат set|\n",
    "|`set.issubset(other)` или `set <= other`|все элементы set принадлежат other|\n",
    "|`set.issuperset(other)` или `set >= other`|аналогично|\n",
    "|`set.union(other, ...)` или `set \\| other \\| ...`|объединение нескольких множеств|\n",
    "|`set.intersection(other, ...)` или `set & other & ...`|пересечение|\n",
    "|`set.difference(other, ...)` или `set - other - ...`|множество из всех элементов set, не принадлежащие ни одному из other|\n",
    "|`set.symmetric_difference(other)`; `set ^ other`|множество из элементов, встречающихся в одном множестве, но не встречающиеся в обоих|\n",
    "|`set.copy()`|копия множества|"
   ]
  },
  {
   "cell_type": "markdown",
   "metadata": {
    "colab_type": "text",
    "id": "31fpGaQePGZS"
   },
   "source": [
    "Объединить словари можно, комбинируя методы .copy() и .update():"
   ]
  },
  {
   "cell_type": "code",
   "execution_count": 31,
   "metadata": {
    "colab": {
     "base_uri": "https://localhost:8080/",
     "height": 51
    },
    "colab_type": "code",
    "executionInfo": {
     "elapsed": 1420,
     "status": "ok",
     "timestamp": 1575288544579,
     "user": {
      "displayName": "Надежда Демиденко",
      "photoUrl": "https://lh3.googleusercontent.com/a-/AAuE7mA6D7k5OgtG9hzPe8Abs8DfOKAXQoTXaPfn7EY=s64",
      "userId": "05224310221243935536"
     },
     "user_tz": -180
    },
    "id": "jCUzbitxPGZS",
    "outputId": "fd97e853-89ec-47e5-b1d3-28fbd9ff4424"
   },
   "outputs": [
    {
     "name": "stdout",
     "output_type": "stream",
     "text": [
      "{'a': 1, 'b': 2, 'c': 3, 'd': 4}\n",
      "{'a': 1, 'b': 2, 'c': 3, 'd': 4}\n",
      "1\n",
      "1\n",
      "None\n"
     ]
    }
   ],
   "source": [
    "dict1 = {'a': 1, 'b': 2}\n",
    "dict2 = {'c': 3, 'd': 4}\n",
    "dict3 = dict1.copy()\n",
    "dict3.update(dict2)\n",
    "print(dict3)\n",
    "\n",
    "# Для версии Python 3.5 и выше:\n",
    "dict1 = {'a': 1, 'b': 2}\n",
    "dict2 = {'c': 3, 'd': 4}\n",
    "dict3 = {**dict1, **dict2}\n",
    "print(dict3)"
   ]
  },
  {
   "cell_type": "code",
   "execution_count": 35,
   "metadata": {},
   "outputs": [
    {
     "name": "stdout",
     "output_type": "stream",
     "text": [
      "1\n",
      "default\n"
     ]
    }
   ],
   "source": [
    "# Доступ к значениям словаря\n",
    "# print(dict1['qweqwe'])\n",
    "print(dict1.get('a'))\n",
    "print(dict1.get('qweqwe', \"default\"))"
   ]
  },
  {
   "cell_type": "code",
   "execution_count": 36,
   "metadata": {},
   "outputs": [
    {
     "name": "stdout",
     "output_type": "stream",
     "text": [
      "{1: 1, 2: 4, 3: 1, 4: 1, 5: 3, 6: 1}\n"
     ]
    }
   ],
   "source": [
    "l = [1, 2, 2, 2, 2, 3, 4, 5, 5, 5, 6]\n",
    "\n",
    "d = {}\n",
    "for el in l:\n",
    "    d[el] = d.get(el, 0) + 1\n",
    "    \n",
    "print(d)"
   ]
  },
  {
   "cell_type": "markdown",
   "metadata": {},
   "source": [
    "## Задание\n",
    "\n",
    "С клавиатуры строка, содержащая произвольное количество слов через запятую и пробел. Слова могут повторяться. Нужно вывести на экран все уникальные слова в алфавитном порядке, также через пробел и запятую. Оценить правильность решения вы можете в контесте в задаче Коллекции. Множества"
   ]
  },
  {
   "cell_type": "code",
   "execution_count": 1,
   "metadata": {},
   "outputs": [
    {
     "name": "stdout",
     "output_type": "stream",
     "text": [
      "['gfhfhgfh?hfgh', 'fghfh', 'fghfgh', 'fgh', 'fgh', 'fgh', 'fgh', 'fgh', 'f']\n",
      "{'fghfh', 'gfhfhgfh?hfgh', 'fgh', 'fghfgh', 'f'}\n",
      "['f', 'fgh', 'fghfgh', 'fghfh', 'gfhfhgfh?hfgh']\n"
     ]
    }
   ],
   "source": [
    "s = input().replace(',', ' ').split()\n",
    "my_set = set()\n",
    "for word in s:\n",
    "    my_set.add(word.lower())\n",
    "my_set = sorted(my_set)\n",
    "for sets in my_set:\n",
    "    if sets != my_set[-1]: print(sets, end=', ')\n",
    "    else: print(sets, end='')"
   ]
  },
  {
   "cell_type": "markdown",
   "metadata": {
    "colab_type": "text",
    "id": "WmzhPB9cPGZH"
   },
   "source": [
    "### Срезы\n",
    "\n",
    "В индексируемых коллекциях также применимы срезы, как при работе со строками: `[Start:Stop:Step]`\n",
    "\n",
    "Start задает начало среза;\\\n",
    "Stop задает конец среза (не включая элемент с индексом Stop);\\\n",
    "Step задает шаг.\n",
    "\n",
    "Срезы на примере строки:\n",
    "\n",
    "![Примеры срезов](04/04-02.png)\n",
    "\n",
    "С помощью среза можно не только получать копию коллекции, но в случае **списка** можно также менять значения элементов, удалять и добавлять новые. Для этого необходимо передавать также итерируемый объект.\n",
    "\n",
    "Обращение к несуществующему индексу коллекции вызывает ошибку, а в случае выхода границ среза за границы коллекции никакой ошибки не происходит."
   ]
  },
  {
   "cell_type": "code",
   "execution_count": 37,
   "metadata": {
    "colab": {},
    "colab_type": "code",
    "id": "ZYEoYBvBPGZI",
    "outputId": "4d2fe08f-9291-41a9-b5a6-7b9bdc28027d"
   },
   "outputs": [
    {
     "name": "stdout",
     "output_type": "stream",
     "text": [
      "[1, 2, 3, 4, 5]\n",
      "[1, 20, 30, 4, 5]\n",
      "[1, 0, 4, 5]\n",
      "[1, 0, 40, 50, 60]\n"
     ]
    }
   ],
   "source": [
    "my_list = [1, 1, 3, 4, 5]\n",
    "\n",
    "# my_list[1:2] = 2     # Неправильно - TypeError: can only assign an iterable\n",
    "my_list[1:2] = [2]     # Правильно\n",
    "print(my_list)\n",
    "\n",
    "my_list[1:3] = [20, 30]\n",
    "print(my_list)          # [1, 20, 30, 4, 5]\n",
    "\n",
    "my_list[1:3] = [0]      # можно заменить два элемента на один\n",
    "print(my_list)\n",
    "my_list[2:] = [40, 50, 60]   # или два элемента на три\n",
    "print(my_list)"
   ]
  },
  {
   "cell_type": "markdown",
   "metadata": {
    "colab_type": "text",
    "id": "VUgsI77tjnq4"
   },
   "source": [
    "Можно также создать объект среза (slice) или использовать его на лету:\n",
    "slice(start,stop,step)"
   ]
  },
  {
   "cell_type": "code",
   "execution_count": 38,
   "metadata": {
    "colab": {
     "base_uri": "https://localhost:8080/",
     "height": 153
    },
    "colab_type": "code",
    "executionInfo": {
     "elapsed": 441,
     "status": "ok",
     "timestamp": 1575289585211,
     "user": {
      "displayName": "Надежда Демиденко",
      "photoUrl": "https://lh3.googleusercontent.com/a-/AAuE7mA6D7k5OgtG9hzPe8Abs8DfOKAXQoTXaPfn7EY=s64",
      "userId": "05224310221243935536"
     },
     "user_tz": -180
    },
    "id": "ji0Ksxeojwcb",
    "outputId": "e0fc67b2-ef45-4422-9c51-84cc5ba02a71"
   },
   "outputs": [
    {
     "name": "stdout",
     "output_type": "stream",
     "text": [
      "2\n",
      "4\n",
      "None\n",
      "[7, 8]\n",
      "[6, 7, 8, 9]\n",
      "[5, 6, 7, 8]\n",
      "[5, 7, 9]\n",
      "[5, 6, 7, 8, 9]\n"
     ]
    }
   ],
   "source": [
    "my_list = [5, 6, 7, 8, 9]\n",
    "\n",
    "my_slice = slice(2, 4)\n",
    "print(my_slice.start)\n",
    "print(my_slice.stop)\n",
    "print(my_slice.step)\n",
    "\n",
    "print(my_list[my_slice]) # эквивалент [2:4]\n",
    "\n",
    "print(my_list[slice(1, None)]) # эквивалент [1:]\n",
    "\n",
    "print(my_list[slice(None, -1)]) # эквивалент [:-1]\n",
    "\n",
    "print(my_list[slice(None, None, 2)]) # эквивалент [::2]\n",
    "\n",
    "print(my_list[slice(None)]) # эквивалент [::]"
   ]
  },
  {
   "cell_type": "markdown",
   "metadata": {},
   "source": [
    "## Задание\n",
    "\n",
    "С клавиатуры вводятся слова через запятую с пробелом. Выведите на экран три наиболее часто встречаемых слова, вместе с количеством этих слов. Количество должно быть отделено от слова двоеточием и пробелом. Каждая пара слово-количество должна быть выведена на отдельной строчке. Для простоты гарантируется, что в строке нет слов с одинаковой встречаемостью. Проверить свое решение вы можете в контесте в задаче Коллекции. Словари"
   ]
  },
  {
   "cell_type": "code",
   "execution_count": null,
   "metadata": {},
   "outputs": [],
   "source": [
    "str = input().split(', ')\n",
    "d = {}\n",
    "for word in str:\n",
    "    d[word] = d.get(word, 0) + 1\n",
    "\n",
    "sortd = {}\n",
    "sort_keys = sorted(d, key=d.get, reverse=True)\n",
    "for w in sort_keys:\n",
    "    sortd[w] = d[w]\n",
    "\n",
    "new = list(sortd.items())[:3]\n",
    "myDict = {new[i][0]: new[i][1] for i in range(0, len(new), 1)} \n",
    "for key in myDict:\n",
    "    print(f\"{key}: {myDict[key]}\")"
   ]
  }
 ],
 "metadata": {
  "colab": {
   "name": "topic04.ipynb",
   "provenance": [
    {
     "file_id": "1Fx90fM9aCQ4ZuX5vz_fCkFFCHjZXzMng",
     "timestamp": 1575284888378
    }
   ]
  },
  "interpreter": {
   "hash": "aee8b7b246df8f9039afb4144a1f6fd8d2ca17a180786b69acc140d282b71a49"
  },
  "kernelspec": {
   "display_name": "Python 3.7.9 64-bit",
   "language": "python",
   "name": "python3"
  },
  "language_info": {
   "codemirror_mode": {
    "name": "ipython",
    "version": 3
   },
   "file_extension": ".py",
   "mimetype": "text/x-python",
   "name": "python",
   "nbconvert_exporter": "python",
   "pygments_lexer": "ipython3",
   "version": "3.7.9"
  }
 },
 "nbformat": 4,
 "nbformat_minor": 1
}
