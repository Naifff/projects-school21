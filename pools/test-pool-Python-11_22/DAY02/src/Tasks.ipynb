{
 "cells": [
  {
   "cell_type": "markdown",
   "metadata": {},
   "source": [
    "# Задание 1\n",
    "\n",
    "Напишите скрипт, решающий следующую задачу. С клавиатуры вводится дата в формате DD-MM-YYYY. Нужно вывести дату начала недели, к которой относится введенная дата (дата понедельника недели), в таком же формате."
   ]
  },
  {
   "cell_type": "code",
   "execution_count": 18,
   "metadata": {},
   "outputs": [
    {
     "name": "stdout",
     "output_type": "stream",
     "text": [
      "19-09-2022\n"
     ]
    }
   ],
   "source": [
    "from datetime import datetime, timedelta\n",
    "day = datetime.strptime(input(), \"%d-%m-%Y\")\n",
    "day -= timedelta(days=day.weekday())\n",
    "print(day.strftime(\"%d-%m-%Y\"))"
   ]
  },
  {
   "cell_type": "markdown",
   "metadata": {},
   "source": [
    "# Задание 2\n",
    "\n",
    "Напишите скрипт, решающий задачу, описанную по адресу https://contest.yandex.ru/contest/40435/problems/9/."
   ]
  },
  {
   "cell_type": "code",
   "execution_count": 15,
   "metadata": {},
   "outputs": [],
   "source": [
    "def gift_count(budget, month, birthdays):\n",
    "    birth = []\n",
    "    for key, value in birthdays.items():\n",
    "        if value.month == month:\n",
    "            birth.append(key + f' ({value})')\n",
    "    return f'Именинники в месяце {month}: ' + ', '.join(birth) + f'. При бюджете {budget} они получат по {budget // len(birthdays)} рублей.'"
   ]
  },
  {
   "cell_type": "markdown",
   "metadata": {},
   "source": [
    "Проверка"
   ]
  },
  {
   "cell_type": "code",
   "execution_count": 14,
   "metadata": {},
   "outputs": [
    {
     "name": "stdout",
     "output_type": "stream",
     "text": [
      "Именинники в месяце 5: Иванов Иван Иванович (1989-05-01), Петров Петр Петрович (1998-05-06). При бюджете 20000 они получат по 10000 рублей.\n"
     ]
    }
   ],
   "source": [
    "import datetime\n",
    "birthdays = {\"Иванов Иван Иванович\": datetime.date(1989, 5, 1), \"Петров Петр Петрович\": datetime.date(1998, 5, 6)}\n",
    "\n",
    "gift_count(20000, 5, birthdays)"
   ]
  },
  {
   "cell_type": "code",
   "execution_count": 13,
   "metadata": {},
   "outputs": [
    {
     "name": "stdout",
     "output_type": "stream",
     "text": [
      "Именинники в месяце 5: Иванов Иван Иванович (1989-05-01), Петров Петр Петрович (1998-05-06). При бюджете 20000 они получат по 10000 рублей.\n"
     ]
    }
   ],
   "source": [
    "gift_count(budget=20000, month=5, birthdays=birthdays)"
   ]
  },
  {
   "cell_type": "markdown",
   "metadata": {},
   "source": [
    "# Задание 3\n",
    "\n",
    "Напишите скрипт, решающий задачу, описанную по адресу https://contest.yandex.ru/contest/40435/problems/10/."
   ]
  },
  {
   "cell_type": "code",
   "execution_count": 16,
   "metadata": {},
   "outputs": [],
   "source": [
    "def lists_sum(*args, unique=False):\n",
    "    if unique:\n",
    "        uniq = set()\n",
    "        for el in args:\n",
    "            for el_list in el: uniq.add(el_list)\n",
    "        return sum(uniq)\n",
    "    else: return sum(map(sum, args))"
   ]
  },
  {
   "cell_type": "markdown",
   "metadata": {},
   "source": [
    "Проверка"
   ]
  },
  {
   "cell_type": "code",
   "execution_count": 20,
   "metadata": {},
   "outputs": [
    {
     "data": {
      "text/plain": [
       "9"
      ]
     },
     "execution_count": 20,
     "metadata": {},
     "output_type": "execute_result"
    }
   ],
   "source": [
    "lists_sum([1, 1], [1], [1, 2, 3])"
   ]
  },
  {
   "cell_type": "code",
   "execution_count": 18,
   "metadata": {},
   "outputs": [
    {
     "data": {
      "text/plain": [
       "1"
      ]
     },
     "execution_count": 18,
     "metadata": {},
     "output_type": "execute_result"
    }
   ],
   "source": [
    "lists_sum([1, 1, 1], [1, 1], unique=True)"
   ]
  },
  {
   "cell_type": "code",
   "execution_count": 19,
   "metadata": {},
   "outputs": [
    {
     "data": {
      "text/plain": [
       "3"
      ]
     },
     "execution_count": 19,
     "metadata": {},
     "output_type": "execute_result"
    }
   ],
   "source": [
    "lists_sum([1, 1, 1], unique=False)"
   ]
  },
  {
   "cell_type": "markdown",
   "metadata": {},
   "source": [
    "# Задание 4\n",
    "\n",
    "Напишите скрипт, решающий задачу, описанную по адресу https://contest.yandex.ru/contest/40435/problems/11/."
   ]
  },
  {
   "cell_type": "code",
   "execution_count": 83,
   "metadata": {},
   "outputs": [],
   "source": [
    "def get_balance(name, transactions):\n",
    "    sum = 0\n",
    "    for d in transactions:\n",
    "        if list(d.values())[0] == name:\n",
    "            sum += list(d.values())[-1]\n",
    "    return sum\n",
    "\n",
    "def count_debts(names, amount, transactions):\n",
    "    dirt = {}\n",
    "    for name in names:\n",
    "        dirt[name] = amount - get_balance(name, transactions) if amount - get_balance(name, transactions) > 0 else 0\n",
    "    return dirt"
   ]
  },
  {
   "cell_type": "markdown",
   "metadata": {},
   "source": [
    "Проверка"
   ]
  },
  {
   "cell_type": "code",
   "execution_count": 86,
   "metadata": {},
   "outputs": [
    {
     "data": {
      "text/plain": [
       "200"
      ]
     },
     "execution_count": 86,
     "metadata": {},
     "output_type": "execute_result"
    }
   ],
   "source": [
    "transactions = [ {\"name\": \"Василий\", \"amount\": 500}, {\"name\": \"Петя\", \"amount\": 100}, {\"name\": \"Василий\", \"amount\": -300}, ]\n",
    "\n",
    "get_balance(\"Василий\", transactions)"
   ]
  },
  {
   "cell_type": "code",
   "execution_count": 87,
   "metadata": {},
   "outputs": [
    {
     "data": {
      "text/plain": [
       "{'Василий': 0, 'Петя': 50, 'Вова': 150}"
      ]
     },
     "execution_count": 87,
     "metadata": {},
     "output_type": "execute_result"
    }
   ],
   "source": [
    "count_debts([\"Василий\", \"Петя\", \"Вова\"], 150, transactions)"
   ]
  },
  {
   "cell_type": "markdown",
   "metadata": {},
   "source": [
    "# Задание 5\n",
    "\n",
    "Установите пакет stupidity и импортируйте все требуемые объекты оттуда, чтобы заработал код, описанный в блокноте Libraries в последней ячейке с кодом."
   ]
  },
  {
   "cell_type": "code",
   "execution_count": 91,
   "metadata": {},
   "outputs": [
    {
     "name": "stdout",
     "output_type": "stream",
     "text": [
      "Defaulting to user installation because normal site-packages is not writeable\n",
      "Requirement already satisfied: stupidity in /Users/nyarlath/Library/Python/3.7/lib/python/site-packages (0.0.1)\n",
      "Note: you may need to restart the kernel to use updated packages.\n"
     ]
    }
   ],
   "source": [
    "pip install stupidity"
   ]
  },
  {
   "cell_type": "code",
   "execution_count": 102,
   "metadata": {},
   "outputs": [
    {
     "ename": "ModuleNotFoundError",
     "evalue": "No module named 'stupidity'",
     "output_type": "error",
     "traceback": [
      "\u001b[0;31m---------------------------------------------------------------------------\u001b[0m",
      "\u001b[0;31mModuleNotFoundError\u001b[0m                       Traceback (most recent call last)",
      "\u001b[0;32m/var/folders/zz/zyxvpxvq6csfxvn_n003wh4w00z417/T/ipykernel_16428/582987029.py\u001b[0m in \u001b[0;36m<module>\u001b[0;34m\u001b[0m\n\u001b[0;32m----> 1\u001b[0;31m \u001b[0;32mfrom\u001b[0m \u001b[0mstupidity\u001b[0m \u001b[0;32mimport\u001b[0m \u001b[0mswitch\u001b[0m\u001b[0;34m,\u001b[0m \u001b[0mbraces\u001b[0m\u001b[0;34m\u001b[0m\u001b[0;34m\u001b[0m\u001b[0m\n\u001b[0m\u001b[1;32m      2\u001b[0m \u001b[0;34m\u001b[0m\u001b[0m\n\u001b[1;32m      3\u001b[0m \u001b[0;32mfor\u001b[0m \u001b[0mcase\u001b[0m \u001b[0;32min\u001b[0m \u001b[0mswitch\u001b[0m\u001b[0;34m(\u001b[0m\u001b[0;34m'b'\u001b[0m\u001b[0;34m)\u001b[0m\u001b[0;34m:\u001b[0m\u001b[0;34m\u001b[0m\u001b[0;34m\u001b[0m\u001b[0m\n\u001b[1;32m      4\u001b[0m     \u001b[0;32mwith\u001b[0m \u001b[0mcase\u001b[0m\u001b[0;34m(\u001b[0m\u001b[0;34m'a'\u001b[0m\u001b[0;34m)\u001b[0m\u001b[0;34m:\u001b[0m\u001b[0;34m\u001b[0m\u001b[0;34m\u001b[0m\u001b[0m\n\u001b[1;32m      5\u001b[0m         \u001b[0mprint\u001b[0m\u001b[0;34m(\u001b[0m\u001b[0;34m'this is not printed'\u001b[0m\u001b[0;34m)\u001b[0m\u001b[0;34m\u001b[0m\u001b[0;34m\u001b[0m\u001b[0m\n",
      "\u001b[0;31mModuleNotFoundError\u001b[0m: No module named 'stupidity'"
     ]
    }
   ],
   "source": [
    "from stupidity import switch, braces\n",
    "\n",
    "for case in switch('b'):\n",
    "    with case('a'):\n",
    "        print('this is not printed')\n",
    "    with case('b'):\n",
    "        print('this is printed')\n",
    "    with case('c'):\n",
    "        print('fallthrough is also supported')\n",
    "        break\n",
    "    with case('d'):\n",
    "        print('this is not printed either')\n",
    "    print('default value at bottom, but this is not reached')\n",
    "\n",
    "x = 42;\n",
    "if (x == 123):\n",
    "    {\n",
    "        print('nope')\n",
    "    }\n",
    "elif (x == 42):\n",
    "    {\n",
    "        print('yep')\n",
    "    }"
   ]
  },
  {
   "cell_type": "markdown",
   "metadata": {},
   "source": [
    "# Задание 6\n",
    "\n",
    "Напишите скрипт, решающий задачу, описанную по адресу https://contest.yandex.ru/contest/40435/problems/12/."
   ]
  },
  {
   "cell_type": "code",
   "execution_count": 1,
   "metadata": {},
   "outputs": [
    {
     "ename": "UnicodeDecodeError",
     "evalue": "'charmap' codec can't decode byte 0x98 in position 91: character maps to <undefined>",
     "output_type": "error",
     "traceback": [
      "\u001b[1;31m---------------------------------------------------------------------------\u001b[0m",
      "\u001b[1;31mUnicodeDecodeError\u001b[0m                        Traceback (most recent call last)",
      "Cell \u001b[1;32mIn[1], line 13\u001b[0m\n\u001b[0;32m     10\u001b[0m             \u001b[39mif\u001b[39;00m max_count \u001b[39m<\u001b[39m values: max_count \u001b[39m=\u001b[39m values\n\u001b[0;32m     11\u001b[0m         \u001b[39mreturn\u001b[39;00m \u001b[39m'\u001b[39m\u001b[39m, \u001b[39m\u001b[39m'\u001b[39m\u001b[39m.\u001b[39mjoin(key \u001b[39mfor\u001b[39;00m key, values \u001b[39min\u001b[39;00m names_sort\u001b[39m.\u001b[39mitems() \u001b[39mif\u001b[39;00m values \u001b[39m==\u001b[39m max_count)\n\u001b[1;32m---> 13\u001b[0m \u001b[39mprint\u001b[39m(get_popular_name_from_file(\u001b[39m'\u001b[39;49m\u001b[39minput.txt\u001b[39;49m\u001b[39m'\u001b[39;49m))\n",
      "Cell \u001b[1;32mIn[1], line 3\u001b[0m, in \u001b[0;36mget_popular_name_from_file\u001b[1;34m(filename)\u001b[0m\n\u001b[0;32m      1\u001b[0m \u001b[39mdef\u001b[39;00m \u001b[39mget_popular_name_from_file\u001b[39m(filename):\n\u001b[0;32m      2\u001b[0m     \u001b[39mwith\u001b[39;00m \u001b[39mopen\u001b[39m(filename) \u001b[39mas\u001b[39;00m f:\n\u001b[1;32m----> 3\u001b[0m         lines \u001b[39m=\u001b[39m f\u001b[39m.\u001b[39;49mreadlines()\n\u001b[0;32m      4\u001b[0m         names \u001b[39m=\u001b[39m {}\n\u001b[0;32m      5\u001b[0m         \u001b[39mfor\u001b[39;00m word \u001b[39min\u001b[39;00m lines:\n",
      "File \u001b[1;32mc:\\Users\\kuzne\\AppData\\Local\\Programs\\Python\\Python311\\Lib\\encodings\\cp1251.py:23\u001b[0m, in \u001b[0;36mIncrementalDecoder.decode\u001b[1;34m(self, input, final)\u001b[0m\n\u001b[0;32m     22\u001b[0m \u001b[39mdef\u001b[39;00m \u001b[39mdecode\u001b[39m(\u001b[39mself\u001b[39m, \u001b[39minput\u001b[39m, final\u001b[39m=\u001b[39m\u001b[39mFalse\u001b[39;00m):\n\u001b[1;32m---> 23\u001b[0m     \u001b[39mreturn\u001b[39;00m codecs\u001b[39m.\u001b[39;49mcharmap_decode(\u001b[39minput\u001b[39;49m,\u001b[39mself\u001b[39;49m\u001b[39m.\u001b[39;49merrors,decoding_table)[\u001b[39m0\u001b[39m]\n",
      "\u001b[1;31mUnicodeDecodeError\u001b[0m: 'charmap' codec can't decode byte 0x98 in position 91: character maps to <undefined>"
     ]
    }
   ],
   "source": [
    "def get_popular_name_from_file(filename):\n",
    "    with open(filename) as f:\n",
    "        lines = f.readlines()\n",
    "        names = {}\n",
    "        for word in lines:\n",
    "            names[word.split()[0]] = names.get(word.split()[0], 0) + 1\n",
    "        max_count = 0\n",
    "        names_sort = dict(sorted(names.items()))\n",
    "        for values in names_sort.values():\n",
    "            if max_count < values: max_count = values\n",
    "        return ', '.join(key for key, values in names_sort.items() if values == max_count)\n",
    "\n",
    "print(get_popular_name_from_file('input.txt'))"
   ]
  },
  {
   "cell_type": "markdown",
   "metadata": {},
   "source": [
    "# Задание 7\n",
    "\n",
    "Напишите скрипт, решающий задачу, описанную по адресу https://contest.yandex.ru/contest/40435/problems/13/."
   ]
  },
  {
   "cell_type": "code",
   "execution_count": 101,
   "metadata": {},
   "outputs": [],
   "source": [
    "import json\n",
    "\n",
    "def mean_age(json_string):\n",
    "    with open(json_string) as f:\n",
    "        file = json.loads(f.read())\n",
    "    result = [x.get('age') for x in file]\n",
    "    return json.dumps({\"mean_age\": sum(result) / len(result)})\n",
    "\n",
    "print(mean_age('input.txt'))"
   ]
  },
  {
   "cell_type": "markdown",
   "metadata": {},
   "source": [
    "Проверка"
   ]
  },
  {
   "cell_type": "code",
   "execution_count": 103,
   "metadata": {},
   "outputs": [
    {
     "name": "stdout",
     "output_type": "stream",
     "text": [
      "{\"mean_age\": 23.5}\n"
     ]
    }
   ],
   "source": [
    "print(mean_age('json.txt'))"
   ]
  }
 ],
 "metadata": {
  "kernelspec": {
   "display_name": "Python 3",
   "language": "python",
   "name": "python3"
  },
  "language_info": {
   "codemirror_mode": {
    "name": "ipython",
    "version": 3
   },
   "file_extension": ".py",
   "mimetype": "text/x-python",
   "name": "python",
   "nbconvert_exporter": "python",
   "pygments_lexer": "ipython3",
   "version": "3.11.1"
  },
  "orig_nbformat": 4,
  "vscode": {
   "interpreter": {
    "hash": "251c5f4b778030d6c609d99aa17b4421361b674e64a57718eedff6c08a612b60"
   }
  }
 },
 "nbformat": 4,
 "nbformat_minor": 2
}
