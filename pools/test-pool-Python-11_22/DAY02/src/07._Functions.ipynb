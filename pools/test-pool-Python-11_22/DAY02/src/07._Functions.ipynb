{
 "cells": [
  {
   "cell_type": "markdown",
   "metadata": {
    "colab_type": "text",
    "id": "2E9PSVGar_P2"
   },
   "source": [
    "# Функции, распаковка аргументов"
   ]
  },
  {
   "cell_type": "markdown",
   "metadata": {
    "colab_type": "text",
    "id": "G8cvP38xsA9c"
   },
   "source": [
    "Функция в python - это объект, принимающий аргументы и возвращающий значение. Обычно функция определяется с помощью инструкции def.\n",
    "\n",
    "Иначе говоря функция - это код, логика которого зависит от входных данных. При этом на основе этих данных может генерироваться какой-то питоновский объект (например, вычисляться какое-то значение), который мы хотим использовать в других местах кода. Будем говорить, что функция *возвращает* этот объект/значение.\n",
    "\n",
    "Функции - это важнейший элемент любого языка программирования, поскольку они в наибольшей степени позволяют изолировать разные части кода друг от друга. Хорошим подходом считается вести разработку так, чтобы приложение состояло из независимых друг от друга частей. Если приложение - это один огромный кусок кода, то при обнаружении ошибки в коде придется менять его целиком. Если ошибка обнаружилась внутри отдельно взятой функции, то устранить ее намного проще. Кроме того, функции позволяют отказаться от дублирования кода в разных местах приложения, что имеет такой же эффект для отладки и устранения ошибок.\n",
    "\n",
    "Определим простейшую функцию, которую назовем `add`, которая принимает на вход два аргумента (x и y) и возвращает их сумму:"
   ]
  },
  {
   "cell_type": "code",
   "execution_count": 1,
   "metadata": {
    "colab": {
     "base_uri": "https://localhost:8080/",
     "height": 51
    },
    "colab_type": "code",
    "executionInfo": {
     "elapsed": 921,
     "status": "ok",
     "timestamp": 1575291863858,
     "user": {
      "displayName": "Надежда Демиденко",
      "photoUrl": "https://lh3.googleusercontent.com/a-/AAuE7mA6D7k5OgtG9hzPe8Abs8DfOKAXQoTXaPfn7EY=s64",
      "userId": "05224310221243935536"
     },
     "user_tz": -180
    },
    "id": "LAuK2PEUsKVt",
    "outputId": "155ca390-8ab2-4138-9b31-41dfe657958f"
   },
   "outputs": [],
   "source": [
    "def add(x, y):              # определение функции начинается с ключевого слова def\n",
    "    return x + y            # инструкция return возвращает значение"
   ]
  },
  {
   "cell_type": "markdown",
   "metadata": {},
   "source": [
    "Теперь мы можем вызвать эту функцию из любого места кода для любых аргументов."
   ]
  },
  {
   "cell_type": "code",
   "execution_count": 4,
   "metadata": {},
   "outputs": [
    {
     "data": {
      "text/plain": [
       "11"
      ]
     },
     "execution_count": 4,
     "metadata": {},
     "output_type": "execute_result"
    }
   ],
   "source": [
    "add(1, 10)                  # например, для двух чисел"
   ]
  },
  {
   "cell_type": "code",
   "execution_count": 5,
   "metadata": {},
   "outputs": [
    {
     "name": "stdout",
     "output_type": "stream",
     "text": [
      "abcdef\n"
     ]
    }
   ],
   "source": [
    "print(add('abc', 'def'))    # или для двух строк"
   ]
  },
  {
   "cell_type": "markdown",
   "metadata": {},
   "source": [
    "При этом результат функции мы можем сразу подставлять в другие функции либо записать в переменную."
   ]
  },
  {
   "cell_type": "code",
   "execution_count": 6,
   "metadata": {},
   "outputs": [
    {
     "data": {
      "text/plain": [
       "4"
      ]
     },
     "execution_count": 6,
     "metadata": {},
     "output_type": "execute_result"
    }
   ],
   "source": [
    "max(add(1, 1), add(2, 2))   # выбираем максимум из двух чисел - результатов вызова функции add для (1, 1) и (2, 2)"
   ]
  },
  {
   "cell_type": "code",
   "execution_count": 7,
   "metadata": {},
   "outputs": [
    {
     "name": "stdout",
     "output_type": "stream",
     "text": [
      "50\n"
     ]
    }
   ],
   "source": [
    "a = add(25, 25)             # запишем результат выполнения функции add для двух аргументов (50, 50) в переменную a\n",
    "print(a)                    # и выведем ее значение на экран"
   ]
  },
  {
   "cell_type": "markdown",
   "metadata": {
    "colab_type": "text",
    "id": "9_RoJGBas3Q5"
   },
   "source": [
    "Иногда нам незачем возвращать какое-то значение, но в питоне любая функция возвращает значение. Если функция не содержит инструкцию return, она возвращает None."
   ]
  },
  {
   "cell_type": "code",
   "execution_count": 2,
   "metadata": {
    "colab": {
     "base_uri": "https://localhost:8080/",
     "height": 34
    },
    "colab_type": "code",
    "executionInfo": {
     "elapsed": 1212,
     "status": "ok",
     "timestamp": 1575291853814,
     "user": {
      "displayName": "Надежда Демиденко",
      "photoUrl": "https://lh3.googleusercontent.com/a-/AAuE7mA6D7k5OgtG9hzPe8Abs8DfOKAXQoTXaPfn7EY=s64",
      "userId": "05224310221243935536"
     },
     "user_tz": -180
    },
    "id": "-yI4x4-EtedU",
    "outputId": "4ac3e7da-bae3-44d9-a4b6-42f527fb8678"
   },
   "outputs": [
    {
     "name": "stdout",
     "output_type": "stream",
     "text": [
      "None\n"
     ]
    }
   ],
   "source": [
    "def func():      # определяем функцию с названием func\n",
    "    pass         # оператор pass буквально означает, что в этой строке ничего не происходит\n",
    "\n",
    "print(func())    # выведем результат исполнения функции на экран"
   ]
  },
  {
   "cell_type": "markdown",
   "metadata": {},
   "source": [
    "В примере выше вы увидели, что функция необязательно должна принимать аргументы. Иногда в ней просто описывается набор команд, которые в приложении нужно часто вызывать подряд, но при этом этот набор команд не зависит от входных данных."
   ]
  },
  {
   "cell_type": "markdown",
   "metadata": {
    "colab_type": "text",
    "id": "yBVIEOjKtnGm"
   },
   "source": [
    "## Аргументы функции\n",
    "\n",
    "Функция может принимать произвольное количество аргументов или не принимать их вовсе. В питоне достаточно широко можно классифицировать возможные варианты принимаемых аргументов. Для начала рассмотрим варианты того, как функция описывается. Будем называть совокупность аргументов и возвращаемого значения функции ее **сигнатурой**.\n",
    "\n",
    "* **Обязательные** и **необязательные** (со значением по умолчанию) аргументы. В вышеприведенной функции `add` все аргументы были обязательными: если мы попытаемся вызвать функцию, не передав ей какой-то из аргументов, мы получим ошибку."
   ]
  },
  {
   "cell_type": "code",
   "execution_count": 2,
   "metadata": {},
   "outputs": [
    {
     "ename": "TypeError",
     "evalue": "add() missing 1 required positional argument: 'y'",
     "output_type": "error",
     "traceback": [
      "\u001b[0;31m---------------------------------------------------------------------------\u001b[0m",
      "\u001b[0;31mTypeError\u001b[0m                                 Traceback (most recent call last)",
      "\u001b[0;32m/var/folders/zz/zyxvpxvq6csfxvn_n003wh4w00z417/T/ipykernel_19439/746715703.py\u001b[0m in \u001b[0;36m<module>\u001b[0;34m\u001b[0m\n\u001b[0;32m----> 1\u001b[0;31m \u001b[0madd\u001b[0m\u001b[0;34m(\u001b[0m\u001b[0;36m1\u001b[0m\u001b[0;34m)\u001b[0m\u001b[0;34m\u001b[0m\u001b[0;34m\u001b[0m\u001b[0m\n\u001b[0m",
      "\u001b[0;31mTypeError\u001b[0m: add() missing 1 required positional argument: 'y'"
     ]
    }
   ],
   "source": [
    "add(1)"
   ]
  },
  {
   "cell_type": "markdown",
   "metadata": {},
   "source": [
    "Тем не менее часто бывают ситуации, когда в большинстве случаев аргумент равен одному и тому же значению, и очень редко его всё-таки нужно поменять. В этом случае мы можем указать значение по умолчанию."
   ]
  },
  {
   "cell_type": "code",
   "execution_count": 9,
   "metadata": {
    "colab": {
     "base_uri": "https://localhost:8080/",
     "height": 85
    },
    "colab_type": "code",
    "executionInfo": {
     "elapsed": 1148,
     "status": "ok",
     "timestamp": 1575633834091,
     "user": {
      "displayName": "Надежда Демиденко",
      "photoUrl": "https://lh3.googleusercontent.com/a-/AAuE7mA6D7k5OgtG9hzPe8Abs8DfOKAXQoTXaPfn7EY=s64",
      "userId": "05224310221243935536"
     },
     "user_tz": -180
    },
    "id": "rD-EwNEyuAW-",
    "outputId": "4e21c441-f0c7-4d0b-f875-5d822aaceab2"
   },
   "outputs": [],
   "source": [
    "# допустим, мы хотим рассчитать премию сотрудника. Премия считается по формуле:\n",
    "# [зарплата сотрудника] * [коэффициент прибыли компании] * [коэффициент должности]\n",
    "# при этом зарплата у каждого своя, коэффициент прибыли компании постоянно меняется, а коэффициент должности\n",
    "# у всех одинаковый, кроме руководства компании (допустим, у руководства он больше, чем у всех).\n",
    "# В этом случае сделаем коэффициент должности аргументом по умолчанию.\n",
    "\n",
    "def award(salary, profit_factor, position_factor=2.5):  # аргументы по умолчанию всегда должны объявляться после\n",
    "    return salary * profit_factor * position_factor     # всех обязательных аргументов"
   ]
  },
  {
   "cell_type": "markdown",
   "metadata": {},
   "source": [
    "Теперь мы можем вызвать эту функцию для каждого конкретного случая:"
   ]
  },
  {
   "cell_type": "code",
   "execution_count": 10,
   "metadata": {},
   "outputs": [
    {
     "name": "stdout",
     "output_type": "stream",
     "text": [
      "Обычный сотрудник 100к: 375000.0\n",
      "Обычный сотрудник 150к: 487500.0\n",
      "Топ-менеджер: 2800000.0\n"
     ]
    }
   ],
   "source": [
    "# сотрудник получает 100к, коэффициент прибыли компании 1.5, сотрудник работает на рядовой должности\n",
    "print(\"Обычный сотрудник 100к:\", award(100000, 1.5))\n",
    "\n",
    "# сотрудник получает 150к, коэффициент прибыли компании 1.3, сотрудник работает на рядовой должности\n",
    "print(\"Обычный сотрудник 150к:\", award(150000, 1.3))\n",
    "\n",
    "# топ-менеджер получает 500к, коэффициент прибыли компании 1.4, коэффициент должности - 4\n",
    "print(\"Топ-менеджер:\", award(500000, 1.4, 4))"
   ]
  },
  {
   "cell_type": "markdown",
   "metadata": {},
   "source": [
    "Нашей функцией стало удобней пользоваться, но согласитесь, что запись `award(500000, 1.4, 4)` немного сбивает с толку: сходу непонятно, что это за цифры и почему они передаются в функцию именно в таком порядке. Для большей читаемости кода мы можем передавать аргументы вместе с их именами.\n",
    "\n",
    "* **Позиционные** и **именованные** аргументы. Позиционные - это те, которые мы передаем в функцию, просто перечисляя их через запятую, как это было выше при вызове функций `add` и `award`. При таком подходе мы вынуждены соблюдать порядок аргументов, поскольку они подставляются в переменные внутри функции строго в соответствии с порядком, описанном в сигнатуре функции. Но если хочется передать не все аргументы или поменять местами их порядок, можно дополнительно указывать имя аргумента перед значением:"
   ]
  },
  {
   "cell_type": "code",
   "execution_count": 11,
   "metadata": {},
   "outputs": [
    {
     "data": {
      "text/plain": [
       "2800000.0"
      ]
     },
     "execution_count": 11,
     "metadata": {},
     "output_type": "execute_result"
    }
   ],
   "source": [
    "award(500000, profit_factor=1.4, position_factor=4)  # можно передать по имени только часть аргументов, но здесь\n",
    "                                                     # действует то же правило, что с необязательными аргументами:\n",
    "                                                     # прежде всегда идут позиционные аргументы, а потом уже аргу-\n",
    "                                                     # менты, передаваемые по имени"
   ]
  },
  {
   "cell_type": "code",
   "execution_count": 12,
   "metadata": {},
   "outputs": [
    {
     "data": {
      "text/plain": [
       "2800000.0"
      ]
     },
     "execution_count": 12,
     "metadata": {},
     "output_type": "execute_result"
    }
   ],
   "source": [
    "award(500000, 1.4, position_factor=4)"
   ]
  },
  {
   "cell_type": "code",
   "execution_count": 13,
   "metadata": {},
   "outputs": [
    {
     "data": {
      "text/plain": [
       "2800000.0"
      ]
     },
     "execution_count": 13,
     "metadata": {},
     "output_type": "execute_result"
    }
   ],
   "source": [
    "award(salary=500000, profit_factor=1.4, position_factor=4)"
   ]
  },
  {
   "cell_type": "code",
   "execution_count": 14,
   "metadata": {},
   "outputs": [
    {
     "data": {
      "text/plain": [
       "2800000.0"
      ]
     },
     "execution_count": 14,
     "metadata": {},
     "output_type": "execute_result"
    }
   ],
   "source": [
    "award(profit_factor=1.4, salary=500000, position_factor=4)  # передавая аргументы по имени, можно менять их порядок"
   ]
  },
  {
   "cell_type": "markdown",
   "metadata": {
    "colab_type": "text",
    "id": "PCUL1a0jFhhm"
   },
   "source": [
    "При описании функции мы может захотеть получать некоторые аргументы только в виде именованных. Это часто применяется в функциях с очень большим количеством необязательных аргументов, что позволяет гарантировать то, что программист, который использует эту функцию, точно не ошибется при передаче значения на место нужного аргумента. Объявить то, что какие-то аргументы нужно передавать только по имени, нам помогает звездочка в сигнатуре функции:"
   ]
  },
  {
   "cell_type": "code",
   "execution_count": 15,
   "metadata": {
    "colab": {
     "base_uri": "https://localhost:8080/",
     "height": 248
    },
    "colab_type": "code",
    "executionInfo": {
     "elapsed": 1062,
     "status": "error",
     "timestamp": 1575634129382,
     "user": {
      "displayName": "Надежда Демиденко",
      "photoUrl": "https://lh3.googleusercontent.com/a-/AAuE7mA6D7k5OgtG9hzPe8Abs8DfOKAXQoTXaPfn7EY=s64",
      "userId": "05224310221243935536"
     },
     "user_tz": -180
    },
    "id": "NIO-KmXUB0Dn",
    "outputId": "698b7953-8467-4625-80c1-67526eaf14ce"
   },
   "outputs": [
    {
     "name": "stdout",
     "output_type": "stream",
     "text": [
      "(1, 2, 3, 4)\n",
      "(1, 3, 3, 4)\n",
      "(10, 20, 30, 40)\n"
     ]
    }
   ],
   "source": [
    "# Все аргументы после звездочки являются строго именованными, при этом они могут иметь значения по умолчанию\n",
    "def foo(a, b=3, *, c, d=10):\n",
    "    return(a, b, c, d)\n",
    "\n",
    "print(foo(1, 2, c=3, d=4))\n",
    "print(foo(1, c=3, d=4))\n",
    "# К первым двум по-прежнему можно обращаться и по имени\n",
    "print(foo(a=10, b=20, c=30, d=40))"
   ]
  },
  {
   "cell_type": "code",
   "execution_count": 16,
   "metadata": {},
   "outputs": [
    {
     "ename": "TypeError",
     "evalue": "foo() takes from 1 to 2 positional arguments but 4 were given",
     "output_type": "error",
     "traceback": [
      "\u001b[0;31m---------------------------------------------------------------------------\u001b[0m",
      "\u001b[0;31mTypeError\u001b[0m                                 Traceback (most recent call last)",
      "\u001b[0;32m<ipython-input-16-bfa77c7dc2de>\u001b[0m in \u001b[0;36m<module>\u001b[0;34m\u001b[0m\n\u001b[1;32m      1\u001b[0m \u001b[0;31m# Попытка передачи аргументов как позиционных приведет к ошибке:\u001b[0m\u001b[0;34m\u001b[0m\u001b[0;34m\u001b[0m\u001b[0;34m\u001b[0m\u001b[0m\n\u001b[0;32m----> 2\u001b[0;31m \u001b[0mprint\u001b[0m\u001b[0;34m(\u001b[0m\u001b[0mfoo\u001b[0m\u001b[0;34m(\u001b[0m\u001b[0;36m1\u001b[0m\u001b[0;34m,\u001b[0m \u001b[0;36m2\u001b[0m\u001b[0;34m,\u001b[0m \u001b[0;36m3\u001b[0m\u001b[0;34m,\u001b[0m \u001b[0;36m4\u001b[0m\u001b[0;34m)\u001b[0m\u001b[0;34m)\u001b[0m\u001b[0;34m\u001b[0m\u001b[0;34m\u001b[0m\u001b[0m\n\u001b[0m",
      "\u001b[0;31mTypeError\u001b[0m: foo() takes from 1 to 2 positional arguments but 4 were given"
     ]
    }
   ],
   "source": [
    "# Попытка передачи аргументов как позиционных приведет к ошибке:\n",
    "print(foo(1, 2, 3, 4))"
   ]
  },
  {
   "cell_type": "markdown",
   "metadata": {
    "colab_type": "text",
    "id": "_jbrP93AuQxJ"
   },
   "source": [
    "## Произвольное количество аргументов\n",
    "\n",
    "Рассмотрим родную функцию питона `max`. Она работает для любого количества аргументов, которые мы пытаемся ей \"скормить\":"
   ]
  },
  {
   "cell_type": "code",
   "execution_count": 17,
   "metadata": {},
   "outputs": [
    {
     "data": {
      "text/plain": [
       "2"
      ]
     },
     "execution_count": 17,
     "metadata": {},
     "output_type": "execute_result"
    }
   ],
   "source": [
    "max(1, 2)"
   ]
  },
  {
   "cell_type": "code",
   "execution_count": 18,
   "metadata": {},
   "outputs": [
    {
     "data": {
      "text/plain": [
       "6"
      ]
     },
     "execution_count": 18,
     "metadata": {},
     "output_type": "execute_result"
    }
   ],
   "source": [
    "max(1, 2, 3, 4, 5, 6)"
   ]
  },
  {
   "cell_type": "code",
   "execution_count": 20,
   "metadata": {},
   "outputs": [
    {
     "data": {
      "text/plain": [
       "4"
      ]
     },
     "execution_count": 20,
     "metadata": {},
     "output_type": "execute_result"
    }
   ],
   "source": [
    "max([4])  # если подаем только один аргумент в функцию max, то он должен быть итератором"
   ]
  },
  {
   "cell_type": "markdown",
   "metadata": {},
   "source": [
    "Если мы хотим принимать произвольное количество позиционных аргументов в нашей функции, мы должны описать аргумент, начинающийся со звездочки. Принято такой аргумент называть именем `args`, на сленге \"Арги\".\n",
    "\n",
    "Внутри функции `args` - это кортеж из всех переданных аргументов функции, которые не оказались в других переменных, и, соответственно с переменной `args` можно работать так же, как и с кортежем."
   ]
  },
  {
   "cell_type": "code",
   "execution_count": 21,
   "metadata": {
    "colab": {
     "base_uri": "https://localhost:8080/",
     "height": 68
    },
    "colab_type": "code",
    "executionInfo": {
     "elapsed": 957,
     "status": "ok",
     "timestamp": 1575293047043,
     "user": {
      "displayName": "Надежда Демиденко",
      "photoUrl": "https://lh3.googleusercontent.com/a-/AAuE7mA6D7k5OgtG9hzPe8Abs8DfOKAXQoTXaPfn7EY=s64",
      "userId": "05224310221243935536"
     },
     "user_tz": -180
    },
    "id": "dcQj5pLVucAZ",
    "outputId": "5f9af835-767f-41f4-c08d-90d27e916d95"
   },
   "outputs": [
    {
     "name": "stdout",
     "output_type": "stream",
     "text": [
      "(1, 2, 3, 'abc')\n",
      "()\n",
      "(1,)\n"
     ]
    }
   ],
   "source": [
    "def func(*args):              # функция принимает произвольное количество позиционных аргументов и складывает их\n",
    "    print(args)               # все в кортеж args\n",
    "\n",
    "func(1, 2, 3, 'abc')\n",
    "func()\n",
    "func(1)"
   ]
  },
  {
   "cell_type": "code",
   "execution_count": 25,
   "metadata": {},
   "outputs": [
    {
     "name": "stdout",
     "output_type": "stream",
     "text": [
      "a=1, b=2, args=(3, 'abc')\n",
      "a=1, b=2, args=()\n"
     ]
    }
   ],
   "source": [
    "def func(a, b, *args):        # а здесь в арги попадут все аргументы, начиная с третьего по счету\n",
    "    print(f\"a={a}, b={b}, args={args}\")\n",
    "    \n",
    "func(1, 2, 3, 'abc')\n",
    "func(1, 2)"
   ]
  },
  {
   "cell_type": "markdown",
   "metadata": {},
   "source": [
    "Тем не менее мы не можем передавать арги в функцию по имени."
   ]
  },
  {
   "cell_type": "code",
   "execution_count": 26,
   "metadata": {},
   "outputs": [
    {
     "ename": "TypeError",
     "evalue": "func() got an unexpected keyword argument 'c'",
     "output_type": "error",
     "traceback": [
      "\u001b[0;31m---------------------------------------------------------------------------\u001b[0m",
      "\u001b[0;31mTypeError\u001b[0m                                 Traceback (most recent call last)",
      "\u001b[0;32m<ipython-input-26-f1cd1ad0c1b3>\u001b[0m in \u001b[0;36m<module>\u001b[0;34m\u001b[0m\n\u001b[0;32m----> 1\u001b[0;31m \u001b[0mfunc\u001b[0m\u001b[0;34m(\u001b[0m\u001b[0ma\u001b[0m\u001b[0;34m=\u001b[0m\u001b[0;36m1\u001b[0m\u001b[0;34m,\u001b[0m \u001b[0mb\u001b[0m\u001b[0;34m=\u001b[0m\u001b[0;36m2\u001b[0m\u001b[0;34m,\u001b[0m \u001b[0mc\u001b[0m\u001b[0;34m=\u001b[0m\u001b[0;36m3\u001b[0m\u001b[0;34m)\u001b[0m\u001b[0;34m\u001b[0m\u001b[0;34m\u001b[0m\u001b[0m\n\u001b[0m",
      "\u001b[0;31mTypeError\u001b[0m: func() got an unexpected keyword argument 'c'"
     ]
    }
   ],
   "source": [
    "func(a=1, b=2, c=3)"
   ]
  },
  {
   "cell_type": "code",
   "execution_count": 27,
   "metadata": {},
   "outputs": [
    {
     "ename": "TypeError",
     "evalue": "func() got an unexpected keyword argument 'args'",
     "output_type": "error",
     "traceback": [
      "\u001b[0;31m---------------------------------------------------------------------------\u001b[0m",
      "\u001b[0;31mTypeError\u001b[0m                                 Traceback (most recent call last)",
      "\u001b[0;32m<ipython-input-27-dcdbca750488>\u001b[0m in \u001b[0;36m<module>\u001b[0;34m\u001b[0m\n\u001b[0;32m----> 1\u001b[0;31m \u001b[0mfunc\u001b[0m\u001b[0;34m(\u001b[0m\u001b[0ma\u001b[0m\u001b[0;34m=\u001b[0m\u001b[0;36m1\u001b[0m\u001b[0;34m,\u001b[0m \u001b[0mb\u001b[0m\u001b[0;34m=\u001b[0m\u001b[0;36m2\u001b[0m\u001b[0;34m,\u001b[0m \u001b[0margs\u001b[0m\u001b[0;34m=\u001b[0m\u001b[0;34m(\u001b[0m\u001b[0;36m1\u001b[0m\u001b[0;34m,\u001b[0m \u001b[0;36m2\u001b[0m\u001b[0;34m,\u001b[0m \u001b[0;36m3\u001b[0m\u001b[0;34m)\u001b[0m\u001b[0;34m)\u001b[0m\u001b[0;34m\u001b[0m\u001b[0;34m\u001b[0m\u001b[0m\n\u001b[0m",
      "\u001b[0;31mTypeError\u001b[0m: func() got an unexpected keyword argument 'args'"
     ]
    }
   ],
   "source": [
    "func(a=1, b=2, args=(1, 2, 3))"
   ]
  },
  {
   "cell_type": "markdown",
   "metadata": {
    "colab_type": "text",
    "id": "2xlrXoh7uvKW"
   },
   "source": [
    "Однако есть способ принимать и произвольное количество именованных аргументов. Тогда перед именем аргумента ставится `**`. Принято называть такой аргумент `kwargs`, на сленге - \"кварги\". В переменной `kwargs` внутри функции у нас хранится словарь, с которым мы тоже можем производить любые операции, определенные над словарем. Как и во всех остальных случаях с именованными аргументами, такие аргументы должны описываться и передаваться после всех позиционных и, соответственно, после `*args` при наличии."
   ]
  },
  {
   "cell_type": "code",
   "execution_count": 23,
   "metadata": {
    "colab": {
     "base_uri": "https://localhost:8080/",
     "height": 68
    },
    "colab_type": "code",
    "executionInfo": {
     "elapsed": 1217,
     "status": "ok",
     "timestamp": 1575292272047,
     "user": {
      "displayName": "Надежда Демиденко",
      "photoUrl": "https://lh3.googleusercontent.com/a-/AAuE7mA6D7k5OgtG9hzPe8Abs8DfOKAXQoTXaPfn7EY=s64",
      "userId": "05224310221243935536"
     },
     "user_tz": -180
    },
    "id": "A3l4ExdcuuQ4",
    "outputId": "0ca68134-49e8-458e-c32c-62871d90f22b"
   },
   "outputs": [
    {
     "name": "stdout",
     "output_type": "stream",
     "text": [
      "{'a': 1, 'b': 2, 'c': 3}\n",
      "{}\n",
      "{'a': 'python'}\n"
     ]
    }
   ],
   "source": [
    "def func(**kwargs):    # функция принимает произвольное количество именованных аргументов и складывает их в словарь\n",
    "    print(kwargs)\n",
    "\n",
    "\n",
    "func(a=1, b=2, c=3)\n",
    "func()\n",
    "func(a='python')"
   ]
  },
  {
   "cell_type": "code",
   "execution_count": 28,
   "metadata": {},
   "outputs": [
    {
     "name": "stdout",
     "output_type": "stream",
     "text": [
      "a=1, b=2, kwargs={'c': 3, 'd': 4}\n",
      "a=1, b=2, kwargs={'c': 3, 'd': 4}\n"
     ]
    }
   ],
   "source": [
    "def func(a, b, **kwargs):                      # а в эту функцию можно передавать a и b как по имени, так и\n",
    "    print(f\"a={a}, b={b}, kwargs={kwargs}\")    # позиционно. Остальные именованные аргументы попадут в кварги\n",
    "    \n",
    "func(1, 2, c=3, d=4)\n",
    "func(a=1, b=2, c=3, d=4)"
   ]
  },
  {
   "cell_type": "markdown",
   "metadata": {},
   "source": [
    "При этом дополнительные позиционные аргументы передать в функцию не получится."
   ]
  },
  {
   "cell_type": "code",
   "execution_count": 29,
   "metadata": {},
   "outputs": [
    {
     "ename": "TypeError",
     "evalue": "func() takes 2 positional arguments but 6 were given",
     "output_type": "error",
     "traceback": [
      "\u001b[0;31m---------------------------------------------------------------------------\u001b[0m",
      "\u001b[0;31mTypeError\u001b[0m                                 Traceback (most recent call last)",
      "\u001b[0;32m<ipython-input-29-fc3ac8d74099>\u001b[0m in \u001b[0;36m<module>\u001b[0;34m\u001b[0m\n\u001b[0;32m----> 1\u001b[0;31m \u001b[0mfunc\u001b[0m\u001b[0;34m(\u001b[0m\u001b[0;36m1\u001b[0m\u001b[0;34m,\u001b[0m \u001b[0;36m2\u001b[0m\u001b[0;34m,\u001b[0m \u001b[0;36m3\u001b[0m\u001b[0;34m,\u001b[0m \u001b[0;36m4\u001b[0m\u001b[0;34m,\u001b[0m \u001b[0;36m5\u001b[0m\u001b[0;34m,\u001b[0m \u001b[0;36m6\u001b[0m\u001b[0;34m)\u001b[0m\u001b[0;34m\u001b[0m\u001b[0;34m\u001b[0m\u001b[0m\n\u001b[0m",
      "\u001b[0;31mTypeError\u001b[0m: func() takes 2 positional arguments but 6 were given"
     ]
    }
   ],
   "source": [
    "func(1, 2, 3, 4, 5, 6)"
   ]
  },
  {
   "cell_type": "markdown",
   "metadata": {},
   "source": [
    "Если мы хотим принимать произвольное количество любых аргументов, мы должны использовать и арги, и кварги."
   ]
  },
  {
   "cell_type": "code",
   "execution_count": 30,
   "metadata": {},
   "outputs": [
    {
     "name": "stdout",
     "output_type": "stream",
     "text": [
      "args=(1, 2), kwargs={'c': 3, 'd': 4}\n",
      "args=(), kwargs={'a': 1, 'b': 2}\n",
      "args=(1, 2, 3, 4), kwargs={}\n",
      "args=(), kwargs={}\n"
     ]
    }
   ],
   "source": [
    "def func(*args, **kwargs):\n",
    "    print(f\"args={args}, kwargs={kwargs}\")\n",
    "    \n",
    "    \n",
    "func(1, 2, c=3, d=4)\n",
    "func(a=1, b=2)\n",
    "func(1, 2, 3, 4)\n",
    "func()"
   ]
  },
  {
   "cell_type": "markdown",
   "metadata": {
    "colab_type": "text",
    "id": "iPWkI6iSzFPD"
   },
   "source": [
    "## Распаковка\n",
    "\n",
    "В Python 3 также появилась возможность использовать оператор `*` для распаковки итерируемых объектов. Распаковка - это \"разложение\" коллекции объектов в несколько переменных."
   ]
  },
  {
   "cell_type": "code",
   "execution_count": 8,
   "metadata": {
    "colab": {
     "base_uri": "https://localhost:8080/",
     "height": 68
    },
    "colab_type": "code",
    "executionInfo": {
     "elapsed": 1068,
     "status": "ok",
     "timestamp": 1575297553302,
     "user": {
      "displayName": "Надежда Демиденко",
      "photoUrl": "https://lh3.googleusercontent.com/a-/AAuE7mA6D7k5OgtG9hzPe8Abs8DfOKAXQoTXaPfn7EY=s64",
      "userId": "05224310221243935536"
     },
     "user_tz": -180
    },
    "id": "Fl6DfwkcDD7P",
    "outputId": "a7bcfdb6-700f-449f-9e58-a95eed14a76e"
   },
   "outputs": [
    {
     "name": "stdout",
     "output_type": "stream",
     "text": [
      "['watermelon', 'tomato', 'one more']\n",
      "['pear', 'watermelon', 'tomato', 'one more']\n",
      "['pear', 'watermelon', 'tomato']\n"
     ]
    }
   ],
   "source": [
    "fruits = ['lemon', 'pear', 'watermelon', 'tomato', 'one more']\n",
    "\n",
    "# первые два элемента попадут в переменные first, second, остальное окажется в списке remaining\n",
    "first, second, *remaining = fruits\n",
    "print(remaining)\n",
    "\n",
    "# первый элемент попадет в переменную first, остальное окажется в списке remaining\n",
    "first, *remaining = fruits\n",
    "print(remaining)\n",
    "\n",
    "# первый элемент попадет в переменную first, последний - в last, а остальное - в список remaining\n",
    "first, *middle, last = fruits\n",
    "print(middle)"
   ]
  },
  {
   "cell_type": "markdown",
   "metadata": {
    "colab_type": "text",
    "id": "Lgcs6x9IDUAZ"
   },
   "source": [
    "В Python 3.5 появились новые способы использования оператора `*`. Например,  возможность сложить итерируемый объект в новый список.\n",
    "\n",
    "Допустим, у вас есть функция, которая принимает любую последовательность и возвращает список, состоящий из этой последовательности и её обратной копии, сконкатенированных вместе."
   ]
  },
  {
   "cell_type": "code",
   "execution_count": 9,
   "metadata": {
    "colab": {},
    "colab_type": "code",
    "id": "ai1y4TwTD5Q1"
   },
   "outputs": [],
   "source": [
    "def palindromify(sequence):\n",
    "    return list(sequence) + list(reversed(sequence))"
   ]
  },
  {
   "cell_type": "code",
   "execution_count": 12,
   "metadata": {},
   "outputs": [
    {
     "data": {
      "text/plain": [
       "['a', 'b', 'c', 'c', 'b', 'a']"
      ]
     },
     "execution_count": 12,
     "metadata": {},
     "output_type": "execute_result"
    }
   ],
   "source": [
    "palindromify(\"abc\")"
   ]
  },
  {
   "cell_type": "markdown",
   "metadata": {
    "colab_type": "text",
    "id": "yHkTOXpXD--V"
   },
   "source": [
    "В коде выше пришлось несколько раз преобразовывать последовательности в списки, чтобы получить конечный результат. Начиная с Python 3.5, можно поступить по-другому:"
   ]
  },
  {
   "cell_type": "code",
   "execution_count": 11,
   "metadata": {
    "colab": {},
    "colab_type": "code",
    "id": "DDt9h-cAD_uf"
   },
   "outputs": [],
   "source": [
    "def palindromify(sequence):\n",
    "    return [*sequence, *reversed(sequence)]"
   ]
  },
  {
   "cell_type": "markdown",
   "metadata": {
    "colab_type": "text",
    "id": "c5lScjQiEExB"
   },
   "source": [
    "Этот вариант избавляет нас от необходимости лишний раз вызывать `list` и делает наш код более эффективным и читаемым.\n",
    "\n",
    "Такой вариант использования оператора `*` является отличной возможностью для конкатенации итерируемых объектов разных типов. Оператор `*` работает с любым итерируемым объектом, в то время как оператор `+` работает только с определёнными последовательностями, которые должны быть одного типа."
   ]
  },
  {
   "cell_type": "code",
   "execution_count": 13,
   "metadata": {
    "colab": {
     "base_uri": "https://localhost:8080/",
     "height": 51
    },
    "colab_type": "code",
    "executionInfo": {
     "elapsed": 941,
     "status": "ok",
     "timestamp": 1575298166488,
     "user": {
      "displayName": "Надежда Демиденко",
      "photoUrl": "https://lh3.googleusercontent.com/a-/AAuE7mA6D7k5OgtG9hzPe8Abs8DfOKAXQoTXaPfn7EY=s64",
      "userId": "05224310221243935536"
     },
     "user_tz": -180
    },
    "id": "tnh8VCyAEeNz",
    "outputId": "8c891ccb-93aa-492d-ef25-0f2bb24aeaf8"
   },
   "outputs": [
    {
     "name": "stdout",
     "output_type": "stream",
     "text": [
      "('pear', 'watermelon', 'tomato', 'lemon')\n",
      "{'LEMON', 'watermelon', 'PEAR', 'TOMATO', 'WATERMELON', 'pear', 'lemon', 'tomato'}\n"
     ]
    }
   ],
   "source": [
    "fruits = ['lemon', 'pear', 'watermelon', 'tomato']\n",
    "print((*fruits[1:], fruits[0]))\n",
    "\n",
    "uppercase_fruits = (f.upper() for f in fruits)\n",
    "print({*fruits, *uppercase_fruits})    # новое множество из списка и генератора"
   ]
  },
  {
   "cell_type": "markdown",
   "metadata": {
    "colab_type": "text",
    "id": "33KGrE0VFd9z"
   },
   "source": [
    "В PEP 448 были также добавлены новые возможности для `**`, благодаря которым стало возможным перемещение пар ключ-значение из одного словаря (словарей) в новый:"
   ]
  },
  {
   "cell_type": "code",
   "execution_count": 14,
   "metadata": {
    "colab": {
     "base_uri": "https://localhost:8080/",
     "height": 34
    },
    "colab_type": "code",
    "executionInfo": {
     "elapsed": 910,
     "status": "ok",
     "timestamp": 1575298163804,
     "user": {
      "displayName": "Надежда Демиденко",
      "photoUrl": "https://lh3.googleusercontent.com/a-/AAuE7mA6D7k5OgtG9hzPe8Abs8DfOKAXQoTXaPfn7EY=s64",
      "userId": "05224310221243935536"
     },
     "user_tz": -180
    },
    "id": "ULVNl_GfFjNG",
    "outputId": "05c7a7b6-ecab-4393-f6d1-1601be3faa5f"
   },
   "outputs": [
    {
     "name": "stdout",
     "output_type": "stream",
     "text": [
      "{'year': '2020', 'month': '01', 'day': '01', 'artist': 'Beethoven', 'title': 'Symphony No 5'}\n"
     ]
    }
   ],
   "source": [
    "date_info = {'year': \"2020\", 'month': \"01\", 'day': \"01\"}\n",
    "track_info = {'artist': \"Beethoven\", 'title': 'Symphony No 5'}\n",
    "all_info = {**date_info, **track_info}\n",
    "print(all_info)"
   ]
  },
  {
   "cell_type": "markdown",
   "metadata": {},
   "source": [
    "Также операции распаковки/запаковки можно использовать для того, чтобы передать коллекцию в позиционные аргументы функции, а словарь передать в виде именованных аргументов."
   ]
  },
  {
   "cell_type": "code",
   "execution_count": 31,
   "metadata": {},
   "outputs": [
    {
     "data": {
      "text/plain": [
       "6"
      ]
     },
     "execution_count": 31,
     "metadata": {},
     "output_type": "execute_result"
    }
   ],
   "source": [
    "def func(a, b, c):\n",
    "    return a + b + c\n",
    "\n",
    "a = [1, 2, 3]\n",
    "func(*a)"
   ]
  },
  {
   "cell_type": "code",
   "execution_count": 32,
   "metadata": {},
   "outputs": [
    {
     "data": {
      "text/plain": [
       "6"
      ]
     },
     "execution_count": 32,
     "metadata": {},
     "output_type": "execute_result"
    }
   ],
   "source": [
    "d = {\"a\": 1, \"b\": 2, \"c\": 3}\n",
    "func(**d)"
   ]
  },
  {
   "cell_type": "markdown",
   "metadata": {
    "colab_type": "text",
    "id": "k3He4HC5vTDR"
   },
   "source": [
    "## Анонимные функции, инструкция lambda\n",
    "\n",
    "**Анонимные функции** - это функции, у которых нет названия, и, соответствено, ни одна переменная не указывает на них. Анонимные функции могут содержать лишь одно выражение, но и выполняются они быстрее.\n",
    "\n",
    "Анонимные функции создаются с помощью инструкции lambda. Их можно присвоить переменной, но созданы они не для этого. Таким функциям, в отличие от обычных, не требуется инструкция return. Они возвращают всегда то значение, которое получается в результате исполнения кода внутри функции. В остальном они ведут себя так же, как обычные функции:"
   ]
  },
  {
   "cell_type": "code",
   "execution_count": 33,
   "metadata": {
    "colab": {
     "base_uri": "https://localhost:8080/",
     "height": 102
    },
    "colab_type": "code",
    "executionInfo": {
     "elapsed": 1200,
     "status": "ok",
     "timestamp": 1575292510850,
     "user": {
      "displayName": "Надежда Демиденко",
      "photoUrl": "https://lh3.googleusercontent.com/a-/AAuE7mA6D7k5OgtG9hzPe8Abs8DfOKAXQoTXaPfn7EY=s64",
      "userId": "05224310221243935536"
     },
     "user_tz": -180
    },
    "id": "jvOnFFAqvlAK",
    "outputId": "2859db61-c49b-4174-ec52-a9bad0ba0b6e"
   },
   "outputs": [
    {
     "name": "stdout",
     "output_type": "stream",
     "text": [
      "3\n",
      "ab\n"
     ]
    }
   ],
   "source": [
    "def func(x, y):               # объявим обычную функцию\n",
    "    return x + y\n",
    "\n",
    "func = lambda x, y: x + y     # а теперь опишем то же самое через лямбду\n",
    "print(func(1, 2))\n",
    "print(func('a', 'b'))"
   ]
  },
  {
   "cell_type": "code",
   "execution_count": 34,
   "metadata": {},
   "outputs": [
    {
     "data": {
      "text/plain": [
       "3"
      ]
     },
     "execution_count": 34,
     "metadata": {},
     "output_type": "execute_result"
    }
   ],
   "source": [
    "(lambda x, y: x + y)(1, 2)    # можно сразу вызвать лямбду"
   ]
  },
  {
   "cell_type": "code",
   "execution_count": 35,
   "metadata": {},
   "outputs": [
    {
     "data": {
      "text/plain": [
       "'ab'"
      ]
     },
     "execution_count": 35,
     "metadata": {},
     "output_type": "execute_result"
    }
   ],
   "source": [
    "(lambda x, y: x + y)('a', 'b')"
   ]
  },
  {
   "cell_type": "code",
   "execution_count": 37,
   "metadata": {},
   "outputs": [
    {
     "name": "stdout",
     "output_type": "stream",
     "text": [
      "10\n"
     ]
    }
   ],
   "source": [
    "# lambda функции тоже можно передавать args и kwargs\n",
    "func = lambda *args: sum(args)\n",
    "print(func(1, 2, 3, 4))"
   ]
  },
  {
   "cell_type": "markdown",
   "metadata": {
    "colab_type": "text",
    "id": "MkL62azYwhWR"
   },
   "source": [
    "Как правило, lambda-выражения используются при вызове функций (или классов), которые принимают функцию в качестве аргумента.\n",
    "\n",
    "К примеру, встроенная функция сортировки Python принимает функцию в качестве правила, по которому нужно сортировать объекты. Эта ключевая функция использует для вычисления сравнительного ключа при определении порядка сортировки элементов."
   ]
  },
  {
   "cell_type": "code",
   "execution_count": 16,
   "metadata": {
    "colab": {
     "base_uri": "https://localhost:8080/",
     "height": 34
    },
    "colab_type": "code",
    "executionInfo": {
     "elapsed": 1117,
     "status": "ok",
     "timestamp": 1575292758798,
     "user": {
      "displayName": "Надежда Демиденко",
      "photoUrl": "https://lh3.googleusercontent.com/a-/AAuE7mA6D7k5OgtG9hzPe8Abs8DfOKAXQoTXaPfn7EY=s64",
      "userId": "05224310221243935536"
     },
     "user_tz": -180
    },
    "id": "Si3CQthew6u4",
    "outputId": "9b770a19-c753-4e90-9a79-5cf44b2eb7b2"
   },
   "outputs": [
    {
     "name": "stdout",
     "output_type": "stream",
     "text": [
      "['cyan', 'Goldenrod', 'purple', 'Salmon', 'turquoise']\n"
     ]
    }
   ],
   "source": [
    "colors = [\"Goldenrod\", \"purple\", \"Salmon\", \"turquoise\", \"cyan\"]\n",
    "\n",
    "# сравниваем объекты так, как будто все строки приведены к нижнему регистру\n",
    "print(sorted(colors, key=lambda s: s.lower()))"
   ]
  },
  {
   "cell_type": "markdown",
   "metadata": {},
   "source": [
    "# Задание\n",
    "\n",
    "В этом уроке предусмотрено 3 задания. Вы можете найти их в контесте:\n",
    "- Функции. Аргументы 1\n",
    "- Функции. Аргументы 2\n",
    "- Функции. Переиспользование кода"
   ]
  },
  {
   "cell_type": "code",
   "execution_count": null,
   "metadata": {},
   "outputs": [],
   "source": [
    "def gift_count(budget, month, birthdays):\n",
    "    birth = []\n",
    "    for key, value in birthdays.items():\n",
    "        if value.month == month:\n",
    "            birth.append(key + f' ({value})')\n",
    "    return f'Именинники в месяце {month}: ' + ', '.join(birth) + f'. При бюджете {budget} они получат по {budget // len(birthdays)} рублей.'"
   ]
  },
  {
   "cell_type": "code",
   "execution_count": null,
   "metadata": {},
   "outputs": [],
   "source": [
    "def lists_sum(*args, unique=False):\n",
    "    return sum(set(sum(args, start=[]))) if unique else sum(map(sum, args))"
   ]
  },
  {
   "cell_type": "code",
   "execution_count": null,
   "metadata": {},
   "outputs": [],
   "source": [
    "def get_balance(name, transactions):\n",
    "    sum = 0\n",
    "    for d in transactions:\n",
    "        if list(d.values())[0] == name:\n",
    "            sum += list(d.values())[-1]\n",
    "    return sum\n",
    "\n",
    "def count_debts(names, amount, transactions):\n",
    "    dirt = {}\n",
    "    for name in names:\n",
    "        dirt[name] = amount - get_balance(name, transactions) if amount - get_balance(name, transactions) > 0 else 0\n",
    "    return dirt\n"
   ]
  }
 ],
 "metadata": {
  "colab": {
   "name": "topic06.ipynb",
   "provenance": []
  },
  "interpreter": {
   "hash": "aee8b7b246df8f9039afb4144a1f6fd8d2ca17a180786b69acc140d282b71a49"
  },
  "kernelspec": {
   "display_name": "Python 3.7.9 64-bit",
   "language": "python",
   "name": "python3"
  },
  "language_info": {
   "codemirror_mode": {
    "name": "ipython",
    "version": 3
   },
   "file_extension": ".py",
   "mimetype": "text/x-python",
   "name": "python",
   "nbconvert_exporter": "python",
   "pygments_lexer": "ipython3",
   "version": "3.7.9"
  }
 },
 "nbformat": 4,
 "nbformat_minor": 1
}
