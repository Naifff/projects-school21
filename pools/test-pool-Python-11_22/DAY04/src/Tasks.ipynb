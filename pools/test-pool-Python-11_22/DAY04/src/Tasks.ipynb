{
 "cells": [
  {
   "cell_type": "markdown",
   "metadata": {},
   "source": [
    "# Задание 1"
   ]
  },
  {
   "cell_type": "code",
   "execution_count": null,
   "metadata": {},
   "outputs": [],
   "source": [
    "import json\n",
    "import datetime\n",
    "\n",
    "class Booking:\n",
    "\n",
    "    rooms = {\"Pulsare\" : None, \"Erewan\" : None, \"Oreon\" : None}\n",
    "\n",
    "    def __init__(self, room_name, start, end):\n",
    "        self.room_name = room_name\n",
    "        self.start = start\n",
    "        self.end = end\n",
    "        self.duration = end - start\n",
    "        self.start_date = datetime.datetime.strftime(start, \"%Y-%m-%d\")\n",
    "        self.end_date = datetime.datetime.strftime(end, \"%Y-%m-%d\")\n",
    "        self.start_time = datetime.datetime.strftime(start, \"%H-%M\")\n",
    "        self.end_time = datetime.datetime.strftime(end, \"%H-%M\")\n",
    "        if(end < start): raise ValueError(\"Конец бронирования не может быть меньше чем начало брони\")\n",
    "\n",
    "def register_booking(object):\n",
    "    if object.room_name not in object.rooms:\n",
    "        raise KeyError(f\"Переговорки с названием {object.room_name} нет в здании\")\n",
    "    else: \n",
    "        if (object.rooms[object.room_name] != None): \n",
    "            object.rooms[object.room_name] == 1\n",
    "            return True\n",
    "        else: return False\n",
    "\n",
    "def create_booking(room_name, start, end):\n",
    "    booking = Booking(room_name, start, end)\n",
    "    created = True\n",
    "    msg = \"Booking created\"\n",
    "    try:\n",
    "        print(\"Начинаем создание бронирования\")\n",
    "        result = register_booking(booking)\n",
    "    except KeyError:\n",
    "        created = False\n",
    "        msg = \"Room not found\"\n",
    "    except result == False:\n",
    "        created = False\n",
    "        msg = \"Room busy\"\n",
    "    finally:\n",
    "        print(\"Заканчиваем создание бронирования\")\n",
    "\n",
    "    \n",
    "\n",
    "    return json.dumps(\n",
    "        {\n",
    "        \"created\": created,\n",
    "        \"msg\": msg,\n",
    "        \"booking\": {\n",
    "            \"room_name\": booking.room_name,\n",
    "            \"start_date\": booking.start_date,\n",
    "            \"start_time\": booking.start_time,\n",
    "            \"end_date\": booking.end_date,\n",
    "            \"end_time\": booking.end_time,\n",
    "            \"duration\": 75\n",
    "  }\n",
    "}, indent = 4)\n",
    "\n",
    "for i in range(1, 11):\n",
    "\tresult = create_booking(\n",
    "    \t\"Erewan\",\n",
    "\t\tdatetime.datetime(2022, 9, 1, 14),\n",
    "\t    datetime.datetime(2022, 9, 1, 15, 15)\n",
    "\t)"
   ]
  },
  {
   "cell_type": "markdown",
   "metadata": {},
   "source": [
    "# Задание 2"
   ]
  },
  {
   "cell_type": "code",
   "execution_count": 19,
   "metadata": {},
   "outputs": [
    {
     "name": "stdout",
     "output_type": "stream",
     "text": [
      "b'\\x80\\x03crequests.models\\nResponse\\nq\\x00)\\x81q\\x01}q\\x02(X\\x08\\x00\\x00\\x00_contentq\\x03C\\x00q\\x04X\\x0b\\x00\\x00\\x00status_codeq\\x05K\\xc8X\\x07\\x00\\x00\\x00headersq\\x06crequests.structures\\nCaseInsensitiveDict\\nq\\x07)\\x81q\\x08}q\\tX\\x06\\x00\\x00\\x00_storeq\\nccollections\\nOrderedDict\\nq\\x0b)Rq\\x0c(X\\x06\\x00\\x00\\x00serverq\\rX\\x06\\x00\\x00\\x00Serverq\\x0eX\\x05\\x00\\x00\\x00nginxq\\x0f\\x86q\\x10X\\x0c\\x00\\x00\\x00content-typeq\\x11X\\x0c\\x00\\x00\\x00Content-Typeq\\x12X\\x19\\x00\\x00\\x00text/plain; charset=UTF-8q\\x13\\x86q\\x14X\\x11\\x00\\x00\\x00transfer-encodingq\\x15X\\x11\\x00\\x00\\x00Transfer-Encodingq\\x16X\\x07\\x00\\x00\\x00chunkedq\\x17\\x86q\\x18X\\x04\\x00\\x00\\x00varyq\\x19X\\x04\\x00\\x00\\x00Varyq\\x1aX\\x0f\\x00\\x00\\x00Accept-Encodingq\\x1b\\x86q\\x1cX\\x0c\\x00\\x00\\x00x-request-idq\\x1dX\\x0c\\x00\\x00\\x00X-Request-Idq\\x1eX$\\x00\\x00\\x00cd4a9bf4-0873-435a-ab54-544d5bb5743aq\\x1f\\x86q X\\n\\x00\\x00\\x00x-token-idq!X\\n\\x00\\x00\\x00X-Token-Idq\"X$\\x00\\x00\\x003bffb67f-e053-484b-b704-73ea4daecfb6q#\\x86q$X\\r\\x00\\x00\\x00cache-controlq%X\\r\\x00\\x00\\x00Cache-Controlq&X\\x11\\x00\\x00\\x00no-cache, privateq\\'\\x86q(X\\x04\\x00\\x00\\x00dateq)X\\x04\\x00\\x00\\x00Dateq*X\\x1d\\x00\\x00\\x00Fri, 02 Dec 2022 10:20:22 GMTq+\\x86q,X\\x10\\x00\\x00\\x00content-encodingq-X\\x10\\x00\\x00\\x00Content-Encodingq.X\\x04\\x00\\x00\\x00gzipq/\\x86q0usbX\\x03\\x00\\x00\\x00urlq1X9\\x00\\x00\\x00https://webhook.site/3bffb67f-e053-484b-b704-73ea4daecfb6q2X\\x07\\x00\\x00\\x00historyq3]q4X\\x08\\x00\\x00\\x00encodingq5X\\x05\\x00\\x00\\x00UTF-8q6X\\x06\\x00\\x00\\x00reasonq7X\\x02\\x00\\x00\\x00OKq8X\\x07\\x00\\x00\\x00cookiesq9crequests.cookies\\nRequestsCookieJar\\nq:)\\x81q;}q<(X\\x07\\x00\\x00\\x00_policyq=chttp.cookiejar\\nDefaultCookiePolicy\\nq>)\\x81q?}q@(X\\x08\\x00\\x00\\x00netscapeqA\\x88X\\x07\\x00\\x00\\x00rfc2965qB\\x89X\\x13\\x00\\x00\\x00rfc2109_as_netscapeqCNX\\x0c\\x00\\x00\\x00hide_cookie2qD\\x89X\\r\\x00\\x00\\x00strict_domainqE\\x89X\\x1b\\x00\\x00\\x00strict_rfc2965_unverifiableqF\\x88X\\x16\\x00\\x00\\x00strict_ns_unverifiableqG\\x89X\\x10\\x00\\x00\\x00strict_ns_domainqHK\\x00X\\x1c\\x00\\x00\\x00strict_ns_set_initial_dollarqI\\x89X\\x12\\x00\\x00\\x00strict_ns_set_pathqJ\\x89X\\x10\\x00\\x00\\x00_blocked_domainsqK)X\\x10\\x00\\x00\\x00_allowed_domainsqLNX\\x04\\x00\\x00\\x00_nowqMJf\\xd1\\x89cubX\\x08\\x00\\x00\\x00_cookiesqN}qOhMJf\\xd1\\x89cubX\\x07\\x00\\x00\\x00elapsedqPcdatetime\\ntimedelta\\nqQK\\x00K\\x00J\\x03 \\x06\\x00\\x87qRRqSX\\x07\\x00\\x00\\x00requestqTcrequests.models\\nPreparedRequest\\nqU)\\x81qV}qW(X\\x06\\x00\\x00\\x00methodqXX\\x04\\x00\\x00\\x00POSTqYh1h2h\\x06h\\x07)\\x81qZ}q[h\\nh\\x0b)Rq\\\\(X\\n\\x00\\x00\\x00user-agentq]X\\n\\x00\\x00\\x00User-Agentq^X\\x16\\x00\\x00\\x00python-requests/2.28.1q_\\x86q`X\\x0f\\x00\\x00\\x00accept-encodingqaX\\x0f\\x00\\x00\\x00Accept-EncodingqbX\\r\\x00\\x00\\x00gzip, deflateqc\\x86qdX\\x06\\x00\\x00\\x00acceptqeX\\x06\\x00\\x00\\x00AcceptqfX\\x03\\x00\\x00\\x00*/*qg\\x86qhX\\n\\x00\\x00\\x00connectionqiX\\n\\x00\\x00\\x00ConnectionqjX\\n\\x00\\x00\\x00keep-aliveqk\\x86qlX\\x0e\\x00\\x00\\x00content-lengthqmX\\x0e\\x00\\x00\\x00Content-LengthqnX\\x04\\x00\\x00\\x001798qo\\x86qpusbhNh:)\\x81qq}qr(h=h>)\\x81qs}qt(hA\\x88hB\\x89hCNhD\\x89hE\\x89hF\\x88hG\\x89hHK\\x00hI\\x89hJ\\x89hK)hLNhMJe\\xd1\\x89cubhN}quhMJe\\xd1\\x89cubX\\x04\\x00\\x00\\x00bodyqvX\\x06\\x07\\x00\\x00{\\n    \"statistics\": [\\n        {\\n            \"id\": 1,\\n            \"username\": \"Bret\",\\n            \"email\": \"Sincere@april.biz\",\\n            \"posts\": 10,\\n            \"comments\": 0\\n        },\\n        {\\n            \"id\": 2,\\n            \"username\": \"Antonette\",\\n            \"email\": \"Shanna@melissa.tv\",\\n            \"posts\": 10,\\n            \"comments\": 0\\n        },\\n        {\\n            \"id\": 3,\\n            \"username\": \"Samantha\",\\n            \"email\": \"Nathan@yesenia.net\",\\n            \"posts\": 10,\\n            \"comments\": 0\\n        },\\n        {\\n            \"id\": 4,\\n            \"username\": \"Karianne\",\\n            \"email\": \"Julianne.OConner@kory.org\",\\n            \"posts\": 10,\\n            \"comments\": 0\\n        },\\n        {\\n            \"id\": 5,\\n            \"username\": \"Kamren\",\\n            \"email\": \"Lucio_Hettinger@annie.ca\",\\n            \"posts\": 10,\\n            \"comments\": 0\\n        },\\n        {\\n            \"id\": 6,\\n            \"username\": \"Leopoldo_Corkery\",\\n            \"email\": \"Karley_Dach@jasper.info\",\\n            \"posts\": 10,\\n            \"comments\": 0\\n        },\\n        {\\n            \"id\": 7,\\n            \"username\": \"Elwyn.Skiles\",\\n            \"email\": \"Telly.Hoeger@billy.biz\",\\n            \"posts\": 10,\\n            \"comments\": 0\\n        },\\n        {\\n            \"id\": 8,\\n            \"username\": \"Maxime_Nienow\",\\n            \"email\": \"Sherwood@rosamond.me\",\\n            \"posts\": 10,\\n            \"comments\": 0\\n        },\\n        {\\n            \"id\": 9,\\n            \"username\": \"Delphine\",\\n            \"email\": \"Chaim_McDermott@dana.io\",\\n            \"posts\": 10,\\n            \"comments\": 0\\n        },\\n        {\\n            \"id\": 10,\\n            \"username\": \"Moriah.Stanton\",\\n            \"email\": \"Rey.Padberg@karina.biz\",\\n            \"posts\": 10,\\n            \"comments\": 0\\n        }\\n    ]\\n}qwX\\x05\\x00\\x00\\x00hooksqx}qyX\\x08\\x00\\x00\\x00responseqz]q{sX\\x0e\\x00\\x00\\x00_body_positionq|Nubub.'\n"
     ]
    }
   ],
   "source": [
    "import requests\n",
    "import json\n",
    "import pickle\n",
    "\n",
    "def get_respons(BASE_URL, add_str):\n",
    "    return requests.get(BASE_URL + add_str).json()\n",
    "\n",
    "BASE_URL = \"https://jsonplaceholder.typicode.com/\"\n",
    "res = {}\n",
    "statistics = []\n",
    "\n",
    "response_users = get_respons(BASE_URL, \"users\")\n",
    "response_posts_users = get_respons(BASE_URL, \"posts\")\n",
    "response_comments_users = get_respons(BASE_URL, 'comments')\n",
    "\n",
    "for response_user in response_users:\n",
    "    statistics.append({'id': response_user['id'], \"username\": response_user['username'], \"email\": response_user['email'], \"posts\" : 0, \"comments\" : 0})\n",
    "\n",
    "for state in statistics:\n",
    "    for post in response_posts_users:\n",
    "        if post['userId'] == state['id']: state[\"posts\"] += 1\n",
    "    for comment in response_comments_users:\n",
    "        if comment['email'] == state['email']: state[\"comments\"] += 1\n",
    "\n",
    "res['statistics'] = statistics\n",
    "obj = json.dumps(res, indent=4, ensure_ascii=False)\n",
    "\n",
    "response = requests.post(\"https://webhook.site/3bffb67f-e053-484b-b704-73ea4daecfb6\", obj)\n",
    "with open(\"solution.pickle\", 'wb') as f: \n",
    "    pickle.dump(response, f)\n",
    "with open(\"solution.pickle\", 'rb') as f:\n",
    "    print(f.read())\n",
    "    "
   ]
  }
 ],
 "metadata": {
  "kernelspec": {
   "display_name": "Python 3",
   "language": "python",
   "name": "python3"
  },
  "language_info": {
   "codemirror_mode": {
    "name": "ipython",
    "version": 3
   },
   "file_extension": ".py",
   "mimetype": "text/x-python",
   "name": "python",
   "nbconvert_exporter": "python",
   "pygments_lexer": "ipython3",
   "version": "3.11.1"
  },
  "orig_nbformat": 4,
  "vscode": {
   "interpreter": {
    "hash": "251c5f4b778030d6c609d99aa17b4421361b674e64a57718eedff6c08a612b60"
   }
  }
 },
 "nbformat": 4,
 "nbformat_minor": 2
}
