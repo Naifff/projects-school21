{
 "cells": [
  {
   "cell_type": "markdown",
   "metadata": {
    "id": "KFPTxTbWf-sP",
    "pycharm": {
     "name": "#%% md\n"
    }
   },
   "source": [
    "# Проект - скрапер HTML-страниц\n",
    "\n",
    "Представим, что нам нужны некоторые данные, которые мы можем получить только с веб-страницы. То есть нет ни таблиц, ни файлов, ни архивов, ни баз данных, где они лежат, а есть только несколько веб-страниц, прямо на которых описаны эти данные. В этом случае нам нужно \"заскрапить\" (scrape) эти данные. Для этого существует библиотека Beautiful Soup.\n",
    "\n",
    "## Постановка задачи\n",
    "\n",
    "Мы напишем не только сам алгоритм скраппинга страницы, но и некоторые дополнительные классы, которые будет удобно использовать для сбора данных. Также продумаем единую точку входа в наш проект, чтобы им можно было удобно пользоваться.\n",
    "\n",
    "Архитектура модуля будет следующей. Структура файлов:\n",
    "\n",
    "    scraper\n",
    "    |- download.py\n",
    "    |- parse.py\n",
    "    |- data.py\n",
    "    |- __init__.py\n",
    "\n",
    "Таким образом, наш модуль будет разделен на 3 части: файл, в котором описана логика сохранения веб-страницы на локальный копьютер; файл, в котором описан класс-парсер скаченной страницы; а также файл, где будет описана работа с получившимися файлами. Также опишем файл `__init__.py`, в котором будут общие функции, которые помогут использовать весь наш модуль одной строчкой.\n",
    "\n",
    "### Почему такое странное название файла?\n",
    "\n",
    "В уроке про модули мы с вами узнали, что любой файл является модулем, который можно импортировать. Например, при такой структуре файлов:\n",
    "\n",
    "    |- a.py\n",
    "    |- b.py\n",
    "    \n",
    "в файле b.py допустим следующим импорт: `from a import *`, поскольку эти файлы лежат в одной папке. Если же файл a.py лежит в подпапке, т.е. вот так:\n",
    "\n",
    "    |- a_dir\n",
    "    |  |- a.py\n",
    "    |\n",
    "    |- b.py\n",
    "    \n",
    "то логично предположить, что код из него в b.py можно импортировать командой `from a_dir.a import *`, но не тут-то было. Дело в том, что папка в питоне является модулем, если в ней есть файл с названием `__init__.py`, иначе мы не можем взаимодействовать с кодом в этой папке из других модулей. Больше того, код, описанный в этом файле, будет доступен файлов, соседствующих с папкой, через команду `from a_dir import *`, и именно такой формат импорта мы будем считать самым удобным для пользователей нашего модуля.\n",
    "\n",
    "## Что будем скрапить?\n",
    "\n",
    "Это вам решать! Найдите любую страницу в интернете, где описаны какие-нибудь данные, и используйте их. В небольших примерах кода будем использовать данные о погоде в Мурманске с сайта [Метеоновости](http://www.hmn.ru/index.php?index=8&value=22113&tz=3&start=2022-11-20&fin=2022-11-28&x=10&y=5).\n",
    "\n",
    "---\n",
    "\n",
    "Теперь опишем подробнее, что должно быть реализовано внутри каждого из этих файлов."
   ]
  },
  {
   "cell_type": "markdown",
   "metadata": {
    "id": "VxeYphiml8JV",
    "pycharm": {
     "name": "#%% md\n"
    }
   },
   "source": [
    "## 1. `download.py`\n",
    "\n",
    "Начнем с файла, в котором описано скачивание веб-страницы на локальный компьютер. Назовем класс-обертку для этого `Downloader`. Суть этого класса в том, что его объект должен содержать четыре вещи:\n",
    "\n",
    "- адрес страницы, которую мы скрапим;\n",
    "- параметры, которые мы подаем по этому адресу;\n",
    "- метод, которым мы обращаемся по адресу, чтобы получить страницу;\n",
    "- путь к файлу на локальном компьютере, в который будет сохранен исходный код веб-страницы.\n",
    "\n",
    "Таким образом, объекты этого класса должны иметь возможность следующего использования:"
   ]
  },
  {
   "cell_type": "code",
   "execution_count": null,
   "metadata": {
    "id": "tPh9DE9_d_Wx",
    "pycharm": {
     "name": "#%%\n"
    }
   },
   "outputs": [],
   "source": [
    "URL = \"http://www.hmn.ru/index.php\"      # тут используйте адрес вашего сайта\n",
    "PARAMS = {                               # эти параметры также индивидуальны для страницы, которую вы скрапите\n",
    "    \"index\": 8,\n",
    "    \"value\": 22113,\n",
    "    \"tz\": 3,\n",
    "    \"start\": \"2022-11-20\",\n",
    "    \"fin\": \"2022-11-28\",\n",
    "    \"x\": 10,\n",
    "    \"y\": 5,\n",
    "}\n",
    "FILE_PATH = \"weather.html\"               # используйте ваше название. Будет более понятно, если будете исполь-\n",
    "                                         # зовать расширение html, т.к. в этом файле будет код html-страницы\n",
    "\n",
    "downloader = Downloader(url=URL, params=PARAMS, method=\"GET\")\n",
    "downloader.get_html()       # этот метод возвращает строку с контентом, которую получил по запросу на URL\n",
    "downloader.save(FILE_PATH)  # метод сохраняет полученную строку в файл, путь к которому подается в аргументе"
   ]
  },
  {
   "cell_type": "markdown",
   "metadata": {
    "id": "IBI2cKTxYwoa",
    "pycharm": {
     "name": "#%% md\n"
    }
   },
   "source": [
    "## 2. `parse.py`\n",
    "\n",
    "После того, как мы скачали файл с исходным кодом веб-страницы, нам нужно выделить из него информацию. Исходный код страницы выглядит примерно так:\n",
    "\n",
    "    <html><head><title>Мурманск : архив погоды</title>\n",
    "      <link rel=\"stylesheet\" href=\"css/styles1.css\" type=\"text/css\">\n",
    "      <link rel=\"stylesheet\" href=\"css/clicktravel.css\" type=\"text/css\"><link rel=\"stylesheet\" href=\"css/weather.css\" type=\"text/css\"> <script async id=\"__lxGc__rtr\" type=\"text/javascript\" src=\"//s.clickiocdn.com/t/207129/360.js\"></script> \n",
    "      <script async type='text/javascript' src='//s.luxupcdnc.com/t/common_402.js'></script>\n",
    "    </head>\n",
    "    <body bgcolor=\"white\" topmargin=\"0\" marginheight=\"0\">\n",
    "      \n",
    "      <center><div id=\"counters\" style=\"position:absolute; display:none; width:1px; height:1px; z-index:-1\"><IMG SRC=\"http://ww.hmn.ru/counterdb.php?data=NS4yMjguODkuNzI/ISM1LjIyOC44OS43Mj8hI01vemlsbGEvNS4wIChNYWNpbnRvc2g7IEludGVsIE1hYyBPUyBYIDEwLjE1OyBydjo5Ny4wKSBHZWNrby8yMDEwMDEwMSBGaXJlZm94Lzk3LjA/ISM4PyEjaHR0cDovL3d3dy5obW4ucnUvaW5kZXgucGhwP2luZGV4PTgmdmFsdWU9MjIxMTM/ISMwPyEjMD8hIzEwPyEjMD8hIzIyMTEz\" width=1 height=1 border=0>        <img src=\"http://counter.rambler.ru/top100.cnt?319821\" alt=\"Rambler's Top100\" width=\"1\" height=\"1\" border=\"0\"></div><table width=\"790\" border=\"0\" cellspacing=\"0\" cellpadding=\"0\" height=\"38\" class=\"px_blue_fon\" style=\"margin:0px 0px 10px 0px;\">\n",
    "      <tr> \n",
    "        <td height=\"27\" > \n",
    "        <table border=\"0\" cellspacing=\"0\" cellpadding=\"3\" class=\"m12\" height=\"20\" width=\"100%\">\n",
    "          <tr> \n",
    "            <td align=\"right\" nowrap width=\"3%\"><img src=\"img/ico_top_travel.gif\" width=\"25\" height=\"25\" title=\"Каталог стран, городов, описание достопримечательностей, климат стран и городов мира, карты стран, поиск попутчиков, туристическая система поиска\"></td>\n",
    "            <td width=\"5%\" nowrap><a href=\"http://www.svali.ru\" class=\"imp\" target=\"_blank\"><b>Туризм</b><br>\n",
    "            <span class=\"m11\">Свали.ру</span></a></td>\n",
    "            <td align=\"right\" width=\"3%\" nowrap><img src=\"img/1px.gif\" width=\"5\" height=\"1\"><img src=\"img/ico_top_avia.gif\" width=\"25\" height=\"25\" title=\"Погода в аэропортах России и мира\"></td>\n",
    "            <td width=\"19%\" nowrap><a href=\"http://avia.meteonovosti.ru/\" class=\"imp\"><b>Погода в аэропортах</b><br>\n",
    "              <span class=\"m11\">риски задержки</span></a></td>\n",
    "    ...\n",
    "    \n",
    "Его вы можете посмотреть в браузере, щелкнув правой кнопкой мыши на странице и выбрав пункт контекстного меню Исходный код (или исходный код выделенного фрагмента). В Хроме также можно нажать Исследовать элемент.\n",
    "\n",
    "### Структура веб-страницы\n",
    "\n",
    "Вся веб-страница состоит из тегов - это слова, обернутые в треугольные скобки, например, `<title>` или `<div align=\"center\">` (во втором случае мы имеем тег с параметром). Эти теги описывают браузеру, как именно нужно отображать веб-страницу. Теги могут быть одинарными и двойными - внутрь блоков, которые описывают вторые, можно поместить какой-то еще контент. Закрывающий тег должен иметь тот же тип, что и открывающий, но начинаться с `/`. Пример тега с контентом и параметрами:\n",
    "\n",
    "    <td align=\"right\" width=\"3%\">Каталог стран, городов, описание достопримечательностей, климат стран и городов мира, карты стран, поиск попутчиков, туристическая система поиска</td>\n",
    "    \n",
    "В приведенном фрагменте описана ячейка таблицы, у которой параметрами заданы ширина и расположение, внутри которой написан текст \"Каталог стран...\". В подобных тегах и описываеся произвольная веб-страница, и вам нужно найти, в каком именно теге описан фрагмент данных, который нужно сохранить.\n",
    "\n",
    "Вообще, вся веб-страница делится на два блока: `<head> ... </head>` и `<body> ... </body>`. В первом описываются метаданные страницы, (например, что должно быть написано в названии вкладки и какие файлы со стилями подключать), а во втором располагается уже всё то, что мы видим на самой странице. Поэтому теги, содержащие нужные вам данные, нужно искать внутри блока body.\n",
    "\n",
    "### Вернемся к заданию\n",
    "\n",
    "Нужно описать класс Parser, который можно будет использовать следующим образом:"
   ]
  },
  {
   "cell_type": "code",
   "execution_count": null,
   "metadata": {
    "id": "o97nDm4Z3d-Q",
    "pycharm": {
     "name": "#%%\n"
    }
   },
   "outputs": [],
   "source": [
    "FILE_PATH = \"weather.html\"\n",
    "PARSED_FILE_PATH = \"weather.json\"\n",
    "\n",
    "\n",
    "parser = Parser(source=FILE_PATH)    # в конструкторе он принимает путь к файлу, сохраненному Downloader'ом\n",
    "\n",
    "parser.parse()                       # должен вернуться список или словарь данных, полученных из кода страницы\n",
    "parser.save(PARSED_FILE_PATH)        # сохраняет данные в виде json- или yaml-файла"
   ]
  },
  {
   "cell_type": "markdown",
   "metadata": {
    "id": "VqCRt-P9QW4f",
    "pycharm": {
     "name": "#%% md\n"
    }
   },
   "source": [
    "Внутри метода parse нужно использовать библиотеку Beautiful Soup. Документация по ней приведена [здесь](https://www.crummy.com/software/BeautifulSoup/bs4/doc/).\n",
    "\n",
    "Разберем небольшой пример, что можно сделать с использованием этой библиотеки в данных о погоде. Соберем данные со страницы http://www.hmn.ru/index.php?index=8&value=22113&tz=3&start=2022-11-20&fin=2022-11-28&x=10&y=5."
   ]
  },
  {
   "cell_type": "markdown",
   "metadata": {
    "id": "xNretQGqQW4f",
    "pycharm": {
     "name": "#%% md\n"
    }
   },
   "source": [
    "![%D0%A1%D0%BD%D0%B8%D0%BC%D0%BE%D0%BA%20%D1%8D%D0%BA%D1%80%D0%B0%D0%BD%D0%B0%202022-11-30%20%D0%B2%2004.03.05.png](attachment:%D0%A1%D0%BD%D0%B8%D0%BC%D0%BE%D0%BA%20%D1%8D%D0%BA%D1%80%D0%B0%D0%BD%D0%B0%202022-11-30%20%D0%B2%2004.03.05.png)"
   ]
  },
  {
   "cell_type": "markdown",
   "metadata": {
    "id": "oLFatYnAQW4f",
    "pycharm": {
     "name": "#%% md\n"
    }
   },
   "source": [
    "Нажмем на любое значение из таблицы правой кнопкой мыши и выберем Исследовать элемент. Поскольку значений в таблице много, нам ничего не даст использование какого-то конкретного элемента, поэтому найдем тег, в который обернут этот элемент - и в нашем случае это тег table с атрибутом `class=\"m80\"`. Посмотрим, сколько на странице содержится таблиц с таким же классом:"
   ]
  },
  {
   "cell_type": "code",
   "execution_count": null,
   "metadata": {
    "id": "44JgP9OsQW4g",
    "outputId": "f0d7fc0c-20cd-4ac0-81c7-1fd46c9f4b34",
    "pycharm": {
     "name": "#%%\n"
    }
   },
   "outputs": [
    {
     "data": {
      "text/plain": [
       "2"
      ]
     },
     "execution_count": 38,
     "metadata": {},
     "output_type": "execute_result"
    }
   ],
   "source": [
    "import bs4\n",
    "import re\n",
    "import requests\n",
    "\n",
    "web_page = requests.get(\n",
    "    \"http://www.hmn.ru/index.php?index=8&value=22113&tz=3&start=2022-11-20&fin=2022-11-28&x=10&y=5\",    \n",
    ").content  # сохранили код веб-страницы в переменную\n",
    "\n",
    "soup = bs4.BeautifulSoup(web_page, 'html.parser')    # создали объект супа\n",
    "len(soup.find_all(\"table\", attrs={\"class\": \"m80\"}))  # смотрим длину списка таблиц с таким классом"
   ]
  },
  {
   "cell_type": "markdown",
   "metadata": {
    "id": "MV1qMGkzQW4g",
    "pycharm": {
     "name": "#%% md\n"
    }
   },
   "source": [
    "Надо выбрать, какая из этих двух таблиц та самая. Пойдем с конца:"
   ]
  },
  {
   "cell_type": "code",
   "execution_count": null,
   "metadata": {
    "id": "si3qj1DVQW4g",
    "outputId": "577fc886-a96d-4d07-b51a-93d7fc9b634b",
    "pycharm": {
     "name": "#%%\n"
    }
   },
   "outputs": [
    {
     "data": {
      "text/plain": [
       "<table border=\"0\" cellpadding=\"0\" cellspacing=\"0\" class=\"m80\" style=\"margin-left:5px;\" width=\"400\">\n",
       "<tr>\n",
       "<td nowrap=\"\" width=\"3\"><img height=\"8\" src=\"img/1px.gif\" width=\"3\"/></td>\n",
       "<td class=\"menu_first_bot\" nowrap=\"\" width=\"1%\"><img height=\"8\" src=\"img/1px.gif\" width=\"6\"/></td>\n",
       "<td class=\"menu_fon_bot\" nowrap=\"\" valign=\"bottom\" width=\"98%\">\n",
       "<form action=\"index.php\" method=\"get\">\n",
       "<input name=\"index\" type=\"hidden\" value=\"8\"/>\n",
       "<input name=\"value\" type=\"hidden\" value=\"22113\"/>\n",
       "<input name=\"tz\" type=\"hidden\" value=\"3\"/>\n",
       "<table align=\"right\" border=\"0\" cellpadding=\"0\" cellspacing=\"0\" height=\"17\" width=\"100%\">\n",
       "<tr>\n",
       "<td align=\"center\" class=\"m75\" height=\"30\" nowrap=\"\" width=\"120\">\n",
       "<b class=\"imp\">Выбрать период с </b></td>\n",
       "<td class=\"m75\" height=\"21\" nowrap=\"\"><select class=\"m12\" name=\"start\"><option value=\"2022-11-21\">пн., ноя. 21</option><option value=\"2022-11-22\">вт., ноя. 22</option><option value=\"2022-11-23\">ср., ноя. 23</option><option value=\"2022-11-24\">чт., ноя. 24</option><option value=\"2022-11-25\">пт., ноя. 25</option><option value=\"2022-11-26\">сб., ноя. 26</option><option value=\"2022-11-27\">вс., ноя. 27</option><option value=\"2022-11-28\">пн., ноя. 28</option><option value=\"2022-11-29\">вт., ноя. 29</option><option value=\"2022-11-30\">ср., ноя. 30</option></select> <b class=\"imp\">по</b> <select class=\"m12\" name=\"fin\"><option value=\"2022-11-21\">пн., ноя. 21</option><option value=\"2022-11-22\">вт., ноя. 22</option><option value=\"2022-11-23\">ср., ноя. 23</option><option value=\"2022-11-24\">чт., ноя. 24</option><option value=\"2022-11-25\">пт., ноя. 25</option><option value=\"2022-11-26\">сб., ноя. 26</option><option value=\"2022-11-27\">вс., ноя. 27</option><option selected=\"\" value=\"2022-11-28\">пн., ноя. 28</option><option value=\"2022-11-29\">вт., ноя. 29</option><option value=\"2022-11-30\">ср., ноя. 30</option></select> </td>\n",
       "<td class=\"m75\" height=\"21\" width=\"42\">\n",
       "<div align=\"center\">\n",
       "<input border=\"0\" src=\"img/ok.gif\" type=\"image\"/>\n",
       "</div>\n",
       "</td>\n",
       "</tr>\n",
       "</table>\n",
       "</form>\n",
       "</td>\n",
       "<td class=\"menu_last_bot\" nowrap=\"\" width=\"7\"><img height=\"7\" src=\"img/1px.gif\" width=\"7\"/></td>\n",
       "</tr>\n",
       "</table>"
      ]
     },
     "execution_count": 21,
     "metadata": {},
     "output_type": "execute_result"
    }
   ],
   "source": [
    "soup.find_all(\"table\", attrs={\"class\": \"m80\"})[-1]"
   ]
  },
  {
   "cell_type": "markdown",
   "metadata": {
    "id": "KP91pAhwQW4h",
    "pycharm": {
     "name": "#%% md\n"
    }
   },
   "source": [
    "Здесь нет наших значений, поэтому будем работать с 0-й таблицей."
   ]
  },
  {
   "cell_type": "code",
   "execution_count": null,
   "metadata": {
    "scrolled": false,
    "id": "ldLSrfheQW4h",
    "outputId": "c90f7214-8cd4-4cbb-b001-2de7a1fbc3c0",
    "pycharm": {
     "name": "#%%\n"
    }
   },
   "outputs": [
    {
     "data": {
      "text/plain": [
       "[<tr align=\"center\" class=\"fon_gray_light\">\n",
       " <td class=\"m11\" width=\"15%\">Дата и время (местное)</td>\n",
       " <td class=\"m11\">Характер<br/>\n",
       "             погоды</td>\n",
       " <td class=\"m11\">Т<br/>\n",
       "             (<sup>o</sup>C)</td>\n",
       " <td class=\"m11\">Тd<br/>\n",
       "             (<sup>o</sup>C)</td>\n",
       " <td class=\"m11\">Отн.<br/>\n",
       "             влаж.<br/>\n",
       "             (%)</td>\n",
       " <td class=\"m11\">Атм.<br/>\n",
       "             давл.<br/>\n",
       "             (мм)</td>\n",
       " <td class=\"m11\">Ветер<br/>\n",
       "             (м/с)</td>\n",
       " <td class=\"m11\">Индекс<br/>\n",
       " <a href=\"index.php?index=14&amp;value=8\">комф.</a>,<br/>\n",
       " <a href=\"index.php?index=14&amp;value=13\">УФИ</a>\n",
       " </td>\n",
       " <td class=\"m11\" width=\"6%\">Кол-во<br/>\n",
       "             осад-<br/>\n",
       "             ков</td>\n",
       " <td class=\"m11\">Высота<br/>\n",
       "             снега (см)</td>\n",
       " </tr>,\n",
       " <tr>\n",
       " <td align=\"center\" class=\"m11\"><b>21:00</b><br/>28.11.2022г.</td>\n",
       " <td align=\"center\" class=\"m11\" valign=\"middle\"><img height=\"50\" src=\"img/signs/n108.gif\" title=\"пасмурно\" width=\"44\"/><br/>пасмурно</td>\n",
       " <td class=\"td11 temp_37\" nowrap=\"\"><span id=\"ceaf420\"></span></td>\n",
       " <td class=\"td11 temp_36\" nowrap=\"\"><span id=\"ceaf421\"></span></td>\n",
       " <td class=\"td11 rh_37\">83</td>\n",
       " <td class=\"td11 temp_38\">768</td>\n",
       " <td class=\"no_gap\" height=\"83\">\n",
       " <table cellspacing=\"0\" height=\"100%\" width=\"100%\"><tr height=\"50%\">\n",
       " <td class=\"td11 wind_180\" width=\"65%\">Ю</td>\n",
       " <td class=\"td11 ff_6\" width=\"35%\">6</td></tr>\n",
       " <tr height=\"50%\"><td class=\"td11 ff_5\" colspan=\"2\">порывы<br/>10</td></tr>\n",
       " </table>\n",
       " </td>\n",
       " <td align=\"center\" class=\"ff_6\"><div class=\"td11\">6</div><div class=\"uvi\"><font class=\"text-uvi\" color=\"grey\">0</font></div></td>\n",
       " <td class=\"td11\">0.0<div style=\"font-size: 9px\">\n",
       "             мм за<br/>12 ч</div></td>\n",
       " <td class=\"td11\"><span id=\"ceaf422\"></span></td></tr>,\n",
       " <tr height=\"50%\">\n",
       " <td class=\"td11 wind_180\" width=\"65%\">Ю</td>\n",
       " <td class=\"td11 ff_6\" width=\"35%\">6</td></tr>,\n",
       " <tr height=\"50%\"><td class=\"td11 ff_5\" colspan=\"2\">порывы<br/>10</td></tr>,\n",
       " <tr class=\"fon_gray_light\">\n",
       " <td align=\"center\" class=\"m11\"><b>18:00</b><br/>28.11.2022г.</td>\n",
       " <td align=\"center\" class=\"m11\" valign=\"middle\"><img height=\"50\" src=\"img/signs/n108.gif\" title=\"пасмурно\" width=\"44\"/><br/>пасмурно</td>\n",
       " <td class=\"td11 temp_37\" nowrap=\"\"><span id=\"ceaf423\"></span></td>\n",
       " <td class=\"td11 temp_36\" nowrap=\"\"><span id=\"ceaf424\"></span></td>\n",
       " <td class=\"td11 rh_37\">82</td>\n",
       " <td class=\"td11 temp_38\">768</td>\n",
       " <td class=\"no_gap\" height=\"83\">\n",
       " <table cellspacing=\"0\" height=\"100%\" width=\"100%\"><tr height=\"50%\">\n",
       " <td class=\"td11 wind_180\" width=\"65%\">Ю</td>\n",
       " <td class=\"td11 ff_5\" width=\"35%\">5</td></tr>\n",
       " <tr height=\"50%\"><td class=\"td11 ff_5\" colspan=\"2\">порывы<br/>9</td></tr>\n",
       " </table>\n",
       " </td>\n",
       " <td align=\"center\" class=\"ff_6\"><div class=\"td11\">6</div><div class=\"uvi\"><font class=\"text-uvi\" color=\"grey\">0</font></div></td>\n",
       " <td class=\"td11\">-</td>\n",
       " <td class=\"td11\"><span id=\"ceaf425\"></span></td></tr>,\n",
       " <tr height=\"50%\">\n",
       " <td class=\"td11 wind_180\" width=\"65%\">Ю</td>\n",
       " <td class=\"td11 ff_5\" width=\"35%\">5</td></tr>,\n",
       " <tr height=\"50%\"><td class=\"td11 ff_5\" colspan=\"2\">порывы<br/>9</td></tr>,\n",
       " <tr>\n",
       " <td align=\"center\" class=\"m11\"><b>15:00</b><br/>28.11.2022г.</td>\n",
       " <td align=\"center\" class=\"m11\" valign=\"middle\"><img height=\"50\" src=\"img/signs/n108.gif\" title=\"пасмурно\" width=\"44\"/><br/>пасмурно</td>\n",
       " <td class=\"td11 temp_37\" nowrap=\"\"><span id=\"ceaf426\"></span></td>\n",
       " <td class=\"td11 temp_36\" nowrap=\"\"><span id=\"ceaf427\"></span></td>\n",
       " <td class=\"td11 rh_37\">84</td>\n",
       " <td class=\"td11 temp_38\">768</td>\n",
       " <td class=\"no_gap\" height=\"83\">\n",
       " <table cellspacing=\"0\" height=\"100%\" width=\"100%\"><tr height=\"50%\">\n",
       " <td class=\"td11 wind_180\" width=\"65%\">Ю</td>\n",
       " <td class=\"td11 ff_4\" width=\"35%\">4</td></tr>\n",
       " <tr height=\"50%\"><td class=\"td11 ff_4\" colspan=\"2\">порывы<br/>7</td></tr>\n",
       " </table>\n",
       " </td>\n",
       " <td align=\"center\" class=\"ff_6\"><div class=\"td11\">6</div><div class=\"uvi\"><font class=\"text-uvi\" color=\"grey\">0</font></div></td>\n",
       " <td class=\"td11\">-</td>\n",
       " <td class=\"td11\"><span id=\"ceaf428\"></span></td></tr>,\n",
       " <tr height=\"50%\">\n",
       " <td class=\"td11 wind_180\" width=\"65%\">Ю</td>\n",
       " <td class=\"td11 ff_4\" width=\"35%\">4</td></tr>,\n",
       " <tr height=\"50%\"><td class=\"td11 ff_4\" colspan=\"2\">порывы<br/>7</td></tr>]"
      ]
     },
     "execution_count": 62,
     "metadata": {},
     "output_type": "execute_result"
    }
   ],
   "source": [
    "table = soup.find_all(\"table\", attrs={\"class\": \"m80\"})[0]\n",
    "\n",
    "# таблица имеет четкую структуру тегов tr и td, поэтому можем просто индексами выбрать нужную информацию\n",
    "table.find_all(\"tr\")[:10]"
   ]
  },
  {
   "cell_type": "code",
   "execution_count": null,
   "metadata": {
    "id": "132Y85kmQW4i",
    "outputId": "d0372ad1-6db9-464f-af01-e8359734ab29",
    "pycharm": {
     "name": "#%%\n"
    }
   },
   "outputs": [
    {
     "name": "stdout",
     "output_type": "stream",
     "text": [
      "('21:00', 'Ю')\n",
      "('18:00', 'Ю')\n",
      "('15:00', 'Ю')\n",
      "('12:00', 'Ю')\n",
      "('9:00', 'Ю')\n",
      "('6:00', 'Ю')\n",
      "('3:00', 'Ю')\n",
      "('00:00', 'Ю')\n",
      "('21:00', 'Ю')\n",
      "('18:00', 'Ю')\n",
      "('15:00', 'Ю')\n",
      "('12:00', 'Ю')\n",
      "('9:00', 'Ю')\n",
      "('6:00', 'Ю')\n",
      "('3:00', 'Ю')\n",
      "('00:00', 'Ю')\n",
      "('21:00', 'Ю')\n",
      "('18:00', 'Ю')\n",
      "('15:00', 'Ю')\n",
      "('12:00', 'Ю')\n",
      "('9:00', 'Ю')\n",
      "('6:00', 'Ю')\n",
      "('3:00', 'Ю')\n",
      "('00:00', 'Ю')\n",
      "('21:00', 'Ю')\n",
      "('18:00', 'Ю')\n",
      "('15:00', 'Ю')\n",
      "('12:00', 'Ю')\n",
      "('9:00', 'Ю')\n",
      "('6:00', 'Ю')\n",
      "('3:00', 'Ю')\n",
      "('00:00', 'Ю')\n",
      "('21:00', 'Ю')\n",
      "('18:00', 'Ю')\n",
      "('15:00', 'Ю')\n",
      "('12:00', 'Ю')\n",
      "('9:00', 'Ю')\n",
      "('6:00', 'Ю')\n",
      "('3:00', 'Ю')\n",
      "('00:00', 'ЮЗ')\n",
      "('21:00', 'Ю')\n",
      "('18:00', 'Ю')\n",
      "('15:00', 'Ю')\n",
      "('12:00', 'Ю')\n",
      "('9:00', 'Ю')\n",
      "('6:00', 'Ю')\n",
      "('3:00', 'Ю')\n",
      "('00:00', 'Ю')\n",
      "('21:00', 'Ю')\n",
      "('18:00', 'Ю')\n",
      "('15:00', 'Ю')\n",
      "('12:00', 'Ю')\n",
      "('9:00', 'Ю')\n",
      "('6:00', 'Ю')\n",
      "('3:00', 'Ю')\n",
      "('00:00', 'Ю')\n",
      "('21:00', 'Ю')\n",
      "('18:00', 'Ю')\n",
      "('15:00', 'Ю')\n",
      "('12:00', 'Ю')\n",
      "('9:00', 'Ю')\n"
     ]
    }
   ],
   "source": [
    "time = []                  # создадим список, где будут храниться все значения времени по порядку в таблице\n",
    "wind = []                  # а сюда будем добавлять направление ветра\n",
    "\n",
    "tr = table.tr              # первый тег tr - это заголовок таблицы, он нам не нужен, поэтому сразу переходим к\n",
    "                           # циклу, где ищем следующий соседний тег <tr>\n",
    "while tr.find_next_sibling(\"tr\"):  # если следующего тега нет, значит таблица кончилась, можно выходить из цикла\n",
    "    tr = tr.find_next_sibling(\"tr\")  # теперь tr - это следующий тег <tr> на странице\n",
    "                  \n",
    "    if tr.td.b is not None and tr.td[\"class\"][0] == \"m11\":  # последняя строка таблицы, оказывается, тоже содержит\n",
    "                                                            # тег <b>, поэтому еще и по классу будем фильтровать\n",
    "        time.extend(tr.td.b)          # дописываем время в список результатов времени, если мы оказались в той\n",
    "                                      # строке таблицы, где есть время (а таблица слегка криво построена)\n",
    "        wind.extend(tr.find_all(\"td\")[7])  # и в том же случае дописываем направление ветра\n",
    "        \n",
    "print(*zip(time, temperature), sep=\"\\n\")   # выведем результат на экран, объединив два списка в список кортежей"
   ]
  },
  {
   "cell_type": "markdown",
   "metadata": {
    "id": "C9q1Ay6ZryPW",
    "pycharm": {
     "name": "#%% md\n"
    }
   },
   "source": [
    "## 3. `data.py`\n",
    "\n",
    "С собранными и сохраненными данными нужно что-то делать. В этом файле опишите любые классы и функции, которые будут выдавать какие-то осмысленные результаты обработки собранных данных. Обязательно должна быть функция или метод класса, который считывает данные из json или yaml и поставляет их другим функциям/методам в виде питоновских объектов."
   ]
  },
  {
   "cell_type": "markdown",
   "metadata": {
    "id": "NyAnNMBNQW4i",
    "pycharm": {
     "name": "#%% md\n"
    }
   },
   "source": [
    "## 4. `__init__.py`\n",
    "\n",
    "Здесь опишем точку входа в наше приложение для потребителя. Опишите функцию process, которая будет принимать на вход адрес страницы, которую мы хотим заскрапить, опциональным аргументом путь к файлу, который будет хранить копию страницы на локальном компьютере, и еще одним опциональным аргументом - путь к файлу, куда мы сохраним результаты парсинга страницы. Возвращать эта функция должна результат исполнения какой-то части логики, описанной в data.py. Также в этом файле должны использоваться сущности из остальных наших файлов, соответственно, их нужно импортировать в начале файла."
   ]
  },
  {
   "cell_type": "code",
   "execution_count": null,
   "metadata": {
    "id": "AgYi1i--QW4i",
    "pycharm": {
     "name": "#%%\n"
    }
   },
   "outputs": [],
   "source": [
    "from download import Downloader\n",
    "from parser import Parser\n",
    "from data import some_logic\n",
    "\n",
    "def process(url, web_page_path=None, data_path=None):\n",
    "    downloader = Downloader(...)\n",
    "    ...\n",
    "    parser = Parser(...)\n",
    "    ...\n",
    "    data = ...\n",
    "    return some_logic(data)"
   ]
  }
 ],
 "metadata": {
  "colab": {
   "provenance": []
  },
  "kernelspec": {
   "display_name": "Python 3",
   "language": "python",
   "name": "python3"
  },
  "language_info": {
   "codemirror_mode": {
    "name": "ipython",
    "version": 3
   },
   "file_extension": ".py",
   "mimetype": "text/x-python",
   "name": "python",
   "nbconvert_exporter": "python",
   "pygments_lexer": "ipython3",
   "version": "3.8.5"
  }
 },
 "nbformat": 4,
 "nbformat_minor": 0
}